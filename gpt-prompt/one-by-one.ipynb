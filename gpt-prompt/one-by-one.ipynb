{
 "cells": [
  {
   "cell_type": "code",
   "execution_count": 14,
   "metadata": {},
   "outputs": [],
   "source": [
    "import json\n",
    "import openai\n",
    "import Levenshtein\n",
    "import itertools\n",
    "from time import sleep\n",
    "import os\n",
    "\n",
    "openai.organization = os.environ[\"OPENAI_ORG_KEY\"]\n",
    "openai.api_key = os.environ[\"OPENAI_API_KEY\"]"
   ]
  },
  {
   "cell_type": "code",
   "execution_count": 15,
   "metadata": {},
   "outputs": [],
   "source": [
    "acte = \"Le vingt-neuf mars mil neuf cent trente, onze heures vingt minutes ****\\ndevant Nous ont comparu publiquement en la maison commune: Albert VOLOVITSCH, commissionnaire\\nen marchandises, né à Saint Quentin (Aisne) le dix octobre mil huit cent quatre-vingt-six,\\nquarante-trois ans, domicilié à Paris, 40, rue des Martyrs; fils de Jules VOLOVITSCH et de * *\\nFanny LEWINSON, son épouse, décédés; d'une part ,/- ET Marguerite Célina MITTE, couturière,\\nnée à Choisy-le-Roi (Seine) le vingt-dis novembre mil huit cent quatre-vingt-treize, trente-\\nsix ans, domiciliée à Paris, 168, rue Saint Honoé; fille de Emile Henri Paul MITTE, chauffeur,\\net de Flore LEBEGUE, son épouse, sans profession, domiciliées à Choisy-le-Roi, 15, rue Passereau\\nd'autre part ;- aucune opposition n'existant. Les futurs époux déclarent qu'il n'a pas été\\nfait de contrat de mariage .- Albert VOLOVITSCH et Marguerite Célina MITTE ont déclaré l'un\\naprès l'autre vouloir se prendre pour époux et Nous avons prononcé au nom de la Loi qu'ils\\nsont unis par le mariage. En présence de: Hélène SCHEIMANN, sans profession, 7, rue\\nMontyon et de Auguste SEJOURNE peintre en batiment, croix de guerre, 21 ter, rue Emile\\nZola à Choisy-le-Roi (Seine) témoins majeurs, qui, lecture faite, ont signé avec les époux\\net Nous, Jean Joseph POULALION, Maire du Premier arrondissement de Paris, ChevaLier de la\\nLégion d'Honneur ./.\\n\\n\""
   ]
  },
  {
   "cell_type": "code",
   "execution_count": 30,
   "metadata": {},
   "outputs": [],
   "source": [
    "def get_answer(question):\n",
    "    for i in range(3):\n",
    "        try:\n",
    "            completion = openai.ChatCompletion.create(\n",
    "            model=\"gpt-3.5-turbo\",\n",
    "            temperature=0.6,\n",
    "            messages=[\n",
    "                {\"role\": \"user\", \"content\": \"Réponds à la question en suivant le formattage donné entre crochets. N'affiche rien d'autre.\\n\\n\" +acte + question,},\n",
    "            ]\n",
    "            )\n",
    "            break\n",
    "        except:\n",
    "            completion = None\n",
    "            print(\"Error while getting answer. Retry in 5 seconds\")\n",
    "            sleep(5)\n",
    "            continue\n",
    "\n",
    "    if completion is None:\n",
    "        print(\"Error while getting answer. Returning...\")\n",
    "        return None\n",
    "    answer = completion.choices[0].message['content']\n",
    "    return answer"
   ]
  },
  {
   "cell_type": "code",
   "execution_count": 21,
   "metadata": {},
   "outputs": [
    {
     "name": "stdout",
     "output_type": "stream",
     "text": [
      "29 mars 1930\n",
      "11 heures 20 minutes\n",
      "Albert VOLOVITSCH\n",
      "commissionnaire en marchandises\n",
      "[dix octobre mil huit cent quatre-vingt-six]\n",
      "[Saint Quentin (Aisne)]\n",
      "40 rue des Martyrs Paris\n",
      "Jules VOLOVITSCH\n",
      "commissionnaire en marchandises\n",
      "40 rue des Martyrs, Paris\n",
      "Fanny LEWINSON VOLOVITSCH.\n",
      "[non précisé dans le texte]\n",
      "Aucune information n'est donnée sur le lieu de résidence de la mère du mari.\n"
     ]
    }
   ],
   "source": [
    "print(get_answer(\"Quelle est la date du mariage ? format : [jour] [mois] [année]\"))\n",
    "print(get_answer(\"Quel est l'heure du mariage ? format : [heure] [minutes (optionnel)]\"))\n",
    "print(get_answer(\"Qui est le mari ? format : [prénoms] [nom]\"))\n",
    "print(get_answer(\"Quel est le métier du mari ? format : [métier]\"))\n",
    "print(get_answer(\"Quelle est la date de naissance du mari ? format : [jour] [mois] [année]\"))\n",
    "print(get_answer(\"Quel est le lieu de naissance du mari ? format : [ville] [département/pays (optionnel)]\"))\n",
    "print(get_answer(\"Quel est le lieu de résidence du mari ? format : [numero] [type de rue] [nom de rue] [ville] [département/pays (optionnel)]\"))\n",
    "print(get_answer(\"Qui est le père du mari ? format : [prénoms] [nom]\"))\n",
    "#profession pere mari\n",
    "print(get_answer(\"Quelle est la profession du père du mari ? format : [métier]\"))\n",
    "print(get_answer(\"Quel est le lieu de résidence du père du mari ? format : [numero] [type de rue] [nom de rue] [ville] [département/pays (optionnel)]\"))\n",
    "\n",
    "print(get_answer(\"Qui est la mère du mari ? format : [prénoms] [nom]\"))\n",
    "#profession pere mari\n",
    "print(get_answer(\"Quelle est la profession de la mère du mari ? format : [métier]\"))\n",
    "print(get_answer(\"Quel est le lieu de résidence de la mère du mari ? format : [numero] [type de rue] [nom de rue] [ville] [département/pays (optionnel)]\"))\n"
   ]
  },
  {
   "cell_type": "code",
   "execution_count": 31,
   "metadata": {},
   "outputs": [
    {
     "name": "stdout",
     "output_type": "stream",
     "text": [
      "[OUI / NON] Oui, le père de la mariée est décédé.\n",
      "False\n"
     ]
    }
   ],
   "source": [
    "print(get_answer(\"Le père de la mariée est-il décédé ?\"))\n",
    "print(get_answer(\"La mère de la mariée est-elle en vie ?  [True/False]\"))"
   ]
  },
  {
   "cell_type": "code",
   "execution_count": null,
   "metadata": {},
   "outputs": [],
   "source": []
  }
 ],
 "metadata": {
  "kernelspec": {
   "display_name": "Python 3",
   "language": "python",
   "name": "python3"
  },
  "language_info": {
   "codemirror_mode": {
    "name": "ipython",
    "version": 3
   },
   "file_extension": ".py",
   "mimetype": "text/x-python",
   "name": "python",
   "nbconvert_exporter": "python",
   "pygments_lexer": "ipython3",
   "version": "3.11.3"
  },
  "orig_nbformat": 4
 },
 "nbformat": 4,
 "nbformat_minor": 2
}
