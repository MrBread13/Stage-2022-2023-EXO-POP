{
 "cells": [
  {
   "cell_type": "code",
   "execution_count": 24,
   "metadata": {},
   "outputs": [],
   "source": [
    "import json\n",
    "import Levenshtein\n",
    "from typing import List, Dict, Tuple\n",
    "PER = ['Nom-','Prenom-','Age-']\n",
    "LOC = ['Ville-','Pays-','-rue-','Departement-']\n",
    "DATE = ['Jour-','Mois-','Annee-','Minute-','Heure-']\n",
    "JOB = ['Profession-']\n",
    "\n",
    "MERE_MARIEE = ['mere-mariee']\n",
    "PERE_MARIEE = ['pere-mariee']\n",
    "EX_EPOUX = ['ex-epoux','ex-epouse']\n",
    "PERE_MARI = ['pere-mari']\n",
    "MERE_MARI = ['mere-mari']\n",
    "ADMIN = ['mariage','maire']\n",
    "MARIEE = ['mariee']\n",
    "MARI = ['mari']\n",
    "TEMOIN = ['temoin']\n",
    "\n",
    "\n",
    "\n",
    "def f1_score (labels : dict, golden : dict, levenshtein_treshold : float) -> dict:\n",
    "    \"\"\"\n",
    "    Compute the F1 score for each entity type\n",
    "    :param labels: dict of labels\n",
    "    :param golden: dict of golden labels\n",
    "    :param levenshtein_treshold: treshold of the max ratio between the levenshtein distance and the length of the golden label to consider the label as correct\n",
    "    :return: dict of F1 scores\n",
    "    \"\"\"\n",
    "    f1_scores = {\n",
    "    'PER': {\n",
    "        'TOTAL': 0,\n",
    "        'FN': 0,\n",
    "        'FP': 0,\n",
    "        'PARTIAL': 0,\n",
    "        'TP': 0,\n",
    "        'MISS' : 0,\n",
    "        'TN' : 0\n",
    "    },\n",
    "    'LOC': {\n",
    "        'TN' : 0,\n",
    "        'TOTAL': 0,\n",
    "        'FN': 0,\n",
    "        'FP': 0,\n",
    "        'PARTIAL': 0,\n",
    "        'TP': 0,\n",
    "        'MISS' : 0\n",
    "    },\n",
    "    'DATE': {\n",
    "        'TN' : 0,\n",
    "        'TOTAL': 0,\n",
    "        'FN': 0,\n",
    "        'FP': 0,\n",
    "        'PARTIAL': 0,\n",
    "        'TP': 0,\n",
    "        'MISS' : 0\n",
    "    },\n",
    "    'JOB': {\n",
    "        'TN' : 0,\n",
    "        'TOTAL': 0,\n",
    "        'FN': 0,\n",
    "        'FP': 0,\n",
    "        'PARTIAL': 0,\n",
    "        'TP': 0,\n",
    "        'MISS' : 0\n",
    "\n",
    "    },\n",
    "    'MERE_MARIEE': {\n",
    "        'TN' : 0,\n",
    "        'TOTAL': 0,\n",
    "        'FN': 0,\n",
    "        'FP': 0,\n",
    "        'PARTIAL': 0,\n",
    "        'TP': 0,\n",
    "        'MISS' : 0,\n",
    "        'details' : {\n",
    "            'PER': {\n",
    "                'TOTAL': 0,\n",
    "                'FN': 0,\n",
    "                'FP': 0,\n",
    "                'PARTIAL': 0,\n",
    "                'TP': 0,\n",
    "                'MISS' : 0,\n",
    "                'TN' : 0\n",
    "            },\n",
    "            'LOC': {\n",
    "                'TN' : 0,\n",
    "                'TOTAL': 0,\n",
    "                'FN': 0,\n",
    "                'FP': 0,\n",
    "                'PARTIAL': 0,\n",
    "                'TP': 0,\n",
    "                'MISS' : 0\n",
    "            },\n",
    "            'DATE': {\n",
    "                'TN' : 0,\n",
    "                'TOTAL': 0,\n",
    "                'FN': 0,\n",
    "                'FP': 0,\n",
    "                'PARTIAL': 0,\n",
    "                'TP': 0,\n",
    "                'MISS' : 0\n",
    "            },\n",
    "            'JOB': {\n",
    "                'TN' : 0,\n",
    "                'TOTAL': 0,\n",
    "                'FN': 0,\n",
    "                'FP': 0,\n",
    "                'PARTIAL': 0,\n",
    "                'TP': 0,\n",
    "                'MISS' : 0\n",
    "            }\n",
    "        }\n",
    "    },\n",
    "    'PERE_MARIEE': {\n",
    "        'TN' : 0,\n",
    "        'TOTAL': 0,\n",
    "        'FN': 0,\n",
    "        'FP': 0,\n",
    "        'PARTIAL': 0,\n",
    "        'TP': 0,\n",
    "        'MISS' : 0,\n",
    "        'details' : {\n",
    "            'PER': {\n",
    "                'TOTAL': 0,\n",
    "                'FN': 0,\n",
    "                'FP': 0,\n",
    "                'PARTIAL': 0,\n",
    "                'TP': 0,\n",
    "                'MISS' : 0,\n",
    "                'TN' : 0\n",
    "            },\n",
    "            'LOC': {\n",
    "                'TN' : 0,\n",
    "                'TOTAL': 0,\n",
    "                'FN': 0,\n",
    "                'FP': 0,\n",
    "                'PARTIAL': 0,\n",
    "                'TP': 0,\n",
    "                'MISS' : 0\n",
    "            },\n",
    "            'DATE': {\n",
    "                'TN' : 0,\n",
    "                'TOTAL': 0,\n",
    "                'FN': 0,\n",
    "                'FP': 0,\n",
    "                'PARTIAL': 0,\n",
    "                'TP': 0,\n",
    "                'MISS' : 0\n",
    "            },\n",
    "            'JOB': {\n",
    "                'TN' : 0,\n",
    "                'TOTAL': 0,\n",
    "                'FN': 0,\n",
    "                'FP': 0,\n",
    "                'PARTIAL': 0,\n",
    "                'TP': 0,\n",
    "                'MISS' : 0\n",
    "            }\n",
    "        }\n",
    "    },\n",
    "    'EX_EPOUX': {\n",
    "        'TN' : 0,\n",
    "        'TOTAL': 0,\n",
    "        'FN': 0,\n",
    "        'FP': 0,\n",
    "        'PARTIAL': 0,\n",
    "        'TP': 0,\n",
    "        'MISS' : 0,\n",
    "        'details' : {\n",
    "            'PER': {\n",
    "                'TOTAL': 0,\n",
    "                'FN': 0,\n",
    "                'FP': 0,\n",
    "                'PARTIAL': 0,\n",
    "                'TP': 0,\n",
    "                'MISS' : 0,\n",
    "                'TN' : 0\n",
    "            },\n",
    "            'LOC': {\n",
    "                'TN' : 0,\n",
    "                'TOTAL': 0,\n",
    "                'FN': 0,\n",
    "                'FP': 0,\n",
    "                'PARTIAL': 0,\n",
    "                'TP': 0,\n",
    "                'MISS' : 0\n",
    "            },\n",
    "            'DATE': {\n",
    "                'TN' : 0,\n",
    "                'TOTAL': 0,\n",
    "                'FN': 0,\n",
    "                'FP': 0,\n",
    "                'PARTIAL': 0,\n",
    "                'TP': 0,\n",
    "                'MISS' : 0\n",
    "            },\n",
    "            'JOB': {\n",
    "                'TN' : 0,\n",
    "                'TOTAL': 0,\n",
    "                'FN': 0,\n",
    "                'FP': 0,\n",
    "                'PARTIAL': 0,\n",
    "                'TP': 0,\n",
    "                'MISS' : 0\n",
    "            }\n",
    "        }\n",
    "    },\n",
    "    'PERE_MARI': {\n",
    "        'TN' : 0,\n",
    "        'TOTAL': 0,\n",
    "        'FN': 0,\n",
    "        'FP': 0,\n",
    "        'PARTIAL': 0,\n",
    "        'TP': 0,\n",
    "        'MISS' : 0,\n",
    "        'details' : {\n",
    "            'PER': {\n",
    "                'TOTAL': 0,\n",
    "                'FN': 0,\n",
    "                'FP': 0,\n",
    "                'PARTIAL': 0,\n",
    "                'TP': 0,\n",
    "                'MISS' : 0,\n",
    "                'TN' : 0\n",
    "            },\n",
    "            'LOC': {\n",
    "                'TN' : 0,\n",
    "                'TOTAL': 0,\n",
    "                'FN': 0,\n",
    "                'FP': 0,\n",
    "                'PARTIAL': 0,\n",
    "                'TP': 0,\n",
    "                'MISS' : 0\n",
    "            },\n",
    "            'DATE': {\n",
    "                'TN' : 0,\n",
    "                'TOTAL': 0,\n",
    "                'FN': 0,\n",
    "                'FP': 0,\n",
    "                'PARTIAL': 0,\n",
    "                'TP': 0,\n",
    "                'MISS' : 0\n",
    "            },\n",
    "            'JOB': {\n",
    "                'TN' : 0,\n",
    "                'TOTAL': 0,\n",
    "                'FN': 0,\n",
    "                'FP': 0,\n",
    "                'PARTIAL': 0,\n",
    "                'TP': 0,\n",
    "                'MISS' : 0\n",
    "            }\n",
    "        }\n",
    "    },\n",
    "    'MERE_MARI': {\n",
    "        'TN' : 0,\n",
    "        'TOTAL': 0,\n",
    "        'FN': 0,\n",
    "        'FP': 0,\n",
    "        'PARTIAL': 0,\n",
    "        'TP': 0,\n",
    "        'MISS' : 0,\n",
    "        'details' : {\n",
    "            'PER': {\n",
    "                'TOTAL': 0,\n",
    "                'FN': 0,\n",
    "                'FP': 0,\n",
    "                'PARTIAL': 0,\n",
    "                'TP': 0,\n",
    "                'MISS' : 0,\n",
    "                'TN' : 0\n",
    "            },\n",
    "            'LOC': {\n",
    "                'TN' : 0,\n",
    "                'TOTAL': 0,\n",
    "                'FN': 0,\n",
    "                'FP': 0,\n",
    "                'PARTIAL': 0,\n",
    "                'TP': 0,\n",
    "                'MISS' : 0\n",
    "            },\n",
    "            'DATE': {\n",
    "                'TN' : 0,\n",
    "                'TOTAL': 0,\n",
    "                'FN': 0,\n",
    "                'FP': 0,\n",
    "                'PARTIAL': 0,\n",
    "                'TP': 0,\n",
    "                'MISS' : 0\n",
    "            },\n",
    "            'JOB': {\n",
    "                'TN' : 0,\n",
    "                'TOTAL': 0,\n",
    "                'FN': 0,\n",
    "                'FP': 0,\n",
    "                'PARTIAL': 0,\n",
    "                'TP': 0,\n",
    "                'MISS' : 0\n",
    "            }\n",
    "        }\n",
    "    },\n",
    "    'ADMIN': {\n",
    "        'TN' : 0,\n",
    "        'TOTAL': 0,\n",
    "        'FN': 0,\n",
    "        'FP': 0,\n",
    "        'PARTIAL': 0,\n",
    "        'TP': 0,\n",
    "        'MISS' : 0,\n",
    "        'details' : {\n",
    "            'PER': {\n",
    "                'TOTAL': 0,\n",
    "                'FN': 0,\n",
    "                'FP': 0,\n",
    "                'PARTIAL': 0,\n",
    "                'TP': 0,\n",
    "                'MISS' : 0,\n",
    "                'TN' : 0\n",
    "            },\n",
    "            'LOC': {\n",
    "                'TN' : 0,\n",
    "                'TOTAL': 0,\n",
    "                'FN': 0,\n",
    "                'FP': 0,\n",
    "                'PARTIAL': 0,\n",
    "                'TP': 0,\n",
    "                'MISS' : 0\n",
    "            },\n",
    "            'DATE': {\n",
    "                'TN' : 0,\n",
    "                'TOTAL': 0,\n",
    "                'FN': 0,\n",
    "                'FP': 0,\n",
    "                'PARTIAL': 0,\n",
    "                'TP': 0,\n",
    "                'MISS' : 0\n",
    "            },\n",
    "            'JOB': {\n",
    "                'TN' : 0,\n",
    "                'TOTAL': 0,\n",
    "                'FN': 0,\n",
    "                'FP': 0,\n",
    "                'PARTIAL': 0,\n",
    "                'TP': 0,\n",
    "                'MISS' : 0\n",
    "            }\n",
    "        }\n",
    "    },\n",
    "    'MARIEE': {\n",
    "        'TN' : 0,\n",
    "        'TOTAL': 0,\n",
    "        'FN': 0,\n",
    "        'FP': 0,\n",
    "        'PARTIAL': 0,\n",
    "        'TP': 0,\n",
    "        'MISS': 0,\n",
    "        'details' : {\n",
    "            'PER': {\n",
    "                'TOTAL': 0,\n",
    "                'FN': 0,\n",
    "                'FP': 0,\n",
    "                'PARTIAL': 0,\n",
    "                'TP': 0,\n",
    "                'MISS' : 0,\n",
    "                'TN' : 0\n",
    "            },\n",
    "            'LOC': {\n",
    "                'TN' : 0,\n",
    "                'TOTAL': 0,\n",
    "                'FN': 0,\n",
    "                'FP': 0,\n",
    "                'PARTIAL': 0,\n",
    "                'TP': 0,\n",
    "                'MISS' : 0\n",
    "            },\n",
    "            'DATE': {\n",
    "                'TN' : 0,\n",
    "                'TOTAL': 0,\n",
    "                'FN': 0,\n",
    "                'FP': 0,\n",
    "                'PARTIAL': 0,\n",
    "                'TP': 0,\n",
    "                'MISS' : 0\n",
    "            },\n",
    "            'JOB': {\n",
    "                'TN' : 0,\n",
    "                'TOTAL': 0,\n",
    "                'FN': 0,\n",
    "                'FP': 0,\n",
    "                'PARTIAL': 0,\n",
    "                'TP': 0,\n",
    "                'MISS' : 0\n",
    "            }\n",
    "        }\n",
    "    },\n",
    "    'MARI': {\n",
    "        'TN' : 0,\n",
    "        'TOTAL': 0,\n",
    "        'FN': 0,\n",
    "        'FP': 0,\n",
    "        'PARTIAL': 0,\n",
    "        'TP': 0,\n",
    "        'MISS': 0,\n",
    "        'details' : {\n",
    "            'PER': {\n",
    "                'TOTAL': 0,\n",
    "                'FN': 0,\n",
    "                'FP': 0,\n",
    "                'PARTIAL': 0,\n",
    "                'TP': 0,\n",
    "                'MISS' : 0,\n",
    "                'TN' : 0\n",
    "            },\n",
    "            'LOC': {\n",
    "                'TN' : 0,\n",
    "                'TOTAL': 0,\n",
    "                'FN': 0,\n",
    "                'FP': 0,\n",
    "                'PARTIAL': 0,\n",
    "                'TP': 0,\n",
    "                'MISS' : 0\n",
    "            },\n",
    "            'DATE': {\n",
    "                'TN' : 0,\n",
    "                'TOTAL': 0,\n",
    "                'FN': 0,\n",
    "                'FP': 0,\n",
    "                'PARTIAL': 0,\n",
    "                'TP': 0,\n",
    "                'MISS' : 0\n",
    "            },\n",
    "            'JOB': {\n",
    "                'TN' : 0,\n",
    "                'TOTAL': 0,\n",
    "                'FN': 0,\n",
    "                'FP': 0,\n",
    "                'PARTIAL': 0,\n",
    "                'TP': 0,\n",
    "                'MISS' : 0\n",
    "            }\n",
    "        }\n",
    "    },\n",
    "    'TEMOIN': {\n",
    "        'TN' : 0,\n",
    "        'TOTAL': 0,\n",
    "        'FN': 0,\n",
    "        'FP': 0,\n",
    "        'PARTIAL': 0,\n",
    "        'TP': 0,\n",
    "        'MISS': 0,\n",
    "        'details' : {\n",
    "            'PER': {\n",
    "                'TOTAL': 0,\n",
    "                'FN': 0,\n",
    "                'FP': 0,\n",
    "                'PARTIAL': 0,\n",
    "                'TP': 0,\n",
    "                'MISS' : 0,\n",
    "                'TN' : 0\n",
    "            },\n",
    "            'LOC': {\n",
    "                'TN' : 0,\n",
    "                'TOTAL': 0,\n",
    "                'FN': 0,\n",
    "                'FP': 0,\n",
    "                'PARTIAL': 0,\n",
    "                'TP': 0,\n",
    "                'MISS' : 0\n",
    "            },\n",
    "            'DATE': {\n",
    "                'TN' : 0,\n",
    "                'TOTAL': 0,\n",
    "                'FN': 0,\n",
    "                'FP': 0,\n",
    "                'PARTIAL': 0,\n",
    "                'TP': 0,\n",
    "                'MISS' : 0\n",
    "            },\n",
    "            'JOB': {\n",
    "                'TN' : 0,\n",
    "                'TOTAL': 0,\n",
    "                'FN': 0,\n",
    "                'FP': 0,\n",
    "                'PARTIAL': 0,\n",
    "                'TP': 0,\n",
    "                'MISS' : 0\n",
    "            }\n",
    "        }\n",
    "    },\n",
    "    'TOTAL': 0,\n",
    "    'FN': 0,\n",
    "    'FP': 0,\n",
    "    'PARTIAL': 0,\n",
    "    'TP': 0,\n",
    "    'MISS': 0,\n",
    "    'TN' : 0\n",
    "}\n",
    "    \n",
    "    \n",
    "    for key in golden.keys():\n",
    "\n",
    "        if isinstance(golden[key], bool):\n",
    "            continue\n",
    "         \n",
    "        f1_scores['TOTAL'] += 1\n",
    "        #print(key)\n",
    "\n",
    "        emplacements = []\n",
    "        for i in PER :\n",
    "            if emplacements:\n",
    "                break\n",
    "            if i in key :\n",
    "                emplacements.append('PER')\n",
    "                break\n",
    "        for i in LOC :\n",
    "            if emplacements:\n",
    "                break\n",
    "            if i in key :\n",
    "                emplacements.append('LOC')\n",
    "                break\n",
    "        for i in DATE :\n",
    "            if emplacements:\n",
    "                break\n",
    "            if i in key :\n",
    "                emplacements.append('DATE')\n",
    "                break\n",
    "        for i in JOB :\n",
    "            if emplacements:\n",
    "                break\n",
    "            if i in key :\n",
    "                emplacements.append('JOB')\n",
    "                break\n",
    "\n",
    "        for i in MERE_MARIEE :\n",
    "            if len(emplacements) == 2 :\n",
    "                break\n",
    "            if i in key :\n",
    "                emplacements.append('MERE_MARIEE')\n",
    "                break\n",
    "        for i in PERE_MARIEE :\n",
    "            if len(emplacements) == 2 :\n",
    "                break\n",
    "            if i in key :\n",
    "                emplacements.append('PERE_MARIEE')\n",
    "                break\n",
    "        for i in EX_EPOUX :\n",
    "            if len(emplacements) == 2 :\n",
    "                break\n",
    "            if i in key :\n",
    "                emplacements.append('EX_EPOUX')\n",
    "                break\n",
    "        for i in PERE_MARI :\n",
    "            if len(emplacements) == 2 :\n",
    "                break\n",
    "            if i in key :\n",
    "                emplacements.append('PERE_MARI')\n",
    "                break\n",
    "        for i in MERE_MARI :\n",
    "            if len(emplacements) == 2 :\n",
    "                break\n",
    "            if i in key :\n",
    "                emplacements.append('MERE_MARI')\n",
    "                break\n",
    "        for i in ADMIN :\n",
    "            if len(emplacements) == 2 :\n",
    "                break\n",
    "            if i in key :\n",
    "                emplacements.append('ADMIN')\n",
    "                break\n",
    "        for i in MARIEE :\n",
    "            if len(emplacements) == 2 :\n",
    "                break\n",
    "            if i in key :\n",
    "                emplacements.append('MARIEE')\n",
    "                break\n",
    "        for i in MARI :\n",
    "            if len(emplacements) == 2 :\n",
    "                break\n",
    "            if i in key :\n",
    "                emplacements.append('MARI')\n",
    "                break\n",
    "        \n",
    "        for i in TEMOIN:\n",
    "            if len(emplacements) == 2:\n",
    "                break\n",
    "            if i in key :\n",
    "                emplacements.append('TEMOIN')\n",
    "                break\n",
    "        \n",
    "\n",
    "\n",
    "        #print(emplacements)\n",
    "\n",
    "        f1_scores[emplacements[0]]['TOTAL'] += 1\n",
    "        f1_scores[emplacements[1]]['TOTAL'] += 1\n",
    "        f1_scores[emplacements[1]]['details'][emplacements[0]]['TOTAL'] += 1\n",
    "        if key in labels.keys():\n",
    "\n",
    "            if not labels[key] and not golden[key]:\n",
    "                f1_scores[emplacements[0]]['TN'] += 1\n",
    "                f1_scores[emplacements[1]]['TN'] += 1\n",
    "                f1_scores[emplacements[1]]['details'][emplacements[0]]['TN'] += 1\n",
    "\n",
    "                f1_scores['TN'] += 1\n",
    "            \n",
    "            elif labels[key] == golden[key]:\n",
    "                f1_scores[emplacements[0]]['TP'] += 1\n",
    "                f1_scores[emplacements[1]]['TP'] += 1\n",
    "                f1_scores[emplacements[1]]['details'][emplacements[0]]['TP'] += 1\n",
    "\n",
    "                f1_scores['TP'] += 1\n",
    "\n",
    "            elif labels[key] and not golden[key]:\n",
    "                f1_scores[emplacements[0]]['FP'] += 1\n",
    "                f1_scores[emplacements[1]]['FP'] += 1\n",
    "                f1_scores[emplacements[1]]['details'][emplacements[0]]['FP'] += 1\n",
    "\n",
    "                f1_scores['FP'] += 1\n",
    "\n",
    "            elif not labels[key] and golden[key]:\n",
    "                f1_scores[emplacements[0]]['FN'] += 1\n",
    "                f1_scores[emplacements[1]]['FN'] += 1\n",
    "                f1_scores[emplacements[1]]['details'][emplacements[0]]['FN'] += 1\n",
    "                f1_scores['FN'] += 1\n",
    "            elif labels[key] != golden[key]:\n",
    "                if (Levenshtein.distance(labels[key], golden[key]) // len(golden[key])) < levenshtein_treshold:\n",
    "                    f1_scores[emplacements[0]]['PARTIAL'] += 1\n",
    "                    f1_scores[emplacements[1]]['PARTIAL'] += 1\n",
    "                    f1_scores[emplacements[1]]['details'][emplacements[0]]['PARTIAL'] += 1\n",
    "                    f1_scores['PARTIAL'] += 1\n",
    "                else:\n",
    "                    f1_scores[emplacements[0]]['MISS'] += 1\n",
    "                    f1_scores[emplacements[1]]['MISS'] += 1\n",
    "                    f1_scores[emplacements[1]]['details'][emplacements[0]]['MISS'] += 1\n",
    "                    f1_scores['MISS'] += 1\n",
    "        else:\n",
    "            f1_scores[emplacements[0]]['FN'] += 1\n",
    "            f1_scores[emplacements[1]]['FN'] += 1\n",
    "            f1_scores[emplacements[1]]['details'][emplacements[0]]['FN'] += 1\n",
    "            f1_scores['FN'] += 1\n",
    "\n",
    "    return f1_scores\n",
    "\n",
    "\n",
    "def test():\n",
    "    golden_set = {}\n",
    "    labels_set = {}\n",
    "\n",
    "    with open('donnees-test.json', 'r') as file:\n",
    "        golden_set = json.load(file)\n",
    "\n",
    "    with open('donnees-test-labels-gpt35.json', 'r') as file:\n",
    "        labels_set = json.load(file)\n",
    "\n",
    "    results = {}\n",
    "    for archive in golden_set.keys():\n",
    "        if archive not in labels_set.keys():\n",
    "            #print('Archive ' + archive + ' not found in labels_set')\n",
    "            continue\n",
    "\n",
    "        f1_scores = f1_score(labels_set[archive], golden_set[archive]['questions'], 0.5)\n",
    "        results[archive] = f1_scores\n",
    "    #print(results)\n",
    "\n",
    "    #dump json file\n",
    "    with open('results_extended.json', 'w') as file:\n",
    "        json.dump(results, file, indent=4)\n",
    "    #print('--------------------------------------------')\n",
    "\n",
    "\n",
    "def precision_recall(labels : dict, weight : float, count_tn : bool) -> dict:\n",
    "    scores = {}\n",
    "    for archive in labels.keys():\n",
    "        scores[archive] = { name :{'F1_strict' : 0, 'F1_weighted' : 0, 'F1_ok' : 0} for name in ['PER', 'LOC', 'DATE', 'JOB', 'MERE_MARIEE', 'PERE_MARIEE', 'EX_EPOUX', 'PERE_MARI', 'MERE_MARI', 'ADMIN', 'MARIEE', 'MARI', 'TEMOIN']}\n",
    "\n",
    "        if not count_tn:\n",
    "            for tag in scores[archive].keys():\n",
    "\n",
    "                \n",
    "                #strict mode\n",
    "                precision_strict = 0 if (labels[archive][tag]['TP'] + labels[archive][tag]['TN'] + labels[archive][tag]['FP'] + labels[archive][tag]['MISS'] + labels[archive][tag]['PARTIAL'] ) == 0 else (labels[archive][tag]['TP'] + labels[archive][tag]['TN'] / (labels[archive][tag]['TP'] + labels[archive][tag]['TN'] + labels[archive][tag]['FP'] + labels[archive][tag]['MISS'] + labels[archive][tag]['PARTIAL'] ))\n",
    "                recall_strict = 0 if (labels[archive][tag]['TP'] + labels[archive][tag]['TN'] + labels[archive][tag]['FN'] + labels[archive][tag]['MISS'] + labels[archive][tag]['PARTIAL'] ) == 0 else (labels[archive][tag]['TP'] + labels[archive][tag]['TN']  / (labels[archive][tag]['TP'] + labels[archive][tag]['TN'] + labels[archive][tag]['FN'] + labels[archive][tag]['MISS'] + labels[archive][tag]['PARTIAL'] ))\n",
    "                f1_strict = 0 if (precision_strict + recall_strict) == 0 else 2 * (precision_strict * recall_strict) / (precision_strict + recall_strict)\n",
    "\n",
    "                #weighted mode\n",
    "                precision_weighted = 0 if (labels[archive][tag]['TP'] + labels[archive][tag]['TN'] + labels[archive][tag]['FP'] + labels[archive][tag]['MISS'] + weight * labels[archive][tag]['PARTIAL'] ) == 0 else ((labels[archive][tag]['TP'] + labels[archive][tag]['TN'] + weight * labels[archive][tag]['PARTIAL'] )/ (labels[archive][tag]['TP'] + labels[archive][tag]['TN'] + labels[archive][tag]['FP'] + labels[archive][tag]['MISS'] + weight * labels[archive][tag]['PARTIAL'] ))\n",
    "                recall_weighted = 0 if (labels[archive][tag]['TP'] + labels[archive][tag]['TN'] + labels[archive][tag]['FN'] + labels[archive][tag]['MISS'] + weight * labels[archive][tag]['PARTIAL'] ) == 0 else ((labels[archive][tag]['TP'] + labels[archive][tag]['TN'] + weight * labels[archive][tag]['PARTIAL'])  / (labels[archive][tag]['TP'] + labels[archive][tag]['TN'] + labels[archive][tag]['FN'] + labels[archive][tag]['MISS'] + weight * labels[archive][tag]['PARTIAL'] ))\n",
    "                f1_weighted = 0 if (precision_weighted + recall_weighted) == 0 else 2 * (precision_weighted * recall_weighted) / (precision_weighted + recall_weighted)\n",
    "\n",
    "                #ok mode\n",
    "                precision_ok = 0 if (labels[archive][tag]['TP'] + labels[archive][tag]['TN'] + labels[archive][tag]['FP'] + labels[archive][tag]['MISS'] + labels[archive][tag]['PARTIAL'] ) == 0 else ((labels[archive][tag]['TP'] + labels[archive][tag]['TN'] + labels[archive][tag]['PARTIAL']) / (labels[archive][tag]['TP'] + labels[archive][tag]['TN'] + labels[archive][tag]['FP'] + labels[archive][tag]['MISS'] + labels[archive][tag]['PARTIAL'] ))\n",
    "                recall_ok = 0 if (labels[archive][tag]['TP'] + labels[archive][tag]['TN'] + labels[archive][tag]['FN'] + labels[archive][tag]['MISS'] + labels[archive][tag]['PARTIAL'] ) == 0 else ((labels[archive][tag]['TP'] + labels[archive][tag]['TN'] + labels[archive][tag]['PARTIAL'])  / (labels[archive][tag]['TP'] + labels[archive][tag]['TN'] + labels[archive][tag]['FN'] + labels[archive][tag]['MISS'] + labels[archive][tag]['PARTIAL'] ))\n",
    "                f1_ok = 0 if (precision_ok + recall_ok) == 0 else 2 * (precision_ok * recall_ok) / (precision_ok + recall_ok)\n",
    "\n",
    "                scores[archive][tag]['F1_strict'] = f1_strict\n",
    "                scores[archive][tag]['F1_weighted'] = f1_weighted\n",
    "                scores[archive][tag]['F1_ok'] = f1_ok\n",
    "\n",
    "            precision_strict = 0 if (labels[archive]['TP'] + labels[archive]['TN'] + labels[archive]['FP'] + labels[archive]['MISS'] + labels[archive]['PARTIAL'] ) == 0 else (labels[archive]['TP'] + labels[archive]['TN'] / (labels[archive]['TP'] + labels[archive]['TN'] + labels[archive]['FP'] + labels[archive]['MISS'] + labels[archive]['PARTIAL'] ))\n",
    "            recall_strict = 0 if (labels[archive]['TP'] + labels[archive]['TN'] + labels[archive]['FN'] + labels[archive]['MISS'] + labels[archive]['PARTIAL'] ) == 0 else (labels[archive]['TP'] + labels[archive]['TN']  / (labels[archive]['TP'] + labels[archive]['TN'] + labels[archive]['FN'] + labels[archive]['MISS'] + labels[archive]['PARTIAL'] ))\n",
    "            f1_strict = 0 if (precision_strict + recall_strict) == 0 else 2 * (precision_strict * recall_strict) / (precision_strict + recall_strict)\n",
    "\n",
    "            #weighted mode\n",
    "            precision_weighted = 0 if (labels[archive]['TP'] + labels[archive]['TN'] + labels[archive]['FP'] + labels[archive]['MISS'] + weight * labels[archive]['PARTIAL'] ) == 0 else ((labels[archive]['TP'] + labels[archive]['TN'] + weight * labels[archive]['PARTIAL']) / (labels[archive]['TP'] + labels[archive]['TN'] + labels[archive]['FP'] + labels[archive]['MISS'] + weight * labels[archive]['PARTIAL'] ))\n",
    "            recall_weighted = 0 if (labels[archive]['TP'] + labels[archive]['TN'] + labels[archive]['FN'] + labels[archive]['MISS'] + weight * labels[archive]['PARTIAL'] ) == 0 else ((labels[archive]['TP'] + labels[archive]['TN'] + weight * labels[archive]['PARTIAL'])  / (labels[archive]['TP'] + labels[archive]['TN'] + labels[archive]['FN'] + labels[archive]['MISS'] + weight * labels[archive]['PARTIAL'] ))\n",
    "            f1_weighted = 0 if (precision_weighted + recall_weighted) == 0 else 2 * (precision_weighted * recall_weighted) / (precision_weighted + recall_weighted)\n",
    "\n",
    "            #ok mode\n",
    "            precision_ok = 0 if (labels[archive]['TP'] + labels[archive]['TN'] + labels[archive]['FP'] + labels[archive]['MISS'] + labels[archive]['PARTIAL'] ) == 0 else ((labels[archive]['TP'] + labels[archive]['TN'] + labels[archive]['PARTIAL']) / (labels[archive]['TP'] + labels[archive]['TN'] + labels[archive]['FP'] + labels[archive]['MISS'] + labels[archive]['PARTIAL']))\n",
    "            recall_ok = 0 if (labels[archive]['TP'] + labels[archive]['TN'] + labels[archive]['FN'] + labels[archive]['MISS'] + labels[archive]['PARTIAL'] ) == 0 else ((labels[archive]['TP'] + labels[archive]['TN'] + labels[archive]['PARTIAL'])  / (labels[archive]['TP'] + labels[archive]['TN'] + labels[archive]['FN'] + labels[archive]['MISS'] + labels[archive]['PARTIAL'] ))\n",
    "            f1_ok = 0 if (precision_ok + recall_ok) == 0 else 2 * (precision_ok * recall_ok) / (precision_ok + recall_ok)\n",
    "\n",
    "            scores[archive]['F1_strict'] = f1_strict\n",
    "            scores[archive]['F1_weighted'] = f1_weighted\n",
    "            scores[archive]['F1_ok'] = f1_ok\n",
    "            #print(scores[archive]['F1_strict'], scores[archive]['F1_weighted'], scores[archive]['F1_ok'])\n",
    "\n",
    "        else:\n",
    "            for tag in scores[archive].keys():\n",
    "\n",
    "                print(tag)\n",
    "                #strict mode\n",
    "                precision_strict = 0 if (labels[archive][tag]['TP'] + labels[archive][tag]['TN'] + labels[archive][tag]['FP'] + labels[archive][tag]['MISS'] + labels[archive][tag]['PARTIAL'] ) == 0 else ((labels[archive][tag]['TP'] + labels[archive][tag]['TN']) / (labels[archive][tag]['TP'] + labels[archive][tag]['TN'] + labels[archive][tag]['FP'] + labels[archive][tag]['MISS'] + labels[archive][tag]['PARTIAL'] ))\n",
    "                recall_strict = 0 if (labels[archive][tag]['TP'] + labels[archive][tag]['TN'] + labels[archive][tag]['FN'] + labels[archive][tag]['MISS'] + labels[archive][tag]['PARTIAL'] ) == 0 else ((labels[archive][tag]['TP'] + labels[archive][tag]['TN'])  / (labels[archive][tag]['TP'] + labels[archive][tag]['TN'] + labels[archive][tag]['FN'] + labels[archive][tag]['MISS'] + labels[archive][tag]['PARTIAL'] ))\n",
    "                f1_strict = 0 if (precision_strict + recall_strict) == 0 else 2 * (precision_strict * recall_strict) / (precision_strict + recall_strict)\n",
    "\n",
    "                #weighted mode\n",
    "                precision_weighted = 0 if (labels[archive][tag]['TP'] + labels[archive][tag]['TN'] + labels[archive][tag]['FP'] + labels[archive][tag]['MISS'] + weight * labels[archive][tag]['PARTIAL'] ) == 0 else ((labels[archive][tag]['TP'] + labels[archive][tag]['TN'] + weight * labels[archive][tag]['PARTIAL'] )/ (labels[archive][tag]['TP'] + labels[archive][tag]['TN'] + labels[archive][tag]['FP'] + labels[archive][tag]['MISS'] + weight * labels[archive][tag]['PARTIAL'] ))\n",
    "                recall_weighted = 0 if (labels[archive][tag]['TP'] + labels[archive][tag]['TN'] + labels[archive][tag]['FN'] + labels[archive][tag]['MISS'] + weight * labels[archive][tag]['PARTIAL'] ) == 0 else ((labels[archive][tag]['TP'] + labels[archive][tag]['TN'] + weight * labels[archive][tag]['PARTIAL'])  / (labels[archive][tag]['TP'] + labels[archive][tag]['TN'] + labels[archive][tag]['FN'] + labels[archive][tag]['MISS'] + weight * labels[archive][tag]['PARTIAL'] ))\n",
    "                f1_weighted = 0 if (precision_weighted + recall_weighted) == 0 else 2 * (precision_weighted * recall_weighted) / (precision_weighted + recall_weighted)\n",
    "\n",
    "                #ok mode\n",
    "                precision_ok = 0 if (labels[archive][tag]['TP'] + labels[archive][tag]['TN'] + labels[archive][tag]['FP'] + labels[archive][tag]['MISS'] + labels[archive][tag]['PARTIAL'] ) == 0 else ((labels[archive][tag]['TP'] + labels[archive][tag]['TN'] + labels[archive][tag]['PARTIAL']) / (labels[archive][tag]['TP'] + labels[archive][tag]['TN'] + labels[archive][tag]['FP'] + labels[archive][tag]['MISS'] + labels[archive][tag]['PARTIAL'] ))\n",
    "                recall_ok = 0 if (labels[archive][tag]['TP'] + labels[archive][tag]['TN'] + labels[archive][tag]['FN'] + labels[archive][tag]['MISS'] + labels[archive][tag]['PARTIAL'] ) == 0 else ((labels[archive][tag]['TP'] + labels[archive][tag]['TN'] + labels[archive][tag]['PARTIAL'])  / (labels[archive][tag]['TP'] + labels[archive][tag]['TN'] + labels[archive][tag]['FN'] + labels[archive][tag]['MISS'] + labels[archive][tag]['PARTIAL'] ))\n",
    "                f1_ok = 0 if (precision_ok + recall_ok) == 0 else 2 * (precision_ok * recall_ok) / (precision_ok + recall_ok)\n",
    "\n",
    "                scores[archive][tag]['F1_strict'] = f1_strict\n",
    "                scores[archive][tag]['F1_weighted'] = f1_weighted\n",
    "                scores[archive][tag]['F1_ok'] = f1_ok\n",
    "\n",
    "            precision_strict = 0 if (labels[archive]['TP'] + labels[archive]['TN'] + labels[archive]['FP'] + labels[archive]['MISS'] + labels[archive]['PARTIAL'] ) == 0 else ((labels[archive]['TP'] + labels[archive]['TN']) / (labels[archive]['TP'] + labels[archive]['TN'] + labels[archive]['FP'] + labels[archive]['MISS'] + labels[archive]['PARTIAL'] ))\n",
    "            recall_strict = 0 if (labels[archive]['TP'] + labels[archive]['TN'] + labels[archive]['FN'] + labels[archive]['MISS'] + labels[archive]['PARTIAL'] ) == 0 else ((labels[archive]['TP'] + labels[archive]['TN'])  / (labels[archive]['TP'] + labels[archive]['TN'] + labels[archive]['FN'] + labels[archive]['MISS'] + labels[archive]['PARTIAL'] ))\n",
    "            f1_strict = 0 if (precision_strict + recall_strict) == 0 else 2 * (precision_strict * recall_strict) / (precision_strict + recall_strict)\n",
    "\n",
    "            #weighted mode\n",
    "            precision_weighted = 0 if (labels[archive]['TP'] + labels[archive]['TN'] + labels[archive]['FP'] + labels[archive]['MISS'] + weight * labels[archive]['PARTIAL'] ) == 0 else ((labels[archive]['TP'] + labels[archive]['TN'] + weight * labels[archive]['PARTIAL']) / (labels[archive]['TP'] + labels[archive]['TN'] + labels[archive]['FP'] + labels[archive]['MISS'] + weight * labels[archive]['PARTIAL'] ))\n",
    "            recall_weighted = 0 if (labels[archive]['TP'] + labels[archive]['TN'] + labels[archive]['FN'] + labels[archive]['MISS'] + weight * labels[archive]['PARTIAL'] ) == 0 else ((labels[archive]['TP'] + labels[archive]['TN'] + weight * labels[archive]['PARTIAL'])  / (labels[archive]['TP'] + labels[archive]['TN'] + labels[archive]['FN'] + labels[archive]['MISS'] + weight * labels[archive]['PARTIAL'] ))\n",
    "            f1_weighted = 0 if (precision_weighted + recall_weighted) == 0 else 2 * (precision_weighted * recall_weighted) / (precision_weighted + recall_weighted)\n",
    "\n",
    "            #ok mode\n",
    "            precision_ok = 0 if (labels[archive]['TP'] + labels[archive]['TN'] + labels[archive]['FP'] + labels[archive]['MISS'] + labels[archive]['PARTIAL'] ) == 0 else ((labels[archive]['TP'] + labels[archive]['TN'] + labels[archive]['PARTIAL']) / (labels[archive]['TP'] + labels[archive]['TN'] + labels[archive]['FP'] + labels[archive]['MISS'] + labels[archive]['PARTIAL']))\n",
    "            recall_ok = 0 if (labels[archive]['TP'] + labels[archive]['TN'] + labels[archive]['FN'] + labels[archive]['MISS'] + labels[archive]['PARTIAL'] ) == 0 else ((labels[archive]['TP'] + labels[archive]['TN'] + labels[archive]['PARTIAL'])  / (labels[archive]['TP'] + labels[archive]['TN'] + labels[archive]['FN'] + labels[archive]['MISS'] + labels[archive]['PARTIAL'] ))\n",
    "            f1_ok = 0 if (precision_ok + recall_ok) == 0 else 2 * (precision_ok * recall_ok) / (precision_ok + recall_ok)\n",
    "\n",
    "            scores[archive]['F1_strict'] = f1_strict\n",
    "            scores[archive]['F1_weighted'] = f1_weighted\n",
    "            scores[archive]['F1_ok'] = f1_ok\n",
    "            #print(scores[archive]['F1_strict'], scores[archive]['F1_weighted'], scores[archive]['F1_ok'])\n",
    "\n",
    "    return scores\n",
    "\n",
    "\n",
    "import plotly.graph_objects as go\n",
    "import plotly.express as px\n",
    "import pandas as pd\n",
    "\n",
    "def make_df(scores : dict):\n",
    "    #create a DataFrame\n",
    "    #Each line is an archive\n",
    "    #Index is the archive name\n",
    "\n",
    "\n",
    "    #Now append multi_index columns : \n",
    "    # 1st layer is : ['PER', 'LOC', 'DATE', 'JOB', 'MERE_MARIEE', 'PERE_MARIEE', 'EX_EPOUX', 'PERE_MARI', 'MERE_MARI', 'ADMIN', 'MARIEE', 'MARI', 'TEMOIN']\n",
    "    # 2nd layer is : ['F1_strict', 'F1_weighted', 'F1_ok']\n",
    "    #So we have 39 columns\n",
    "    #We need to create a MultiIndex\n",
    "    #Then we can append it to the DataFrame\n",
    "\n",
    "    #Create the MultiIndex\n",
    "    #First layer\n",
    "    first_layer = []\n",
    "    for tag in scores['archives_AD075EC_11M549_0094-right.png-0'].keys():\n",
    "        if tag == 'F1_strict' or tag == 'F1_weighted' or tag == 'F1_ok':\n",
    "            continue\n",
    "        first_layer.append(tag)\n",
    "\n",
    "    #Second layer\n",
    "    second_layer = ['F1_strict', 'F1_weighted', 'F1_ok']\n",
    "\n",
    "    #Create the MultiIndex\n",
    "    multi_index = pd.MultiIndex.from_product([first_layer, second_layer], names=['tag', 'F1'])\n",
    "    #print(multi_index)\n",
    "\n",
    "    #Create the DataFrame\n",
    "    df2 = pd.DataFrame(columns=multi_index)\n",
    "\n",
    "    #Fill the DataFrame\n",
    "    for archive in scores.keys():\n",
    "        for tag in scores[archive].keys():\n",
    "            if tag == 'F1_strict' or tag == 'F1_weighted' or tag == 'F1_ok':\n",
    "                continue\n",
    "            for f1 in scores[archive][tag].keys():\n",
    "                df2.loc[archive, (tag, f1)] = scores[archive][tag][f1]\n",
    "        for f1 in ['F1_strict', 'F1_weighted', 'F1_ok']:\n",
    "            df2.loc[archive, ('TOTAL', f1)] = scores[archive][f1]\n",
    "\n",
    "    return df2\n",
    " \n"
   ]
  },
  {
   "cell_type": "code",
   "execution_count": 26,
   "metadata": {},
   "outputs": [
    {
     "name": "stdout",
     "output_type": "stream",
     "text": [
      "PER\n",
      "LOC\n",
      "DATE\n",
      "JOB\n",
      "MERE_MARIEE\n",
      "PERE_MARIEE\n",
      "EX_EPOUX\n",
      "PERE_MARI\n",
      "MERE_MARI\n",
      "ADMIN\n",
      "MARIEE\n",
      "MARI\n",
      "TEMOIN\n",
      "PER\n",
      "LOC\n",
      "DATE\n",
      "JOB\n",
      "MERE_MARIEE\n",
      "PERE_MARIEE\n",
      "EX_EPOUX\n",
      "PERE_MARI\n",
      "MERE_MARI\n",
      "ADMIN\n",
      "MARIEE\n",
      "MARI\n",
      "TEMOIN\n",
      "PER\n",
      "LOC\n",
      "DATE\n",
      "JOB\n",
      "MERE_MARIEE\n",
      "PERE_MARIEE\n",
      "EX_EPOUX\n",
      "PERE_MARI\n",
      "MERE_MARI\n",
      "ADMIN\n",
      "MARIEE\n",
      "MARI\n",
      "TEMOIN\n",
      "PER\n",
      "LOC\n",
      "DATE\n",
      "JOB\n",
      "MERE_MARIEE\n",
      "PERE_MARIEE\n",
      "EX_EPOUX\n",
      "PERE_MARI\n",
      "MERE_MARI\n",
      "ADMIN\n",
      "MARIEE\n",
      "MARI\n",
      "TEMOIN\n",
      "PER\n",
      "LOC\n",
      "DATE\n",
      "JOB\n",
      "MERE_MARIEE\n",
      "PERE_MARIEE\n",
      "EX_EPOUX\n",
      "PERE_MARI\n",
      "MERE_MARI\n",
      "ADMIN\n",
      "MARIEE\n",
      "MARI\n",
      "TEMOIN\n",
      "PER\n",
      "LOC\n",
      "DATE\n",
      "JOB\n",
      "MERE_MARIEE\n",
      "PERE_MARIEE\n",
      "EX_EPOUX\n",
      "PERE_MARI\n",
      "MERE_MARI\n",
      "ADMIN\n",
      "MARIEE\n",
      "MARI\n",
      "TEMOIN\n",
      "PER\n",
      "LOC\n",
      "DATE\n",
      "JOB\n",
      "MERE_MARIEE\n",
      "PERE_MARIEE\n",
      "EX_EPOUX\n",
      "PERE_MARI\n",
      "MERE_MARI\n",
      "ADMIN\n",
      "MARIEE\n",
      "MARI\n",
      "TEMOIN\n",
      "PER\n",
      "LOC\n",
      "DATE\n",
      "JOB\n",
      "MERE_MARIEE\n",
      "PERE_MARIEE\n",
      "EX_EPOUX\n",
      "PERE_MARI\n",
      "MERE_MARI\n",
      "ADMIN\n",
      "MARIEE\n",
      "MARI\n",
      "TEMOIN\n",
      "PER\n",
      "LOC\n",
      "DATE\n",
      "JOB\n",
      "MERE_MARIEE\n",
      "PERE_MARIEE\n",
      "EX_EPOUX\n",
      "PERE_MARI\n",
      "MERE_MARI\n",
      "ADMIN\n",
      "MARIEE\n",
      "MARI\n",
      "TEMOIN\n",
      "PER\n",
      "LOC\n",
      "DATE\n",
      "JOB\n",
      "MERE_MARIEE\n",
      "PERE_MARIEE\n",
      "EX_EPOUX\n",
      "PERE_MARI\n",
      "MERE_MARI\n",
      "ADMIN\n",
      "MARIEE\n",
      "MARI\n",
      "TEMOIN\n",
      "PER\n",
      "LOC\n",
      "DATE\n",
      "JOB\n",
      "MERE_MARIEE\n",
      "PERE_MARIEE\n",
      "EX_EPOUX\n",
      "PERE_MARI\n",
      "MERE_MARI\n",
      "ADMIN\n",
      "MARIEE\n",
      "MARI\n",
      "TEMOIN\n",
      "PER\n",
      "LOC\n",
      "DATE\n",
      "JOB\n",
      "MERE_MARIEE\n",
      "PERE_MARIEE\n",
      "EX_EPOUX\n",
      "PERE_MARI\n",
      "MERE_MARI\n",
      "ADMIN\n",
      "MARIEE\n",
      "MARI\n",
      "TEMOIN\n",
      "PER\n",
      "LOC\n",
      "DATE\n",
      "JOB\n",
      "MERE_MARIEE\n",
      "PERE_MARIEE\n",
      "EX_EPOUX\n",
      "PERE_MARI\n",
      "MERE_MARI\n",
      "ADMIN\n",
      "MARIEE\n",
      "MARI\n",
      "TEMOIN\n",
      "PER\n",
      "LOC\n",
      "DATE\n",
      "JOB\n",
      "MERE_MARIEE\n",
      "PERE_MARIEE\n",
      "EX_EPOUX\n",
      "PERE_MARI\n",
      "MERE_MARI\n",
      "ADMIN\n",
      "MARIEE\n",
      "MARI\n",
      "TEMOIN\n",
      "PER\n",
      "LOC\n",
      "DATE\n",
      "JOB\n",
      "MERE_MARIEE\n",
      "PERE_MARIEE\n",
      "EX_EPOUX\n",
      "PERE_MARI\n",
      "MERE_MARI\n",
      "ADMIN\n",
      "MARIEE\n",
      "MARI\n",
      "TEMOIN\n",
      "PER\n",
      "LOC\n",
      "DATE\n",
      "JOB\n",
      "MERE_MARIEE\n",
      "PERE_MARIEE\n",
      "EX_EPOUX\n",
      "PERE_MARI\n",
      "MERE_MARI\n",
      "ADMIN\n",
      "MARIEE\n",
      "MARI\n",
      "TEMOIN\n",
      "PER\n",
      "LOC\n",
      "DATE\n",
      "JOB\n",
      "MERE_MARIEE\n",
      "PERE_MARIEE\n",
      "EX_EPOUX\n",
      "PERE_MARI\n",
      "MERE_MARI\n",
      "ADMIN\n",
      "MARIEE\n",
      "MARI\n",
      "TEMOIN\n",
      "PER\n",
      "LOC\n",
      "DATE\n",
      "JOB\n",
      "MERE_MARIEE\n",
      "PERE_MARIEE\n",
      "EX_EPOUX\n",
      "PERE_MARI\n",
      "MERE_MARI\n",
      "ADMIN\n",
      "MARIEE\n",
      "MARI\n",
      "TEMOIN\n",
      "PER\n",
      "LOC\n",
      "DATE\n",
      "JOB\n",
      "MERE_MARIEE\n",
      "PERE_MARIEE\n",
      "EX_EPOUX\n",
      "PERE_MARI\n",
      "MERE_MARI\n",
      "ADMIN\n",
      "MARIEE\n",
      "MARI\n",
      "TEMOIN\n",
      "PER\n",
      "LOC\n",
      "DATE\n",
      "JOB\n",
      "MERE_MARIEE\n",
      "PERE_MARIEE\n",
      "EX_EPOUX\n",
      "PERE_MARI\n",
      "MERE_MARI\n",
      "ADMIN\n",
      "MARIEE\n",
      "MARI\n",
      "TEMOIN\n",
      "PER\n",
      "LOC\n",
      "DATE\n",
      "JOB\n",
      "MERE_MARIEE\n",
      "PERE_MARIEE\n",
      "EX_EPOUX\n",
      "PERE_MARI\n",
      "MERE_MARI\n",
      "ADMIN\n",
      "MARIEE\n",
      "MARI\n",
      "TEMOIN\n",
      "PER\n",
      "LOC\n",
      "DATE\n",
      "JOB\n",
      "MERE_MARIEE\n",
      "PERE_MARIEE\n",
      "EX_EPOUX\n",
      "PERE_MARI\n",
      "MERE_MARI\n",
      "ADMIN\n",
      "MARIEE\n",
      "MARI\n",
      "TEMOIN\n",
      "PER\n",
      "LOC\n",
      "DATE\n",
      "JOB\n",
      "MERE_MARIEE\n",
      "PERE_MARIEE\n",
      "EX_EPOUX\n",
      "PERE_MARI\n",
      "MERE_MARI\n",
      "ADMIN\n",
      "MARIEE\n",
      "MARI\n",
      "TEMOIN\n",
      "PER\n",
      "LOC\n",
      "DATE\n",
      "JOB\n",
      "MERE_MARIEE\n",
      "PERE_MARIEE\n",
      "EX_EPOUX\n",
      "PERE_MARI\n",
      "MERE_MARI\n",
      "ADMIN\n",
      "MARIEE\n",
      "MARI\n",
      "TEMOIN\n",
      "PER\n",
      "LOC\n",
      "DATE\n",
      "JOB\n",
      "MERE_MARIEE\n",
      "PERE_MARIEE\n",
      "EX_EPOUX\n",
      "PERE_MARI\n",
      "MERE_MARI\n",
      "ADMIN\n",
      "MARIEE\n",
      "MARI\n",
      "TEMOIN\n",
      "PER\n",
      "LOC\n",
      "DATE\n",
      "JOB\n",
      "MERE_MARIEE\n",
      "PERE_MARIEE\n",
      "EX_EPOUX\n",
      "PERE_MARI\n",
      "MERE_MARI\n",
      "ADMIN\n",
      "MARIEE\n",
      "MARI\n",
      "TEMOIN\n",
      "PER\n",
      "LOC\n",
      "DATE\n",
      "JOB\n",
      "MERE_MARIEE\n",
      "PERE_MARIEE\n",
      "EX_EPOUX\n",
      "PERE_MARI\n",
      "MERE_MARI\n",
      "ADMIN\n",
      "MARIEE\n",
      "MARI\n",
      "TEMOIN\n",
      "PER\n",
      "LOC\n",
      "DATE\n",
      "JOB\n",
      "MERE_MARIEE\n",
      "PERE_MARIEE\n",
      "EX_EPOUX\n",
      "PERE_MARI\n",
      "MERE_MARI\n",
      "ADMIN\n",
      "MARIEE\n",
      "MARI\n",
      "TEMOIN\n",
      "PER\n",
      "LOC\n",
      "DATE\n",
      "JOB\n",
      "MERE_MARIEE\n",
      "PERE_MARIEE\n",
      "EX_EPOUX\n",
      "PERE_MARI\n",
      "MERE_MARI\n",
      "ADMIN\n",
      "MARIEE\n",
      "MARI\n",
      "TEMOIN\n",
      "PER\n",
      "LOC\n",
      "DATE\n",
      "JOB\n",
      "MERE_MARIEE\n",
      "PERE_MARIEE\n",
      "EX_EPOUX\n",
      "PERE_MARI\n",
      "MERE_MARI\n",
      "ADMIN\n",
      "MARIEE\n",
      "MARI\n",
      "TEMOIN\n",
      "PER\n",
      "LOC\n",
      "DATE\n",
      "JOB\n",
      "MERE_MARIEE\n",
      "PERE_MARIEE\n",
      "EX_EPOUX\n",
      "PERE_MARI\n",
      "MERE_MARI\n",
      "ADMIN\n",
      "MARIEE\n",
      "MARI\n",
      "TEMOIN\n",
      "PER\n",
      "LOC\n",
      "DATE\n",
      "JOB\n",
      "MERE_MARIEE\n",
      "PERE_MARIEE\n",
      "EX_EPOUX\n",
      "PERE_MARI\n",
      "MERE_MARI\n",
      "ADMIN\n",
      "MARIEE\n",
      "MARI\n",
      "TEMOIN\n",
      "PER\n",
      "LOC\n",
      "DATE\n",
      "JOB\n",
      "MERE_MARIEE\n",
      "PERE_MARIEE\n",
      "EX_EPOUX\n",
      "PERE_MARI\n",
      "MERE_MARI\n",
      "ADMIN\n",
      "MARIEE\n",
      "MARI\n",
      "TEMOIN\n",
      "PER\n",
      "LOC\n",
      "DATE\n",
      "JOB\n",
      "MERE_MARIEE\n",
      "PERE_MARIEE\n",
      "EX_EPOUX\n",
      "PERE_MARI\n",
      "MERE_MARI\n",
      "ADMIN\n",
      "MARIEE\n",
      "MARI\n",
      "TEMOIN\n",
      "PER\n",
      "LOC\n",
      "DATE\n",
      "JOB\n",
      "MERE_MARIEE\n",
      "PERE_MARIEE\n",
      "EX_EPOUX\n",
      "PERE_MARI\n",
      "MERE_MARI\n",
      "ADMIN\n",
      "MARIEE\n",
      "MARI\n",
      "TEMOIN\n",
      "PER\n",
      "LOC\n",
      "DATE\n",
      "JOB\n",
      "MERE_MARIEE\n",
      "PERE_MARIEE\n",
      "EX_EPOUX\n",
      "PERE_MARI\n",
      "MERE_MARI\n",
      "ADMIN\n",
      "MARIEE\n",
      "MARI\n",
      "TEMOIN\n"
     ]
    },
    {
     "data": {
      "text/html": [
       "<div>\n",
       "<style scoped>\n",
       "    .dataframe tbody tr th:only-of-type {\n",
       "        vertical-align: middle;\n",
       "    }\n",
       "\n",
       "    .dataframe tbody tr th {\n",
       "        vertical-align: top;\n",
       "    }\n",
       "\n",
       "    .dataframe thead tr th {\n",
       "        text-align: left;\n",
       "    }\n",
       "</style>\n",
       "<table border=\"1\" class=\"dataframe\">\n",
       "  <thead>\n",
       "    <tr>\n",
       "      <th>tag</th>\n",
       "      <th colspan=\"3\" halign=\"left\">PER</th>\n",
       "      <th colspan=\"3\" halign=\"left\">LOC</th>\n",
       "      <th colspan=\"3\" halign=\"left\">DATE</th>\n",
       "      <th>JOB</th>\n",
       "      <th>...</th>\n",
       "      <th>MARIEE</th>\n",
       "      <th colspan=\"3\" halign=\"left\">MARI</th>\n",
       "      <th colspan=\"3\" halign=\"left\">TEMOIN</th>\n",
       "      <th colspan=\"3\" halign=\"left\">TOTAL</th>\n",
       "    </tr>\n",
       "    <tr>\n",
       "      <th>F1</th>\n",
       "      <th>F1_strict</th>\n",
       "      <th>F1_weighted</th>\n",
       "      <th>F1_ok</th>\n",
       "      <th>F1_strict</th>\n",
       "      <th>F1_weighted</th>\n",
       "      <th>F1_ok</th>\n",
       "      <th>F1_strict</th>\n",
       "      <th>F1_weighted</th>\n",
       "      <th>F1_ok</th>\n",
       "      <th>F1_strict</th>\n",
       "      <th>...</th>\n",
       "      <th>F1_ok</th>\n",
       "      <th>F1_strict</th>\n",
       "      <th>F1_weighted</th>\n",
       "      <th>F1_ok</th>\n",
       "      <th>F1_strict</th>\n",
       "      <th>F1_weighted</th>\n",
       "      <th>F1_ok</th>\n",
       "      <th>F1_strict</th>\n",
       "      <th>F1_weighted</th>\n",
       "      <th>F1_ok</th>\n",
       "    </tr>\n",
       "  </thead>\n",
       "  <tbody>\n",
       "    <tr>\n",
       "      <th>archives_AD075EC_01M1930_0023-left.png-0</th>\n",
       "      <td>0.935484</td>\n",
       "      <td>1.0</td>\n",
       "      <td>1.0</td>\n",
       "      <td>0.925</td>\n",
       "      <td>0.925</td>\n",
       "      <td>0.925</td>\n",
       "      <td>1.0</td>\n",
       "      <td>1.0</td>\n",
       "      <td>1.0</td>\n",
       "      <td>0.875</td>\n",
       "      <td>...</td>\n",
       "      <td>1.0</td>\n",
       "      <td>0.9375</td>\n",
       "      <td>1.0</td>\n",
       "      <td>1.0</td>\n",
       "      <td>0.8</td>\n",
       "      <td>0.862069</td>\n",
       "      <td>0.866667</td>\n",
       "      <td>0.933333</td>\n",
       "      <td>0.966102</td>\n",
       "      <td>0.966667</td>\n",
       "    </tr>\n",
       "    <tr>\n",
       "      <th>archives_AD075EC_01M1930_0023-left.png-1</th>\n",
       "      <td>0.967742</td>\n",
       "      <td>1.0</td>\n",
       "      <td>1.0</td>\n",
       "      <td>0.97561</td>\n",
       "      <td>1.0</td>\n",
       "      <td>1.0</td>\n",
       "      <td>0.909091</td>\n",
       "      <td>1.0</td>\n",
       "      <td>1.0</td>\n",
       "      <td>0.75</td>\n",
       "      <td>...</td>\n",
       "      <td>1.0</td>\n",
       "      <td>0.875</td>\n",
       "      <td>1.0</td>\n",
       "      <td>1.0</td>\n",
       "      <td>1.0</td>\n",
       "      <td>1.0</td>\n",
       "      <td>1.0</td>\n",
       "      <td>0.945055</td>\n",
       "      <td>1.000000</td>\n",
       "      <td>1.000000</td>\n",
       "    </tr>\n",
       "    <tr>\n",
       "      <th>archives_AD075EC_01M1930_0023-left.png-2</th>\n",
       "      <td>0.862069</td>\n",
       "      <td>0.928571</td>\n",
       "      <td>0.931034</td>\n",
       "      <td>0.675676</td>\n",
       "      <td>0.722222</td>\n",
       "      <td>0.72973</td>\n",
       "      <td>1.0</td>\n",
       "      <td>1.0</td>\n",
       "      <td>1.0</td>\n",
       "      <td>0.875</td>\n",
       "      <td>...</td>\n",
       "      <td>0.827586</td>\n",
       "      <td>0.689655</td>\n",
       "      <td>0.884615</td>\n",
       "      <td>0.896552</td>\n",
       "      <td>0.714286</td>\n",
       "      <td>0.777778</td>\n",
       "      <td>0.785714</td>\n",
       "      <td>0.800000</td>\n",
       "      <td>0.854545</td>\n",
       "      <td>0.858824</td>\n",
       "    </tr>\n",
       "    <tr>\n",
       "      <th>archives_AD075EC_01M1930_0023-right.png-0</th>\n",
       "      <td>1.0</td>\n",
       "      <td>1.0</td>\n",
       "      <td>1.0</td>\n",
       "      <td>1.0</td>\n",
       "      <td>1.0</td>\n",
       "      <td>1.0</td>\n",
       "      <td>1.0</td>\n",
       "      <td>1.0</td>\n",
       "      <td>1.0</td>\n",
       "      <td>0.933333</td>\n",
       "      <td>...</td>\n",
       "      <td>1.0</td>\n",
       "      <td>1.0</td>\n",
       "      <td>1.0</td>\n",
       "      <td>1.0</td>\n",
       "      <td>1.0</td>\n",
       "      <td>1.0</td>\n",
       "      <td>1.0</td>\n",
       "      <td>0.994475</td>\n",
       "      <td>0.994475</td>\n",
       "      <td>0.994475</td>\n",
       "    </tr>\n",
       "    <tr>\n",
       "      <th>archives_AD075EC_01M1930_0023-right.png-1</th>\n",
       "      <td>0.967742</td>\n",
       "      <td>1.0</td>\n",
       "      <td>1.0</td>\n",
       "      <td>0.97561</td>\n",
       "      <td>1.0</td>\n",
       "      <td>1.0</td>\n",
       "      <td>1.0</td>\n",
       "      <td>1.0</td>\n",
       "      <td>1.0</td>\n",
       "      <td>0.875</td>\n",
       "      <td>...</td>\n",
       "      <td>1.0</td>\n",
       "      <td>0.875</td>\n",
       "      <td>1.0</td>\n",
       "      <td>1.0</td>\n",
       "      <td>1.0</td>\n",
       "      <td>1.0</td>\n",
       "      <td>1.0</td>\n",
       "      <td>0.967033</td>\n",
       "      <td>1.000000</td>\n",
       "      <td>1.000000</td>\n",
       "    </tr>\n",
       "    <tr>\n",
       "      <th>archives_AD075EC_01M1930_0023-right.png-2</th>\n",
       "      <td>0.967742</td>\n",
       "      <td>1.0</td>\n",
       "      <td>1.0</td>\n",
       "      <td>0.962963</td>\n",
       "      <td>0.9875</td>\n",
       "      <td>0.987654</td>\n",
       "      <td>0.909091</td>\n",
       "      <td>1.0</td>\n",
       "      <td>1.0</td>\n",
       "      <td>1.0</td>\n",
       "      <td>...</td>\n",
       "      <td>1.0</td>\n",
       "      <td>1.0</td>\n",
       "      <td>1.0</td>\n",
       "      <td>1.0</td>\n",
       "      <td>1.0</td>\n",
       "      <td>1.0</td>\n",
       "      <td>1.0</td>\n",
       "      <td>0.961326</td>\n",
       "      <td>0.994382</td>\n",
       "      <td>0.994475</td>\n",
       "    </tr>\n",
       "    <tr>\n",
       "      <th>archives_AD075EC_01M1940_0020-left.png-0</th>\n",
       "      <td>0.967742</td>\n",
       "      <td>1.0</td>\n",
       "      <td>1.0</td>\n",
       "      <td>0.962963</td>\n",
       "      <td>0.9875</td>\n",
       "      <td>0.987654</td>\n",
       "      <td>1.0</td>\n",
       "      <td>1.0</td>\n",
       "      <td>1.0</td>\n",
       "      <td>1.0</td>\n",
       "      <td>...</td>\n",
       "      <td>0.967742</td>\n",
       "      <td>0.9375</td>\n",
       "      <td>1.0</td>\n",
       "      <td>1.0</td>\n",
       "      <td>1.0</td>\n",
       "      <td>1.0</td>\n",
       "      <td>1.0</td>\n",
       "      <td>0.972376</td>\n",
       "      <td>0.994413</td>\n",
       "      <td>0.994475</td>\n",
       "    </tr>\n",
       "    <tr>\n",
       "      <th>archives_AD075EC_01M1940_0020-left.png-3</th>\n",
       "      <td>0.923077</td>\n",
       "      <td>0.923077</td>\n",
       "      <td>0.923077</td>\n",
       "      <td>0.885714</td>\n",
       "      <td>0.885714</td>\n",
       "      <td>0.885714</td>\n",
       "      <td>1.0</td>\n",
       "      <td>1.0</td>\n",
       "      <td>1.0</td>\n",
       "      <td>0.833333</td>\n",
       "      <td>...</td>\n",
       "      <td>1.0</td>\n",
       "      <td>1.0</td>\n",
       "      <td>1.0</td>\n",
       "      <td>1.0</td>\n",
       "      <td>0</td>\n",
       "      <td>0</td>\n",
       "      <td>0</td>\n",
       "      <td>0.910256</td>\n",
       "      <td>0.910256</td>\n",
       "      <td>0.910256</td>\n",
       "    </tr>\n",
       "    <tr>\n",
       "      <th>archives_AD075EC_01M1940_0020-right.png-0</th>\n",
       "      <td>0.872727</td>\n",
       "      <td>0.872727</td>\n",
       "      <td>0.872727</td>\n",
       "      <td>0.906667</td>\n",
       "      <td>0.906667</td>\n",
       "      <td>0.906667</td>\n",
       "      <td>1.0</td>\n",
       "      <td>1.0</td>\n",
       "      <td>1.0</td>\n",
       "      <td>0.857143</td>\n",
       "      <td>...</td>\n",
       "      <td>1.0</td>\n",
       "      <td>1.0</td>\n",
       "      <td>1.0</td>\n",
       "      <td>1.0</td>\n",
       "      <td>0</td>\n",
       "      <td>0</td>\n",
       "      <td>0</td>\n",
       "      <td>0.903614</td>\n",
       "      <td>0.903614</td>\n",
       "      <td>0.903614</td>\n",
       "    </tr>\n",
       "    <tr>\n",
       "      <th>archives_AD075EC_01M1940_0020-right.png-1</th>\n",
       "      <td>0.915254</td>\n",
       "      <td>0.948276</td>\n",
       "      <td>0.949153</td>\n",
       "      <td>0.938272</td>\n",
       "      <td>0.9625</td>\n",
       "      <td>0.962963</td>\n",
       "      <td>0.909091</td>\n",
       "      <td>1.0</td>\n",
       "      <td>1.0</td>\n",
       "      <td>0.875</td>\n",
       "      <td>...</td>\n",
       "      <td>1.0</td>\n",
       "      <td>0.875</td>\n",
       "      <td>1.0</td>\n",
       "      <td>1.0</td>\n",
       "      <td>0.9375</td>\n",
       "      <td>1.0</td>\n",
       "      <td>1.0</td>\n",
       "      <td>0.921348</td>\n",
       "      <td>0.965517</td>\n",
       "      <td>0.966292</td>\n",
       "    </tr>\n",
       "    <tr>\n",
       "      <th>archives_AD075EC_01M1940_0020-right.png-2</th>\n",
       "      <td>0.966667</td>\n",
       "      <td>0.966667</td>\n",
       "      <td>0.966667</td>\n",
       "      <td>0.91358</td>\n",
       "      <td>0.9375</td>\n",
       "      <td>0.938272</td>\n",
       "      <td>0.909091</td>\n",
       "      <td>1.0</td>\n",
       "      <td>1.0</td>\n",
       "      <td>1.0</td>\n",
       "      <td>...</td>\n",
       "      <td>1.0</td>\n",
       "      <td>0.903226</td>\n",
       "      <td>0.966667</td>\n",
       "      <td>0.967742</td>\n",
       "      <td>0.866667</td>\n",
       "      <td>0.866667</td>\n",
       "      <td>0.866667</td>\n",
       "      <td>0.938547</td>\n",
       "      <td>0.960452</td>\n",
       "      <td>0.960894</td>\n",
       "    </tr>\n",
       "    <tr>\n",
       "      <th>archives_AD075EC_01M1940_0011-left.png-0</th>\n",
       "      <td>0.967742</td>\n",
       "      <td>1.0</td>\n",
       "      <td>1.0</td>\n",
       "      <td>1.0</td>\n",
       "      <td>1.0</td>\n",
       "      <td>1.0</td>\n",
       "      <td>1.0</td>\n",
       "      <td>1.0</td>\n",
       "      <td>1.0</td>\n",
       "      <td>1.0</td>\n",
       "      <td>...</td>\n",
       "      <td>1.0</td>\n",
       "      <td>1.0</td>\n",
       "      <td>1.0</td>\n",
       "      <td>1.0</td>\n",
       "      <td>0.933333</td>\n",
       "      <td>1.0</td>\n",
       "      <td>1.0</td>\n",
       "      <td>0.989011</td>\n",
       "      <td>1.000000</td>\n",
       "      <td>1.000000</td>\n",
       "    </tr>\n",
       "    <tr>\n",
       "      <th>archives_AD075EC_01M1940_0011-left.png-1</th>\n",
       "      <td>1.0</td>\n",
       "      <td>1.0</td>\n",
       "      <td>1.0</td>\n",
       "      <td>0.987654</td>\n",
       "      <td>0.987654</td>\n",
       "      <td>0.987654</td>\n",
       "      <td>0.909091</td>\n",
       "      <td>1.0</td>\n",
       "      <td>1.0</td>\n",
       "      <td>0.875</td>\n",
       "      <td>...</td>\n",
       "      <td>0.967742</td>\n",
       "      <td>0.9375</td>\n",
       "      <td>1.0</td>\n",
       "      <td>1.0</td>\n",
       "      <td>0.933333</td>\n",
       "      <td>1.0</td>\n",
       "      <td>1.0</td>\n",
       "      <td>0.972376</td>\n",
       "      <td>0.994413</td>\n",
       "      <td>0.994475</td>\n",
       "    </tr>\n",
       "    <tr>\n",
       "      <th>archives_AD075EC_01M1940_0011-left.png-2</th>\n",
       "      <td>0.903226</td>\n",
       "      <td>1.0</td>\n",
       "      <td>1.0</td>\n",
       "      <td>0.95122</td>\n",
       "      <td>0.975309</td>\n",
       "      <td>0.97561</td>\n",
       "      <td>0.909091</td>\n",
       "      <td>1.0</td>\n",
       "      <td>1.0</td>\n",
       "      <td>1.0</td>\n",
       "      <td>...</td>\n",
       "      <td>1.0</td>\n",
       "      <td>1.0</td>\n",
       "      <td>1.0</td>\n",
       "      <td>1.0</td>\n",
       "      <td>0.866667</td>\n",
       "      <td>0.931034</td>\n",
       "      <td>0.933333</td>\n",
       "      <td>0.934066</td>\n",
       "      <td>0.988701</td>\n",
       "      <td>0.989011</td>\n",
       "    </tr>\n",
       "    <tr>\n",
       "      <th>archives_AD075EC_01M1940_0011-right.png-0</th>\n",
       "      <td>0.819672</td>\n",
       "      <td>0.982143</td>\n",
       "      <td>0.983607</td>\n",
       "      <td>0.921053</td>\n",
       "      <td>0.921053</td>\n",
       "      <td>0.921053</td>\n",
       "      <td>1.0</td>\n",
       "      <td>1.0</td>\n",
       "      <td>1.0</td>\n",
       "      <td>0.75</td>\n",
       "      <td>...</td>\n",
       "      <td>1.0</td>\n",
       "      <td>1.0</td>\n",
       "      <td>1.0</td>\n",
       "      <td>1.0</td>\n",
       "      <td>1.0</td>\n",
       "      <td>1.0</td>\n",
       "      <td>1.0</td>\n",
       "      <td>0.880000</td>\n",
       "      <td>0.958333</td>\n",
       "      <td>0.960000</td>\n",
       "    </tr>\n",
       "    <tr>\n",
       "      <th>archives_AD075EC_01M1940_0011-right.png-2</th>\n",
       "      <td>0.935484</td>\n",
       "      <td>1.0</td>\n",
       "      <td>1.0</td>\n",
       "      <td>0.962963</td>\n",
       "      <td>0.962963</td>\n",
       "      <td>0.962963</td>\n",
       "      <td>0.818182</td>\n",
       "      <td>1.0</td>\n",
       "      <td>1.0</td>\n",
       "      <td>1.0</td>\n",
       "      <td>...</td>\n",
       "      <td>1.0</td>\n",
       "      <td>0.9375</td>\n",
       "      <td>1.0</td>\n",
       "      <td>1.0</td>\n",
       "      <td>0.827586</td>\n",
       "      <td>0.892857</td>\n",
       "      <td>0.896552</td>\n",
       "      <td>0.939227</td>\n",
       "      <td>0.983051</td>\n",
       "      <td>0.983425</td>\n",
       "    </tr>\n",
       "    <tr>\n",
       "      <th>archives_AD075EC_11M549_0094-left.png-0</th>\n",
       "      <td>0.903226</td>\n",
       "      <td>0.966667</td>\n",
       "      <td>0.967742</td>\n",
       "      <td>0.97561</td>\n",
       "      <td>1.0</td>\n",
       "      <td>1.0</td>\n",
       "      <td>0.909091</td>\n",
       "      <td>1.0</td>\n",
       "      <td>1.0</td>\n",
       "      <td>0.75</td>\n",
       "      <td>...</td>\n",
       "      <td>1.0</td>\n",
       "      <td>0.9375</td>\n",
       "      <td>1.0</td>\n",
       "      <td>1.0</td>\n",
       "      <td>0.733333</td>\n",
       "      <td>0.793103</td>\n",
       "      <td>0.8</td>\n",
       "      <td>0.923077</td>\n",
       "      <td>0.966292</td>\n",
       "      <td>0.967033</td>\n",
       "    </tr>\n",
       "    <tr>\n",
       "      <th>archives_AD075EC_11M549_0094-left.png-1</th>\n",
       "      <td>0.766667</td>\n",
       "      <td>0.927273</td>\n",
       "      <td>0.933333</td>\n",
       "      <td>0.904762</td>\n",
       "      <td>0.95122</td>\n",
       "      <td>0.952381</td>\n",
       "      <td>0.909091</td>\n",
       "      <td>1.0</td>\n",
       "      <td>1.0</td>\n",
       "      <td>0.666667</td>\n",
       "      <td>...</td>\n",
       "      <td>1.0</td>\n",
       "      <td>0.6875</td>\n",
       "      <td>0.8</td>\n",
       "      <td>0.8125</td>\n",
       "      <td>0.875</td>\n",
       "      <td>0.935484</td>\n",
       "      <td>0.9375</td>\n",
       "      <td>0.839779</td>\n",
       "      <td>0.936047</td>\n",
       "      <td>0.939227</td>\n",
       "    </tr>\n",
       "    <tr>\n",
       "      <th>archives_AD075EC_11M549_0094-left.png-2</th>\n",
       "      <td>0.688525</td>\n",
       "      <td>0.839286</td>\n",
       "      <td>0.852459</td>\n",
       "      <td>0.891566</td>\n",
       "      <td>0.9625</td>\n",
       "      <td>0.963855</td>\n",
       "      <td>0.909091</td>\n",
       "      <td>1.0</td>\n",
       "      <td>1.0</td>\n",
       "      <td>0.8</td>\n",
       "      <td>...</td>\n",
       "      <td>0.9375</td>\n",
       "      <td>0.6875</td>\n",
       "      <td>0.862069</td>\n",
       "      <td>0.875</td>\n",
       "      <td>0.909091</td>\n",
       "      <td>0.96875</td>\n",
       "      <td>0.969697</td>\n",
       "      <td>0.817680</td>\n",
       "      <td>0.923977</td>\n",
       "      <td>0.928177</td>\n",
       "    </tr>\n",
       "    <tr>\n",
       "      <th>archives_AD075EC_11M549_0094-right.png-0</th>\n",
       "      <td>0.806452</td>\n",
       "      <td>1.0</td>\n",
       "      <td>1.0</td>\n",
       "      <td>0.839506</td>\n",
       "      <td>0.935065</td>\n",
       "      <td>0.938272</td>\n",
       "      <td>1.0</td>\n",
       "      <td>1.0</td>\n",
       "      <td>1.0</td>\n",
       "      <td>0.625</td>\n",
       "      <td>...</td>\n",
       "      <td>1.0</td>\n",
       "      <td>0.8</td>\n",
       "      <td>0.928571</td>\n",
       "      <td>0.933333</td>\n",
       "      <td>0.625</td>\n",
       "      <td>0.857143</td>\n",
       "      <td>0.875</td>\n",
       "      <td>0.828729</td>\n",
       "      <td>0.947059</td>\n",
       "      <td>0.950276</td>\n",
       "    </tr>\n",
       "    <tr>\n",
       "      <th>archives_AD075EC_11M549_0094-right.png-1</th>\n",
       "      <td>0.918033</td>\n",
       "      <td>0.983051</td>\n",
       "      <td>0.983607</td>\n",
       "      <td>0.868421</td>\n",
       "      <td>0.918919</td>\n",
       "      <td>0.921053</td>\n",
       "      <td>0.909091</td>\n",
       "      <td>1.0</td>\n",
       "      <td>1.0</td>\n",
       "      <td>0.75</td>\n",
       "      <td>...</td>\n",
       "      <td>0.967742</td>\n",
       "      <td>0.903226</td>\n",
       "      <td>0.966667</td>\n",
       "      <td>0.967742</td>\n",
       "      <td>0.933333</td>\n",
       "      <td>1.0</td>\n",
       "      <td>1.0</td>\n",
       "      <td>0.880000</td>\n",
       "      <td>0.958333</td>\n",
       "      <td>0.960000</td>\n",
       "    </tr>\n",
       "    <tr>\n",
       "      <th>archives_AD075EC_11M549_0094-right.png-2</th>\n",
       "      <td>0.935484</td>\n",
       "      <td>0.967213</td>\n",
       "      <td>0.967742</td>\n",
       "      <td>0.810127</td>\n",
       "      <td>0.958904</td>\n",
       "      <td>0.962025</td>\n",
       "      <td>1.0</td>\n",
       "      <td>1.0</td>\n",
       "      <td>1.0</td>\n",
       "      <td>0.933333</td>\n",
       "      <td>...</td>\n",
       "      <td>0.933333</td>\n",
       "      <td>0.83871</td>\n",
       "      <td>0.965517</td>\n",
       "      <td>0.967742</td>\n",
       "      <td>0.866667</td>\n",
       "      <td>0.931034</td>\n",
       "      <td>0.933333</td>\n",
       "      <td>0.887640</td>\n",
       "      <td>0.964912</td>\n",
       "      <td>0.966292</td>\n",
       "    </tr>\n",
       "    <tr>\n",
       "      <th>archives_AD075EC_04M298B_0036-right.png-0</th>\n",
       "      <td>0.95082</td>\n",
       "      <td>0.983333</td>\n",
       "      <td>0.983607</td>\n",
       "      <td>0.88</td>\n",
       "      <td>0.905405</td>\n",
       "      <td>0.906667</td>\n",
       "      <td>1.0</td>\n",
       "      <td>1.0</td>\n",
       "      <td>1.0</td>\n",
       "      <td>1.0</td>\n",
       "      <td>...</td>\n",
       "      <td>1.0</td>\n",
       "      <td>0.785714</td>\n",
       "      <td>0.851852</td>\n",
       "      <td>0.857143</td>\n",
       "      <td>1.0</td>\n",
       "      <td>1.0</td>\n",
       "      <td>1.0</td>\n",
       "      <td>0.931034</td>\n",
       "      <td>0.953488</td>\n",
       "      <td>0.954023</td>\n",
       "    </tr>\n",
       "    <tr>\n",
       "      <th>archives_AD075EC_04M298B_0036-right.png-1</th>\n",
       "      <td>0.881356</td>\n",
       "      <td>0.913793</td>\n",
       "      <td>0.915254</td>\n",
       "      <td>0.831169</td>\n",
       "      <td>0.88</td>\n",
       "      <td>0.883117</td>\n",
       "      <td>1.0</td>\n",
       "      <td>1.0</td>\n",
       "      <td>1.0</td>\n",
       "      <td>1.0</td>\n",
       "      <td>...</td>\n",
       "      <td>0.933333</td>\n",
       "      <td>0.866667</td>\n",
       "      <td>0.931034</td>\n",
       "      <td>0.933333</td>\n",
       "      <td>0.642857</td>\n",
       "      <td>0.703704</td>\n",
       "      <td>0.714286</td>\n",
       "      <td>0.885057</td>\n",
       "      <td>0.918129</td>\n",
       "      <td>0.919540</td>\n",
       "    </tr>\n",
       "    <tr>\n",
       "      <th>archives_AD075EC_04M298B_0036-right.png-2</th>\n",
       "      <td>0.814815</td>\n",
       "      <td>0.849057</td>\n",
       "      <td>0.851852</td>\n",
       "      <td>0.876712</td>\n",
       "      <td>0.876712</td>\n",
       "      <td>0.876712</td>\n",
       "      <td>0.909091</td>\n",
       "      <td>1.0</td>\n",
       "      <td>1.0</td>\n",
       "      <td>0.857143</td>\n",
       "      <td>...</td>\n",
       "      <td>0.933333</td>\n",
       "      <td>0.933333</td>\n",
       "      <td>0.933333</td>\n",
       "      <td>0.933333</td>\n",
       "      <td>0.333333</td>\n",
       "      <td>0.333333</td>\n",
       "      <td>0.333333</td>\n",
       "      <td>0.858896</td>\n",
       "      <td>0.881988</td>\n",
       "      <td>0.883436</td>\n",
       "    </tr>\n",
       "    <tr>\n",
       "      <th>archives_AD075EC_11M549_0113-left.png-0</th>\n",
       "      <td>0.833333</td>\n",
       "      <td>0.964286</td>\n",
       "      <td>0.966667</td>\n",
       "      <td>0.868421</td>\n",
       "      <td>0.868421</td>\n",
       "      <td>0.868421</td>\n",
       "      <td>1.0</td>\n",
       "      <td>1.0</td>\n",
       "      <td>1.0</td>\n",
       "      <td>1.0</td>\n",
       "      <td>...</td>\n",
       "      <td>0.967742</td>\n",
       "      <td>0.967742</td>\n",
       "      <td>0.967742</td>\n",
       "      <td>0.967742</td>\n",
       "      <td>0.785714</td>\n",
       "      <td>0.785714</td>\n",
       "      <td>0.785714</td>\n",
       "      <td>0.885057</td>\n",
       "      <td>0.929412</td>\n",
       "      <td>0.931034</td>\n",
       "    </tr>\n",
       "    <tr>\n",
       "      <th>archives_AD075EC_11M549_0113-left.png-1</th>\n",
       "      <td>0.819672</td>\n",
       "      <td>0.947368</td>\n",
       "      <td>0.95082</td>\n",
       "      <td>0.820513</td>\n",
       "      <td>0.844156</td>\n",
       "      <td>0.846154</td>\n",
       "      <td>1.0</td>\n",
       "      <td>1.0</td>\n",
       "      <td>1.0</td>\n",
       "      <td>0.875</td>\n",
       "      <td>...</td>\n",
       "      <td>1.0</td>\n",
       "      <td>0.9375</td>\n",
       "      <td>1.0</td>\n",
       "      <td>1.0</td>\n",
       "      <td>0.571429</td>\n",
       "      <td>0.62963</td>\n",
       "      <td>0.642857</td>\n",
       "      <td>0.847458</td>\n",
       "      <td>0.901163</td>\n",
       "      <td>0.903955</td>\n",
       "    </tr>\n",
       "    <tr>\n",
       "      <th>archives_AD075EC_11M549_0113-left.png-2</th>\n",
       "      <td>0.933333</td>\n",
       "      <td>0.966102</td>\n",
       "      <td>0.966667</td>\n",
       "      <td>0.773333</td>\n",
       "      <td>0.847222</td>\n",
       "      <td>0.853333</td>\n",
       "      <td>0.909091</td>\n",
       "      <td>1.0</td>\n",
       "      <td>1.0</td>\n",
       "      <td>0.625</td>\n",
       "      <td>...</td>\n",
       "      <td>1.0</td>\n",
       "      <td>0.875</td>\n",
       "      <td>1.0</td>\n",
       "      <td>1.0</td>\n",
       "      <td>0.882353</td>\n",
       "      <td>1.0</td>\n",
       "      <td>1.0</td>\n",
       "      <td>0.832370</td>\n",
       "      <td>0.921212</td>\n",
       "      <td>0.924855</td>\n",
       "    </tr>\n",
       "    <tr>\n",
       "      <th>archives_AD075EC_11M549_0113-right.png-0</th>\n",
       "      <td>0.918033</td>\n",
       "      <td>0.983051</td>\n",
       "      <td>0.983607</td>\n",
       "      <td>0.935065</td>\n",
       "      <td>0.935065</td>\n",
       "      <td>0.935065</td>\n",
       "      <td>1.0</td>\n",
       "      <td>1.0</td>\n",
       "      <td>1.0</td>\n",
       "      <td>0.75</td>\n",
       "      <td>...</td>\n",
       "      <td>1.0</td>\n",
       "      <td>0.903226</td>\n",
       "      <td>0.966667</td>\n",
       "      <td>0.967742</td>\n",
       "      <td>1.0</td>\n",
       "      <td>1.0</td>\n",
       "      <td>1.0</td>\n",
       "      <td>0.920455</td>\n",
       "      <td>0.965116</td>\n",
       "      <td>0.965909</td>\n",
       "    </tr>\n",
       "    <tr>\n",
       "      <th>archives_AD075EC_11M549_0113-right.png-1</th>\n",
       "      <td>0.933333</td>\n",
       "      <td>0.966102</td>\n",
       "      <td>0.966667</td>\n",
       "      <td>0.805195</td>\n",
       "      <td>0.878378</td>\n",
       "      <td>0.883117</td>\n",
       "      <td>1.0</td>\n",
       "      <td>1.0</td>\n",
       "      <td>1.0</td>\n",
       "      <td>1.0</td>\n",
       "      <td>...</td>\n",
       "      <td>1.0</td>\n",
       "      <td>0.875</td>\n",
       "      <td>1.0</td>\n",
       "      <td>1.0</td>\n",
       "      <td>0.866667</td>\n",
       "      <td>0.866667</td>\n",
       "      <td>0.866667</td>\n",
       "      <td>0.891429</td>\n",
       "      <td>0.935673</td>\n",
       "      <td>0.937143</td>\n",
       "    </tr>\n",
       "    <tr>\n",
       "      <th>archives_AD075EC_11M549_0113-right.png-2</th>\n",
       "      <td>0.807018</td>\n",
       "      <td>0.907407</td>\n",
       "      <td>0.912281</td>\n",
       "      <td>0.891566</td>\n",
       "      <td>0.9625</td>\n",
       "      <td>0.963855</td>\n",
       "      <td>0.818182</td>\n",
       "      <td>1.0</td>\n",
       "      <td>1.0</td>\n",
       "      <td>0.875</td>\n",
       "      <td>...</td>\n",
       "      <td>1.0</td>\n",
       "      <td>0.875</td>\n",
       "      <td>1.0</td>\n",
       "      <td>1.0</td>\n",
       "      <td>0.941176</td>\n",
       "      <td>1.0</td>\n",
       "      <td>1.0</td>\n",
       "      <td>0.853933</td>\n",
       "      <td>0.952663</td>\n",
       "      <td>0.955056</td>\n",
       "    </tr>\n",
       "    <tr>\n",
       "      <th>archives_AD075EC_04M298B_0039-right.png-0</th>\n",
       "      <td>0.777778</td>\n",
       "      <td>0.846154</td>\n",
       "      <td>0.851852</td>\n",
       "      <td>0.906667</td>\n",
       "      <td>0.906667</td>\n",
       "      <td>0.906667</td>\n",
       "      <td>0.909091</td>\n",
       "      <td>1.0</td>\n",
       "      <td>1.0</td>\n",
       "      <td>0.714286</td>\n",
       "      <td>...</td>\n",
       "      <td>0.933333</td>\n",
       "      <td>0.875</td>\n",
       "      <td>1.0</td>\n",
       "      <td>1.0</td>\n",
       "      <td>0.333333</td>\n",
       "      <td>0.333333</td>\n",
       "      <td>0.333333</td>\n",
       "      <td>0.848485</td>\n",
       "      <td>0.894410</td>\n",
       "      <td>0.896970</td>\n",
       "    </tr>\n",
       "    <tr>\n",
       "      <th>archives_AD075EC_04M298B_0039-right.png-1</th>\n",
       "      <td>0.983607</td>\n",
       "      <td>0.983607</td>\n",
       "      <td>0.983607</td>\n",
       "      <td>0.925</td>\n",
       "      <td>0.974359</td>\n",
       "      <td>0.975</td>\n",
       "      <td>1.0</td>\n",
       "      <td>1.0</td>\n",
       "      <td>1.0</td>\n",
       "      <td>1.0</td>\n",
       "      <td>...</td>\n",
       "      <td>1.0</td>\n",
       "      <td>0.758621</td>\n",
       "      <td>0.888889</td>\n",
       "      <td>0.896552</td>\n",
       "      <td>1.0</td>\n",
       "      <td>1.0</td>\n",
       "      <td>1.0</td>\n",
       "      <td>0.960894</td>\n",
       "      <td>0.983051</td>\n",
       "      <td>0.983240</td>\n",
       "    </tr>\n",
       "    <tr>\n",
       "      <th>archives_AD075EC_04M298B_0039-right.png-2</th>\n",
       "      <td>0.851852</td>\n",
       "      <td>0.851852</td>\n",
       "      <td>0.851852</td>\n",
       "      <td>0.826667</td>\n",
       "      <td>0.876712</td>\n",
       "      <td>0.88</td>\n",
       "      <td>1.0</td>\n",
       "      <td>1.0</td>\n",
       "      <td>1.0</td>\n",
       "      <td>0.857143</td>\n",
       "      <td>...</td>\n",
       "      <td>1.0</td>\n",
       "      <td>0.733333</td>\n",
       "      <td>0.857143</td>\n",
       "      <td>0.866667</td>\n",
       "      <td>0.333333</td>\n",
       "      <td>0.333333</td>\n",
       "      <td>0.333333</td>\n",
       "      <td>0.860606</td>\n",
       "      <td>0.883436</td>\n",
       "      <td>0.884848</td>\n",
       "    </tr>\n",
       "    <tr>\n",
       "      <th>archives_AD075EC_04M298B_0038-right.png-0</th>\n",
       "      <td>0.814815</td>\n",
       "      <td>0.849057</td>\n",
       "      <td>0.851852</td>\n",
       "      <td>0.868421</td>\n",
       "      <td>0.918919</td>\n",
       "      <td>0.921053</td>\n",
       "      <td>0.727273</td>\n",
       "      <td>0.9</td>\n",
       "      <td>0.909091</td>\n",
       "      <td>0.857143</td>\n",
       "      <td>...</td>\n",
       "      <td>0.9375</td>\n",
       "      <td>0.8</td>\n",
       "      <td>0.928571</td>\n",
       "      <td>0.933333</td>\n",
       "      <td>0.333333</td>\n",
       "      <td>0.333333</td>\n",
       "      <td>0.333333</td>\n",
       "      <td>0.831325</td>\n",
       "      <td>0.888199</td>\n",
       "      <td>0.891566</td>\n",
       "    </tr>\n",
       "    <tr>\n",
       "      <th>archives_AD075EC_04M298B_0038-right.png-1</th>\n",
       "      <td>0.935484</td>\n",
       "      <td>1.0</td>\n",
       "      <td>1.0</td>\n",
       "      <td>0.85</td>\n",
       "      <td>0.922078</td>\n",
       "      <td>0.925</td>\n",
       "      <td>0.909091</td>\n",
       "      <td>1.0</td>\n",
       "      <td>1.0</td>\n",
       "      <td>1.0</td>\n",
       "      <td>...</td>\n",
       "      <td>0.933333</td>\n",
       "      <td>0.8125</td>\n",
       "      <td>1.0</td>\n",
       "      <td>1.0</td>\n",
       "      <td>0.866667</td>\n",
       "      <td>0.866667</td>\n",
       "      <td>0.866667</td>\n",
       "      <td>0.900000</td>\n",
       "      <td>0.965517</td>\n",
       "      <td>0.966667</td>\n",
       "    </tr>\n",
       "  </tbody>\n",
       "</table>\n",
       "<p>36 rows × 42 columns</p>\n",
       "</div>"
      ],
      "text/plain": [
       "tag                                             PER                         \n",
       "F1                                        F1_strict F1_weighted     F1_ok   \n",
       "archives_AD075EC_01M1930_0023-left.png-0   0.935484         1.0       1.0  \\\n",
       "archives_AD075EC_01M1930_0023-left.png-1   0.967742         1.0       1.0   \n",
       "archives_AD075EC_01M1930_0023-left.png-2   0.862069    0.928571  0.931034   \n",
       "archives_AD075EC_01M1930_0023-right.png-0       1.0         1.0       1.0   \n",
       "archives_AD075EC_01M1930_0023-right.png-1  0.967742         1.0       1.0   \n",
       "archives_AD075EC_01M1930_0023-right.png-2  0.967742         1.0       1.0   \n",
       "archives_AD075EC_01M1940_0020-left.png-0   0.967742         1.0       1.0   \n",
       "archives_AD075EC_01M1940_0020-left.png-3   0.923077    0.923077  0.923077   \n",
       "archives_AD075EC_01M1940_0020-right.png-0  0.872727    0.872727  0.872727   \n",
       "archives_AD075EC_01M1940_0020-right.png-1  0.915254    0.948276  0.949153   \n",
       "archives_AD075EC_01M1940_0020-right.png-2  0.966667    0.966667  0.966667   \n",
       "archives_AD075EC_01M1940_0011-left.png-0   0.967742         1.0       1.0   \n",
       "archives_AD075EC_01M1940_0011-left.png-1        1.0         1.0       1.0   \n",
       "archives_AD075EC_01M1940_0011-left.png-2   0.903226         1.0       1.0   \n",
       "archives_AD075EC_01M1940_0011-right.png-0  0.819672    0.982143  0.983607   \n",
       "archives_AD075EC_01M1940_0011-right.png-2  0.935484         1.0       1.0   \n",
       "archives_AD075EC_11M549_0094-left.png-0    0.903226    0.966667  0.967742   \n",
       "archives_AD075EC_11M549_0094-left.png-1    0.766667    0.927273  0.933333   \n",
       "archives_AD075EC_11M549_0094-left.png-2    0.688525    0.839286  0.852459   \n",
       "archives_AD075EC_11M549_0094-right.png-0   0.806452         1.0       1.0   \n",
       "archives_AD075EC_11M549_0094-right.png-1   0.918033    0.983051  0.983607   \n",
       "archives_AD075EC_11M549_0094-right.png-2   0.935484    0.967213  0.967742   \n",
       "archives_AD075EC_04M298B_0036-right.png-0   0.95082    0.983333  0.983607   \n",
       "archives_AD075EC_04M298B_0036-right.png-1  0.881356    0.913793  0.915254   \n",
       "archives_AD075EC_04M298B_0036-right.png-2  0.814815    0.849057  0.851852   \n",
       "archives_AD075EC_11M549_0113-left.png-0    0.833333    0.964286  0.966667   \n",
       "archives_AD075EC_11M549_0113-left.png-1    0.819672    0.947368   0.95082   \n",
       "archives_AD075EC_11M549_0113-left.png-2    0.933333    0.966102  0.966667   \n",
       "archives_AD075EC_11M549_0113-right.png-0   0.918033    0.983051  0.983607   \n",
       "archives_AD075EC_11M549_0113-right.png-1   0.933333    0.966102  0.966667   \n",
       "archives_AD075EC_11M549_0113-right.png-2   0.807018    0.907407  0.912281   \n",
       "archives_AD075EC_04M298B_0039-right.png-0  0.777778    0.846154  0.851852   \n",
       "archives_AD075EC_04M298B_0039-right.png-1  0.983607    0.983607  0.983607   \n",
       "archives_AD075EC_04M298B_0039-right.png-2  0.851852    0.851852  0.851852   \n",
       "archives_AD075EC_04M298B_0038-right.png-0  0.814815    0.849057  0.851852   \n",
       "archives_AD075EC_04M298B_0038-right.png-1  0.935484         1.0       1.0   \n",
       "\n",
       "tag                                             LOC                         \n",
       "F1                                        F1_strict F1_weighted     F1_ok   \n",
       "archives_AD075EC_01M1930_0023-left.png-0      0.925       0.925     0.925  \\\n",
       "archives_AD075EC_01M1930_0023-left.png-1    0.97561         1.0       1.0   \n",
       "archives_AD075EC_01M1930_0023-left.png-2   0.675676    0.722222   0.72973   \n",
       "archives_AD075EC_01M1930_0023-right.png-0       1.0         1.0       1.0   \n",
       "archives_AD075EC_01M1930_0023-right.png-1   0.97561         1.0       1.0   \n",
       "archives_AD075EC_01M1930_0023-right.png-2  0.962963      0.9875  0.987654   \n",
       "archives_AD075EC_01M1940_0020-left.png-0   0.962963      0.9875  0.987654   \n",
       "archives_AD075EC_01M1940_0020-left.png-3   0.885714    0.885714  0.885714   \n",
       "archives_AD075EC_01M1940_0020-right.png-0  0.906667    0.906667  0.906667   \n",
       "archives_AD075EC_01M1940_0020-right.png-1  0.938272      0.9625  0.962963   \n",
       "archives_AD075EC_01M1940_0020-right.png-2   0.91358      0.9375  0.938272   \n",
       "archives_AD075EC_01M1940_0011-left.png-0        1.0         1.0       1.0   \n",
       "archives_AD075EC_01M1940_0011-left.png-1   0.987654    0.987654  0.987654   \n",
       "archives_AD075EC_01M1940_0011-left.png-2    0.95122    0.975309   0.97561   \n",
       "archives_AD075EC_01M1940_0011-right.png-0  0.921053    0.921053  0.921053   \n",
       "archives_AD075EC_01M1940_0011-right.png-2  0.962963    0.962963  0.962963   \n",
       "archives_AD075EC_11M549_0094-left.png-0     0.97561         1.0       1.0   \n",
       "archives_AD075EC_11M549_0094-left.png-1    0.904762     0.95122  0.952381   \n",
       "archives_AD075EC_11M549_0094-left.png-2    0.891566      0.9625  0.963855   \n",
       "archives_AD075EC_11M549_0094-right.png-0   0.839506    0.935065  0.938272   \n",
       "archives_AD075EC_11M549_0094-right.png-1   0.868421    0.918919  0.921053   \n",
       "archives_AD075EC_11M549_0094-right.png-2   0.810127    0.958904  0.962025   \n",
       "archives_AD075EC_04M298B_0036-right.png-0      0.88    0.905405  0.906667   \n",
       "archives_AD075EC_04M298B_0036-right.png-1  0.831169        0.88  0.883117   \n",
       "archives_AD075EC_04M298B_0036-right.png-2  0.876712    0.876712  0.876712   \n",
       "archives_AD075EC_11M549_0113-left.png-0    0.868421    0.868421  0.868421   \n",
       "archives_AD075EC_11M549_0113-left.png-1    0.820513    0.844156  0.846154   \n",
       "archives_AD075EC_11M549_0113-left.png-2    0.773333    0.847222  0.853333   \n",
       "archives_AD075EC_11M549_0113-right.png-0   0.935065    0.935065  0.935065   \n",
       "archives_AD075EC_11M549_0113-right.png-1   0.805195    0.878378  0.883117   \n",
       "archives_AD075EC_11M549_0113-right.png-2   0.891566      0.9625  0.963855   \n",
       "archives_AD075EC_04M298B_0039-right.png-0  0.906667    0.906667  0.906667   \n",
       "archives_AD075EC_04M298B_0039-right.png-1     0.925    0.974359     0.975   \n",
       "archives_AD075EC_04M298B_0039-right.png-2  0.826667    0.876712      0.88   \n",
       "archives_AD075EC_04M298B_0038-right.png-0  0.868421    0.918919  0.921053   \n",
       "archives_AD075EC_04M298B_0038-right.png-1      0.85    0.922078     0.925   \n",
       "\n",
       "tag                                            DATE                         \n",
       "F1                                        F1_strict F1_weighted     F1_ok   \n",
       "archives_AD075EC_01M1930_0023-left.png-0        1.0         1.0       1.0  \\\n",
       "archives_AD075EC_01M1930_0023-left.png-1   0.909091         1.0       1.0   \n",
       "archives_AD075EC_01M1930_0023-left.png-2        1.0         1.0       1.0   \n",
       "archives_AD075EC_01M1930_0023-right.png-0       1.0         1.0       1.0   \n",
       "archives_AD075EC_01M1930_0023-right.png-1       1.0         1.0       1.0   \n",
       "archives_AD075EC_01M1930_0023-right.png-2  0.909091         1.0       1.0   \n",
       "archives_AD075EC_01M1940_0020-left.png-0        1.0         1.0       1.0   \n",
       "archives_AD075EC_01M1940_0020-left.png-3        1.0         1.0       1.0   \n",
       "archives_AD075EC_01M1940_0020-right.png-0       1.0         1.0       1.0   \n",
       "archives_AD075EC_01M1940_0020-right.png-1  0.909091         1.0       1.0   \n",
       "archives_AD075EC_01M1940_0020-right.png-2  0.909091         1.0       1.0   \n",
       "archives_AD075EC_01M1940_0011-left.png-0        1.0         1.0       1.0   \n",
       "archives_AD075EC_01M1940_0011-left.png-1   0.909091         1.0       1.0   \n",
       "archives_AD075EC_01M1940_0011-left.png-2   0.909091         1.0       1.0   \n",
       "archives_AD075EC_01M1940_0011-right.png-0       1.0         1.0       1.0   \n",
       "archives_AD075EC_01M1940_0011-right.png-2  0.818182         1.0       1.0   \n",
       "archives_AD075EC_11M549_0094-left.png-0    0.909091         1.0       1.0   \n",
       "archives_AD075EC_11M549_0094-left.png-1    0.909091         1.0       1.0   \n",
       "archives_AD075EC_11M549_0094-left.png-2    0.909091         1.0       1.0   \n",
       "archives_AD075EC_11M549_0094-right.png-0        1.0         1.0       1.0   \n",
       "archives_AD075EC_11M549_0094-right.png-1   0.909091         1.0       1.0   \n",
       "archives_AD075EC_11M549_0094-right.png-2        1.0         1.0       1.0   \n",
       "archives_AD075EC_04M298B_0036-right.png-0       1.0         1.0       1.0   \n",
       "archives_AD075EC_04M298B_0036-right.png-1       1.0         1.0       1.0   \n",
       "archives_AD075EC_04M298B_0036-right.png-2  0.909091         1.0       1.0   \n",
       "archives_AD075EC_11M549_0113-left.png-0         1.0         1.0       1.0   \n",
       "archives_AD075EC_11M549_0113-left.png-1         1.0         1.0       1.0   \n",
       "archives_AD075EC_11M549_0113-left.png-2    0.909091         1.0       1.0   \n",
       "archives_AD075EC_11M549_0113-right.png-0        1.0         1.0       1.0   \n",
       "archives_AD075EC_11M549_0113-right.png-1        1.0         1.0       1.0   \n",
       "archives_AD075EC_11M549_0113-right.png-2   0.818182         1.0       1.0   \n",
       "archives_AD075EC_04M298B_0039-right.png-0  0.909091         1.0       1.0   \n",
       "archives_AD075EC_04M298B_0039-right.png-1       1.0         1.0       1.0   \n",
       "archives_AD075EC_04M298B_0039-right.png-2       1.0         1.0       1.0   \n",
       "archives_AD075EC_04M298B_0038-right.png-0  0.727273         0.9  0.909091   \n",
       "archives_AD075EC_04M298B_0038-right.png-1  0.909091         1.0       1.0   \n",
       "\n",
       "tag                                             JOB  ...    MARIEE      MARI   \n",
       "F1                                        F1_strict  ...     F1_ok F1_strict   \n",
       "archives_AD075EC_01M1930_0023-left.png-0      0.875  ...       1.0    0.9375  \\\n",
       "archives_AD075EC_01M1930_0023-left.png-1       0.75  ...       1.0     0.875   \n",
       "archives_AD075EC_01M1930_0023-left.png-2      0.875  ...  0.827586  0.689655   \n",
       "archives_AD075EC_01M1930_0023-right.png-0  0.933333  ...       1.0       1.0   \n",
       "archives_AD075EC_01M1930_0023-right.png-1     0.875  ...       1.0     0.875   \n",
       "archives_AD075EC_01M1930_0023-right.png-2       1.0  ...       1.0       1.0   \n",
       "archives_AD075EC_01M1940_0020-left.png-0        1.0  ...  0.967742    0.9375   \n",
       "archives_AD075EC_01M1940_0020-left.png-3   0.833333  ...       1.0       1.0   \n",
       "archives_AD075EC_01M1940_0020-right.png-0  0.857143  ...       1.0       1.0   \n",
       "archives_AD075EC_01M1940_0020-right.png-1     0.875  ...       1.0     0.875   \n",
       "archives_AD075EC_01M1940_0020-right.png-2       1.0  ...       1.0  0.903226   \n",
       "archives_AD075EC_01M1940_0011-left.png-0        1.0  ...       1.0       1.0   \n",
       "archives_AD075EC_01M1940_0011-left.png-1      0.875  ...  0.967742    0.9375   \n",
       "archives_AD075EC_01M1940_0011-left.png-2        1.0  ...       1.0       1.0   \n",
       "archives_AD075EC_01M1940_0011-right.png-0      0.75  ...       1.0       1.0   \n",
       "archives_AD075EC_01M1940_0011-right.png-2       1.0  ...       1.0    0.9375   \n",
       "archives_AD075EC_11M549_0094-left.png-0        0.75  ...       1.0    0.9375   \n",
       "archives_AD075EC_11M549_0094-left.png-1    0.666667  ...       1.0    0.6875   \n",
       "archives_AD075EC_11M549_0094-left.png-2         0.8  ...    0.9375    0.6875   \n",
       "archives_AD075EC_11M549_0094-right.png-0      0.625  ...       1.0       0.8   \n",
       "archives_AD075EC_11M549_0094-right.png-1       0.75  ...  0.967742  0.903226   \n",
       "archives_AD075EC_11M549_0094-right.png-2   0.933333  ...  0.933333   0.83871   \n",
       "archives_AD075EC_04M298B_0036-right.png-0       1.0  ...       1.0  0.785714   \n",
       "archives_AD075EC_04M298B_0036-right.png-1       1.0  ...  0.933333  0.866667   \n",
       "archives_AD075EC_04M298B_0036-right.png-2  0.857143  ...  0.933333  0.933333   \n",
       "archives_AD075EC_11M549_0113-left.png-0         1.0  ...  0.967742  0.967742   \n",
       "archives_AD075EC_11M549_0113-left.png-1       0.875  ...       1.0    0.9375   \n",
       "archives_AD075EC_11M549_0113-left.png-2       0.625  ...       1.0     0.875   \n",
       "archives_AD075EC_11M549_0113-right.png-0       0.75  ...       1.0  0.903226   \n",
       "archives_AD075EC_11M549_0113-right.png-1        1.0  ...       1.0     0.875   \n",
       "archives_AD075EC_11M549_0113-right.png-2      0.875  ...       1.0     0.875   \n",
       "archives_AD075EC_04M298B_0039-right.png-0  0.714286  ...  0.933333     0.875   \n",
       "archives_AD075EC_04M298B_0039-right.png-1       1.0  ...       1.0  0.758621   \n",
       "archives_AD075EC_04M298B_0039-right.png-2  0.857143  ...       1.0  0.733333   \n",
       "archives_AD075EC_04M298B_0038-right.png-0  0.857143  ...    0.9375       0.8   \n",
       "archives_AD075EC_04M298B_0038-right.png-1       1.0  ...  0.933333    0.8125   \n",
       "\n",
       "tag                                                                TEMOIN   \n",
       "F1                                        F1_weighted     F1_ok F1_strict   \n",
       "archives_AD075EC_01M1930_0023-left.png-0          1.0       1.0       0.8  \\\n",
       "archives_AD075EC_01M1930_0023-left.png-1          1.0       1.0       1.0   \n",
       "archives_AD075EC_01M1930_0023-left.png-2     0.884615  0.896552  0.714286   \n",
       "archives_AD075EC_01M1930_0023-right.png-0         1.0       1.0       1.0   \n",
       "archives_AD075EC_01M1930_0023-right.png-1         1.0       1.0       1.0   \n",
       "archives_AD075EC_01M1930_0023-right.png-2         1.0       1.0       1.0   \n",
       "archives_AD075EC_01M1940_0020-left.png-0          1.0       1.0       1.0   \n",
       "archives_AD075EC_01M1940_0020-left.png-3          1.0       1.0         0   \n",
       "archives_AD075EC_01M1940_0020-right.png-0         1.0       1.0         0   \n",
       "archives_AD075EC_01M1940_0020-right.png-1         1.0       1.0    0.9375   \n",
       "archives_AD075EC_01M1940_0020-right.png-2    0.966667  0.967742  0.866667   \n",
       "archives_AD075EC_01M1940_0011-left.png-0          1.0       1.0  0.933333   \n",
       "archives_AD075EC_01M1940_0011-left.png-1          1.0       1.0  0.933333   \n",
       "archives_AD075EC_01M1940_0011-left.png-2          1.0       1.0  0.866667   \n",
       "archives_AD075EC_01M1940_0011-right.png-0         1.0       1.0       1.0   \n",
       "archives_AD075EC_01M1940_0011-right.png-2         1.0       1.0  0.827586   \n",
       "archives_AD075EC_11M549_0094-left.png-0           1.0       1.0  0.733333   \n",
       "archives_AD075EC_11M549_0094-left.png-1           0.8    0.8125     0.875   \n",
       "archives_AD075EC_11M549_0094-left.png-2      0.862069     0.875  0.909091   \n",
       "archives_AD075EC_11M549_0094-right.png-0     0.928571  0.933333     0.625   \n",
       "archives_AD075EC_11M549_0094-right.png-1     0.966667  0.967742  0.933333   \n",
       "archives_AD075EC_11M549_0094-right.png-2     0.965517  0.967742  0.866667   \n",
       "archives_AD075EC_04M298B_0036-right.png-0    0.851852  0.857143       1.0   \n",
       "archives_AD075EC_04M298B_0036-right.png-1    0.931034  0.933333  0.642857   \n",
       "archives_AD075EC_04M298B_0036-right.png-2    0.933333  0.933333  0.333333   \n",
       "archives_AD075EC_11M549_0113-left.png-0      0.967742  0.967742  0.785714   \n",
       "archives_AD075EC_11M549_0113-left.png-1           1.0       1.0  0.571429   \n",
       "archives_AD075EC_11M549_0113-left.png-2           1.0       1.0  0.882353   \n",
       "archives_AD075EC_11M549_0113-right.png-0     0.966667  0.967742       1.0   \n",
       "archives_AD075EC_11M549_0113-right.png-1          1.0       1.0  0.866667   \n",
       "archives_AD075EC_11M549_0113-right.png-2          1.0       1.0  0.941176   \n",
       "archives_AD075EC_04M298B_0039-right.png-0         1.0       1.0  0.333333   \n",
       "archives_AD075EC_04M298B_0039-right.png-1    0.888889  0.896552       1.0   \n",
       "archives_AD075EC_04M298B_0039-right.png-2    0.857143  0.866667  0.333333   \n",
       "archives_AD075EC_04M298B_0038-right.png-0    0.928571  0.933333  0.333333   \n",
       "archives_AD075EC_04M298B_0038-right.png-1         1.0       1.0  0.866667   \n",
       "\n",
       "tag                                                                 TOTAL   \n",
       "F1                                        F1_weighted     F1_ok F1_strict   \n",
       "archives_AD075EC_01M1930_0023-left.png-0     0.862069  0.866667  0.933333  \\\n",
       "archives_AD075EC_01M1930_0023-left.png-1          1.0       1.0  0.945055   \n",
       "archives_AD075EC_01M1930_0023-left.png-2     0.777778  0.785714  0.800000   \n",
       "archives_AD075EC_01M1930_0023-right.png-0         1.0       1.0  0.994475   \n",
       "archives_AD075EC_01M1930_0023-right.png-1         1.0       1.0  0.967033   \n",
       "archives_AD075EC_01M1930_0023-right.png-2         1.0       1.0  0.961326   \n",
       "archives_AD075EC_01M1940_0020-left.png-0          1.0       1.0  0.972376   \n",
       "archives_AD075EC_01M1940_0020-left.png-3            0         0  0.910256   \n",
       "archives_AD075EC_01M1940_0020-right.png-0           0         0  0.903614   \n",
       "archives_AD075EC_01M1940_0020-right.png-1         1.0       1.0  0.921348   \n",
       "archives_AD075EC_01M1940_0020-right.png-2    0.866667  0.866667  0.938547   \n",
       "archives_AD075EC_01M1940_0011-left.png-0          1.0       1.0  0.989011   \n",
       "archives_AD075EC_01M1940_0011-left.png-1          1.0       1.0  0.972376   \n",
       "archives_AD075EC_01M1940_0011-left.png-2     0.931034  0.933333  0.934066   \n",
       "archives_AD075EC_01M1940_0011-right.png-0         1.0       1.0  0.880000   \n",
       "archives_AD075EC_01M1940_0011-right.png-2    0.892857  0.896552  0.939227   \n",
       "archives_AD075EC_11M549_0094-left.png-0      0.793103       0.8  0.923077   \n",
       "archives_AD075EC_11M549_0094-left.png-1      0.935484    0.9375  0.839779   \n",
       "archives_AD075EC_11M549_0094-left.png-2       0.96875  0.969697  0.817680   \n",
       "archives_AD075EC_11M549_0094-right.png-0     0.857143     0.875  0.828729   \n",
       "archives_AD075EC_11M549_0094-right.png-1          1.0       1.0  0.880000   \n",
       "archives_AD075EC_11M549_0094-right.png-2     0.931034  0.933333  0.887640   \n",
       "archives_AD075EC_04M298B_0036-right.png-0         1.0       1.0  0.931034   \n",
       "archives_AD075EC_04M298B_0036-right.png-1    0.703704  0.714286  0.885057   \n",
       "archives_AD075EC_04M298B_0036-right.png-2    0.333333  0.333333  0.858896   \n",
       "archives_AD075EC_11M549_0113-left.png-0      0.785714  0.785714  0.885057   \n",
       "archives_AD075EC_11M549_0113-left.png-1       0.62963  0.642857  0.847458   \n",
       "archives_AD075EC_11M549_0113-left.png-2           1.0       1.0  0.832370   \n",
       "archives_AD075EC_11M549_0113-right.png-0          1.0       1.0  0.920455   \n",
       "archives_AD075EC_11M549_0113-right.png-1     0.866667  0.866667  0.891429   \n",
       "archives_AD075EC_11M549_0113-right.png-2          1.0       1.0  0.853933   \n",
       "archives_AD075EC_04M298B_0039-right.png-0    0.333333  0.333333  0.848485   \n",
       "archives_AD075EC_04M298B_0039-right.png-1         1.0       1.0  0.960894   \n",
       "archives_AD075EC_04M298B_0039-right.png-2    0.333333  0.333333  0.860606   \n",
       "archives_AD075EC_04M298B_0038-right.png-0    0.333333  0.333333  0.831325   \n",
       "archives_AD075EC_04M298B_0038-right.png-1    0.866667  0.866667  0.900000   \n",
       "\n",
       "tag                                                              \n",
       "F1                                        F1_weighted     F1_ok  \n",
       "archives_AD075EC_01M1930_0023-left.png-0     0.966102  0.966667  \n",
       "archives_AD075EC_01M1930_0023-left.png-1     1.000000  1.000000  \n",
       "archives_AD075EC_01M1930_0023-left.png-2     0.854545  0.858824  \n",
       "archives_AD075EC_01M1930_0023-right.png-0    0.994475  0.994475  \n",
       "archives_AD075EC_01M1930_0023-right.png-1    1.000000  1.000000  \n",
       "archives_AD075EC_01M1930_0023-right.png-2    0.994382  0.994475  \n",
       "archives_AD075EC_01M1940_0020-left.png-0     0.994413  0.994475  \n",
       "archives_AD075EC_01M1940_0020-left.png-3     0.910256  0.910256  \n",
       "archives_AD075EC_01M1940_0020-right.png-0    0.903614  0.903614  \n",
       "archives_AD075EC_01M1940_0020-right.png-1    0.965517  0.966292  \n",
       "archives_AD075EC_01M1940_0020-right.png-2    0.960452  0.960894  \n",
       "archives_AD075EC_01M1940_0011-left.png-0     1.000000  1.000000  \n",
       "archives_AD075EC_01M1940_0011-left.png-1     0.994413  0.994475  \n",
       "archives_AD075EC_01M1940_0011-left.png-2     0.988701  0.989011  \n",
       "archives_AD075EC_01M1940_0011-right.png-0    0.958333  0.960000  \n",
       "archives_AD075EC_01M1940_0011-right.png-2    0.983051  0.983425  \n",
       "archives_AD075EC_11M549_0094-left.png-0      0.966292  0.967033  \n",
       "archives_AD075EC_11M549_0094-left.png-1      0.936047  0.939227  \n",
       "archives_AD075EC_11M549_0094-left.png-2      0.923977  0.928177  \n",
       "archives_AD075EC_11M549_0094-right.png-0     0.947059  0.950276  \n",
       "archives_AD075EC_11M549_0094-right.png-1     0.958333  0.960000  \n",
       "archives_AD075EC_11M549_0094-right.png-2     0.964912  0.966292  \n",
       "archives_AD075EC_04M298B_0036-right.png-0    0.953488  0.954023  \n",
       "archives_AD075EC_04M298B_0036-right.png-1    0.918129  0.919540  \n",
       "archives_AD075EC_04M298B_0036-right.png-2    0.881988  0.883436  \n",
       "archives_AD075EC_11M549_0113-left.png-0      0.929412  0.931034  \n",
       "archives_AD075EC_11M549_0113-left.png-1      0.901163  0.903955  \n",
       "archives_AD075EC_11M549_0113-left.png-2      0.921212  0.924855  \n",
       "archives_AD075EC_11M549_0113-right.png-0     0.965116  0.965909  \n",
       "archives_AD075EC_11M549_0113-right.png-1     0.935673  0.937143  \n",
       "archives_AD075EC_11M549_0113-right.png-2     0.952663  0.955056  \n",
       "archives_AD075EC_04M298B_0039-right.png-0    0.894410  0.896970  \n",
       "archives_AD075EC_04M298B_0039-right.png-1    0.983051  0.983240  \n",
       "archives_AD075EC_04M298B_0039-right.png-2    0.883436  0.884848  \n",
       "archives_AD075EC_04M298B_0038-right.png-0    0.888199  0.891566  \n",
       "archives_AD075EC_04M298B_0038-right.png-1    0.965517  0.966667  \n",
       "\n",
       "[36 rows x 42 columns]"
      ]
     },
     "execution_count": 26,
     "metadata": {},
     "output_type": "execute_result"
    }
   ],
   "source": [
    "def test2():\n",
    "    golden_set = {}\n",
    "    labels_set = {}\n",
    "\n",
    "    with open('donnees-test.json', 'r') as file:\n",
    "        golden_set = json.load(file)\n",
    "\n",
    "    with open('donnees-test-labels-gpt35.json', 'r') as file:\n",
    "        labels_set = json.load(file)\n",
    "\n",
    "    results = {}\n",
    "    for archive in golden_set.keys():\n",
    "        if archive not in labels_set.keys():\n",
    "            #print('Archive ' + archive + ' not found in labels_set')\n",
    "            continue\n",
    "\n",
    "        f1_scores = f1_score(labels_set[archive], golden_set[archive]['questions'], 0.5)\n",
    "        results[archive] = f1_scores\n",
    "        \n",
    "    scores = precision_recall(results, 0.5, True)\n",
    "    #save scores in a json file\n",
    "    with open('scores_extended.json', 'w') as file:\n",
    "        json.dump(scores, file, indent=4)\n",
    "    df = make_df(scores)\n",
    "    #plot(df)\n",
    "    return df\n",
    "\n",
    "df = test2()\n",
    "df"
   ]
  },
  {
   "cell_type": "code",
   "execution_count": 46,
   "metadata": {},
   "outputs": [
    {
     "data": {
      "application/vnd.plotly.v1+json": {
       "config": {
        "plotlyServerURL": "https://plot.ly"
       },
       "data": [
        {
         "marker": {
          "color": "blue"
         },
         "name": "F1_ok",
         "opacity": 0.5,
         "type": "bar",
         "x": [
          "01M1930_0023-left-0",
          "01M1930_0023-left-1",
          "01M1930_0023-left-2",
          "01M1930_0023-right-0",
          "01M1930_0023-right-1",
          "01M1930_0023-right-2",
          "01M1940_0020-left-0",
          "01M1940_0020-left-3",
          "01M1940_0020-right-0",
          "01M1940_0020-right-1",
          "01M1940_0020-right-2",
          "01M1940_0011-left-0",
          "01M1940_0011-left-1",
          "01M1940_0011-left-2",
          "01M1940_0011-right-0",
          "01M1940_0011-right-2",
          "11M549_0094-left-0",
          "11M549_0094-left-1",
          "11M549_0094-left-2",
          "11M549_0094-right-0",
          "11M549_0094-right-1",
          "11M549_0094-right-2",
          "04M298B_0036-right-0",
          "04M298B_0036-right-1",
          "04M298B_0036-right-2",
          "11M549_0113-left-0",
          "11M549_0113-left-1",
          "11M549_0113-left-2",
          "11M549_0113-right-0",
          "11M549_0113-right-1",
          "11M549_0113-right-2",
          "04M298B_0039-right-0",
          "04M298B_0039-right-1",
          "04M298B_0039-right-2",
          "04M298B_0038-right-0",
          "04M298B_0038-right-1"
         ],
         "y": [
          0.9666666666666667,
          1,
          0.8588235294117647,
          0.994475138121547,
          1,
          0.994475138121547,
          0.994475138121547,
          0.9102564102564101,
          0.9036144578313253,
          0.9662921348314606,
          0.9608938547486033,
          1,
          0.994475138121547,
          0.989010989010989,
          0.96,
          0.9834254143646408,
          0.967032967032967,
          0.9392265193370166,
          0.9281767955801105,
          0.9502762430939227,
          0.96,
          0.9662921348314606,
          0.9540229885057472,
          0.9195402298850575,
          0.8834355828220859,
          0.9310344827586208,
          0.9039548022598869,
          0.9248554913294798,
          0.9659090909090908,
          0.9371428571428572,
          0.9550561797752809,
          0.896969696969697,
          0.9832402234636871,
          0.8848484848484849,
          0.8915662650602411,
          0.9666666666666667
         ]
        },
        {
         "marker": {
          "color": "red"
         },
         "name": "F1_strict",
         "opacity": 0.5,
         "type": "bar",
         "x": [
          "01M1930_0023-left-0",
          "01M1930_0023-left-1",
          "01M1930_0023-left-2",
          "01M1930_0023-right-0",
          "01M1930_0023-right-1",
          "01M1930_0023-right-2",
          "01M1940_0020-left-0",
          "01M1940_0020-left-3",
          "01M1940_0020-right-0",
          "01M1940_0020-right-1",
          "01M1940_0020-right-2",
          "01M1940_0011-left-0",
          "01M1940_0011-left-1",
          "01M1940_0011-left-2",
          "01M1940_0011-right-0",
          "01M1940_0011-right-2",
          "11M549_0094-left-0",
          "11M549_0094-left-1",
          "11M549_0094-left-2",
          "11M549_0094-right-0",
          "11M549_0094-right-1",
          "11M549_0094-right-2",
          "04M298B_0036-right-0",
          "04M298B_0036-right-1",
          "04M298B_0036-right-2",
          "11M549_0113-left-0",
          "11M549_0113-left-1",
          "11M549_0113-left-2",
          "11M549_0113-right-0",
          "11M549_0113-right-1",
          "11M549_0113-right-2",
          "04M298B_0039-right-0",
          "04M298B_0039-right-1",
          "04M298B_0039-right-2",
          "04M298B_0038-right-0",
          "04M298B_0038-right-1"
         ],
         "y": [
          0.9333333333333335,
          0.945054945054945,
          0.8,
          0.994475138121547,
          0.967032967032967,
          0.9613259668508287,
          0.9723756906077348,
          0.9102564102564101,
          0.9036144578313253,
          0.9213483146067417,
          0.9385474860335197,
          0.989010989010989,
          0.9723756906077348,
          0.9340659340659341,
          0.8800000000000001,
          0.9392265193370165,
          0.9230769230769231,
          0.8397790055248618,
          0.8176795580110497,
          0.8287292817679558,
          0.8800000000000001,
          0.8876404494382023,
          0.9310344827586207,
          0.8850574712643678,
          0.8588957055214724,
          0.8850574712643678,
          0.8474576271186441,
          0.8323699421965318,
          0.9204545454545455,
          0.8914285714285715,
          0.853932584269663,
          0.8484848484848485,
          0.9608938547486033,
          0.8606060606060606,
          0.8313253012048193,
          0.8999999999999999
         ]
        },
        {
         "line": {
          "dash": "dash",
          "width": 4
         },
         "marker": {
          "color": "blue"
         },
         "mode": "lines",
         "name": "F1_ok macro average",
         "type": "scatter",
         "x": [
          "01M1930_0023-left-0",
          "01M1930_0023-left-1",
          "01M1930_0023-left-2",
          "01M1930_0023-right-0",
          "01M1930_0023-right-1",
          "01M1930_0023-right-2",
          "01M1940_0020-left-0",
          "01M1940_0020-left-3",
          "01M1940_0020-right-0",
          "01M1940_0020-right-1",
          "01M1940_0020-right-2",
          "01M1940_0011-left-0",
          "01M1940_0011-left-1",
          "01M1940_0011-left-2",
          "01M1940_0011-right-0",
          "01M1940_0011-right-2",
          "11M549_0094-left-0",
          "11M549_0094-left-1",
          "11M549_0094-left-2",
          "11M549_0094-right-0",
          "11M549_0094-right-1",
          "11M549_0094-right-2",
          "04M298B_0036-right-0",
          "04M298B_0036-right-1",
          "04M298B_0036-right-2",
          "11M549_0113-left-0",
          "11M549_0113-left-1",
          "11M549_0113-left-2",
          "11M549_0113-right-0",
          "11M549_0113-right-1",
          "11M549_0113-right-2",
          "04M298B_0039-right-0",
          "04M298B_0039-right-1",
          "04M298B_0039-right-2",
          "04M298B_0038-right-0",
          "04M298B_0038-right-1"
         ],
         "y": [
          0.9496147697744559,
          0.9496147697744559,
          0.9496147697744559,
          0.9496147697744559,
          0.9496147697744559,
          0.9496147697744559,
          0.9496147697744559,
          0.9496147697744559,
          0.9496147697744559,
          0.9496147697744559,
          0.9496147697744559,
          0.9496147697744559,
          0.9496147697744559,
          0.9496147697744559,
          0.9496147697744559,
          0.9496147697744559,
          0.9496147697744559,
          0.9496147697744559,
          0.9496147697744559,
          0.9496147697744559,
          0.9496147697744559,
          0.9496147697744559,
          0.9496147697744559,
          0.9496147697744559,
          0.9496147697744559,
          0.9496147697744559,
          0.9496147697744559,
          0.9496147697744559,
          0.9496147697744559,
          0.9496147697744559,
          0.9496147697744559,
          0.9496147697744559,
          0.9496147697744559,
          0.9496147697744559,
          0.9496147697744559,
          0.9496147697744559
         ]
        },
        {
         "line": {
          "dash": "dash",
          "width": 4
         },
         "marker": {
          "color": "red"
         },
         "mode": "lines",
         "name": "F1_strict macro average",
         "type": "scatter",
         "x": [
          "01M1930_0023-left-0",
          "01M1930_0023-left-1",
          "01M1930_0023-left-2",
          "01M1930_0023-right-0",
          "01M1930_0023-right-1",
          "01M1930_0023-right-2",
          "01M1940_0020-left-0",
          "01M1940_0020-left-3",
          "01M1940_0020-right-0",
          "01M1940_0020-right-1",
          "01M1940_0020-right-2",
          "01M1940_0011-left-0",
          "01M1940_0011-left-1",
          "01M1940_0011-left-2",
          "01M1940_0011-right-0",
          "01M1940_0011-right-2",
          "11M549_0094-left-0",
          "11M549_0094-left-1",
          "11M549_0094-left-2",
          "11M549_0094-right-0",
          "11M549_0094-right-1",
          "11M549_0094-right-2",
          "04M298B_0036-right-0",
          "04M298B_0036-right-1",
          "04M298B_0036-right-2",
          "11M549_0113-left-0",
          "11M549_0113-left-1",
          "11M549_0113-left-2",
          "11M549_0113-right-0",
          "11M549_0113-right-1",
          "11M549_0113-right-2",
          "04M298B_0039-right-0",
          "04M298B_0039-right-1",
          "04M298B_0039-right-2",
          "04M298B_0038-right-0",
          "04M298B_0038-right-1"
         ],
         "y": [
          0.9012763201914206,
          0.9012763201914206,
          0.9012763201914206,
          0.9012763201914206,
          0.9012763201914206,
          0.9012763201914206,
          0.9012763201914206,
          0.9012763201914206,
          0.9012763201914206,
          0.9012763201914206,
          0.9012763201914206,
          0.9012763201914206,
          0.9012763201914206,
          0.9012763201914206,
          0.9012763201914206,
          0.9012763201914206,
          0.9012763201914206,
          0.9012763201914206,
          0.9012763201914206,
          0.9012763201914206,
          0.9012763201914206,
          0.9012763201914206,
          0.9012763201914206,
          0.9012763201914206,
          0.9012763201914206,
          0.9012763201914206,
          0.9012763201914206,
          0.9012763201914206,
          0.9012763201914206,
          0.9012763201914206,
          0.9012763201914206,
          0.9012763201914206,
          0.9012763201914206,
          0.9012763201914206,
          0.9012763201914206,
          0.9012763201914206
         ]
        }
       ],
       "layout": {
        "bargap": 0.15,
        "bargroupgap": 0.1,
        "barmode": "group",
        "legend": {
         "bgcolor": "rgba(255, 255, 255, 0)",
         "bordercolor": "rgba(255, 255, 255, 0)",
         "x": 0,
         "y": 0
        },
        "template": {
         "data": {
          "bar": [
           {
            "error_x": {
             "color": "#2a3f5f"
            },
            "error_y": {
             "color": "#2a3f5f"
            },
            "marker": {
             "line": {
              "color": "#E5ECF6",
              "width": 0.5
             },
             "pattern": {
              "fillmode": "overlay",
              "size": 10,
              "solidity": 0.2
             }
            },
            "type": "bar"
           }
          ],
          "barpolar": [
           {
            "marker": {
             "line": {
              "color": "#E5ECF6",
              "width": 0.5
             },
             "pattern": {
              "fillmode": "overlay",
              "size": 10,
              "solidity": 0.2
             }
            },
            "type": "barpolar"
           }
          ],
          "carpet": [
           {
            "aaxis": {
             "endlinecolor": "#2a3f5f",
             "gridcolor": "white",
             "linecolor": "white",
             "minorgridcolor": "white",
             "startlinecolor": "#2a3f5f"
            },
            "baxis": {
             "endlinecolor": "#2a3f5f",
             "gridcolor": "white",
             "linecolor": "white",
             "minorgridcolor": "white",
             "startlinecolor": "#2a3f5f"
            },
            "type": "carpet"
           }
          ],
          "choropleth": [
           {
            "colorbar": {
             "outlinewidth": 0,
             "ticks": ""
            },
            "type": "choropleth"
           }
          ],
          "contour": [
           {
            "colorbar": {
             "outlinewidth": 0,
             "ticks": ""
            },
            "colorscale": [
             [
              0,
              "#0d0887"
             ],
             [
              0.1111111111111111,
              "#46039f"
             ],
             [
              0.2222222222222222,
              "#7201a8"
             ],
             [
              0.3333333333333333,
              "#9c179e"
             ],
             [
              0.4444444444444444,
              "#bd3786"
             ],
             [
              0.5555555555555556,
              "#d8576b"
             ],
             [
              0.6666666666666666,
              "#ed7953"
             ],
             [
              0.7777777777777778,
              "#fb9f3a"
             ],
             [
              0.8888888888888888,
              "#fdca26"
             ],
             [
              1,
              "#f0f921"
             ]
            ],
            "type": "contour"
           }
          ],
          "contourcarpet": [
           {
            "colorbar": {
             "outlinewidth": 0,
             "ticks": ""
            },
            "type": "contourcarpet"
           }
          ],
          "heatmap": [
           {
            "colorbar": {
             "outlinewidth": 0,
             "ticks": ""
            },
            "colorscale": [
             [
              0,
              "#0d0887"
             ],
             [
              0.1111111111111111,
              "#46039f"
             ],
             [
              0.2222222222222222,
              "#7201a8"
             ],
             [
              0.3333333333333333,
              "#9c179e"
             ],
             [
              0.4444444444444444,
              "#bd3786"
             ],
             [
              0.5555555555555556,
              "#d8576b"
             ],
             [
              0.6666666666666666,
              "#ed7953"
             ],
             [
              0.7777777777777778,
              "#fb9f3a"
             ],
             [
              0.8888888888888888,
              "#fdca26"
             ],
             [
              1,
              "#f0f921"
             ]
            ],
            "type": "heatmap"
           }
          ],
          "heatmapgl": [
           {
            "colorbar": {
             "outlinewidth": 0,
             "ticks": ""
            },
            "colorscale": [
             [
              0,
              "#0d0887"
             ],
             [
              0.1111111111111111,
              "#46039f"
             ],
             [
              0.2222222222222222,
              "#7201a8"
             ],
             [
              0.3333333333333333,
              "#9c179e"
             ],
             [
              0.4444444444444444,
              "#bd3786"
             ],
             [
              0.5555555555555556,
              "#d8576b"
             ],
             [
              0.6666666666666666,
              "#ed7953"
             ],
             [
              0.7777777777777778,
              "#fb9f3a"
             ],
             [
              0.8888888888888888,
              "#fdca26"
             ],
             [
              1,
              "#f0f921"
             ]
            ],
            "type": "heatmapgl"
           }
          ],
          "histogram": [
           {
            "marker": {
             "pattern": {
              "fillmode": "overlay",
              "size": 10,
              "solidity": 0.2
             }
            },
            "type": "histogram"
           }
          ],
          "histogram2d": [
           {
            "colorbar": {
             "outlinewidth": 0,
             "ticks": ""
            },
            "colorscale": [
             [
              0,
              "#0d0887"
             ],
             [
              0.1111111111111111,
              "#46039f"
             ],
             [
              0.2222222222222222,
              "#7201a8"
             ],
             [
              0.3333333333333333,
              "#9c179e"
             ],
             [
              0.4444444444444444,
              "#bd3786"
             ],
             [
              0.5555555555555556,
              "#d8576b"
             ],
             [
              0.6666666666666666,
              "#ed7953"
             ],
             [
              0.7777777777777778,
              "#fb9f3a"
             ],
             [
              0.8888888888888888,
              "#fdca26"
             ],
             [
              1,
              "#f0f921"
             ]
            ],
            "type": "histogram2d"
           }
          ],
          "histogram2dcontour": [
           {
            "colorbar": {
             "outlinewidth": 0,
             "ticks": ""
            },
            "colorscale": [
             [
              0,
              "#0d0887"
             ],
             [
              0.1111111111111111,
              "#46039f"
             ],
             [
              0.2222222222222222,
              "#7201a8"
             ],
             [
              0.3333333333333333,
              "#9c179e"
             ],
             [
              0.4444444444444444,
              "#bd3786"
             ],
             [
              0.5555555555555556,
              "#d8576b"
             ],
             [
              0.6666666666666666,
              "#ed7953"
             ],
             [
              0.7777777777777778,
              "#fb9f3a"
             ],
             [
              0.8888888888888888,
              "#fdca26"
             ],
             [
              1,
              "#f0f921"
             ]
            ],
            "type": "histogram2dcontour"
           }
          ],
          "mesh3d": [
           {
            "colorbar": {
             "outlinewidth": 0,
             "ticks": ""
            },
            "type": "mesh3d"
           }
          ],
          "parcoords": [
           {
            "line": {
             "colorbar": {
              "outlinewidth": 0,
              "ticks": ""
             }
            },
            "type": "parcoords"
           }
          ],
          "pie": [
           {
            "automargin": true,
            "type": "pie"
           }
          ],
          "scatter": [
           {
            "fillpattern": {
             "fillmode": "overlay",
             "size": 10,
             "solidity": 0.2
            },
            "type": "scatter"
           }
          ],
          "scatter3d": [
           {
            "line": {
             "colorbar": {
              "outlinewidth": 0,
              "ticks": ""
             }
            },
            "marker": {
             "colorbar": {
              "outlinewidth": 0,
              "ticks": ""
             }
            },
            "type": "scatter3d"
           }
          ],
          "scattercarpet": [
           {
            "marker": {
             "colorbar": {
              "outlinewidth": 0,
              "ticks": ""
             }
            },
            "type": "scattercarpet"
           }
          ],
          "scattergeo": [
           {
            "marker": {
             "colorbar": {
              "outlinewidth": 0,
              "ticks": ""
             }
            },
            "type": "scattergeo"
           }
          ],
          "scattergl": [
           {
            "marker": {
             "colorbar": {
              "outlinewidth": 0,
              "ticks": ""
             }
            },
            "type": "scattergl"
           }
          ],
          "scattermapbox": [
           {
            "marker": {
             "colorbar": {
              "outlinewidth": 0,
              "ticks": ""
             }
            },
            "type": "scattermapbox"
           }
          ],
          "scatterpolar": [
           {
            "marker": {
             "colorbar": {
              "outlinewidth": 0,
              "ticks": ""
             }
            },
            "type": "scatterpolar"
           }
          ],
          "scatterpolargl": [
           {
            "marker": {
             "colorbar": {
              "outlinewidth": 0,
              "ticks": ""
             }
            },
            "type": "scatterpolargl"
           }
          ],
          "scatterternary": [
           {
            "marker": {
             "colorbar": {
              "outlinewidth": 0,
              "ticks": ""
             }
            },
            "type": "scatterternary"
           }
          ],
          "surface": [
           {
            "colorbar": {
             "outlinewidth": 0,
             "ticks": ""
            },
            "colorscale": [
             [
              0,
              "#0d0887"
             ],
             [
              0.1111111111111111,
              "#46039f"
             ],
             [
              0.2222222222222222,
              "#7201a8"
             ],
             [
              0.3333333333333333,
              "#9c179e"
             ],
             [
              0.4444444444444444,
              "#bd3786"
             ],
             [
              0.5555555555555556,
              "#d8576b"
             ],
             [
              0.6666666666666666,
              "#ed7953"
             ],
             [
              0.7777777777777778,
              "#fb9f3a"
             ],
             [
              0.8888888888888888,
              "#fdca26"
             ],
             [
              1,
              "#f0f921"
             ]
            ],
            "type": "surface"
           }
          ],
          "table": [
           {
            "cells": {
             "fill": {
              "color": "#EBF0F8"
             },
             "line": {
              "color": "white"
             }
            },
            "header": {
             "fill": {
              "color": "#C8D4E3"
             },
             "line": {
              "color": "white"
             }
            },
            "type": "table"
           }
          ]
         },
         "layout": {
          "annotationdefaults": {
           "arrowcolor": "#2a3f5f",
           "arrowhead": 0,
           "arrowwidth": 1
          },
          "autotypenumbers": "strict",
          "coloraxis": {
           "colorbar": {
            "outlinewidth": 0,
            "ticks": ""
           }
          },
          "colorscale": {
           "diverging": [
            [
             0,
             "#8e0152"
            ],
            [
             0.1,
             "#c51b7d"
            ],
            [
             0.2,
             "#de77ae"
            ],
            [
             0.3,
             "#f1b6da"
            ],
            [
             0.4,
             "#fde0ef"
            ],
            [
             0.5,
             "#f7f7f7"
            ],
            [
             0.6,
             "#e6f5d0"
            ],
            [
             0.7,
             "#b8e186"
            ],
            [
             0.8,
             "#7fbc41"
            ],
            [
             0.9,
             "#4d9221"
            ],
            [
             1,
             "#276419"
            ]
           ],
           "sequential": [
            [
             0,
             "#0d0887"
            ],
            [
             0.1111111111111111,
             "#46039f"
            ],
            [
             0.2222222222222222,
             "#7201a8"
            ],
            [
             0.3333333333333333,
             "#9c179e"
            ],
            [
             0.4444444444444444,
             "#bd3786"
            ],
            [
             0.5555555555555556,
             "#d8576b"
            ],
            [
             0.6666666666666666,
             "#ed7953"
            ],
            [
             0.7777777777777778,
             "#fb9f3a"
            ],
            [
             0.8888888888888888,
             "#fdca26"
            ],
            [
             1,
             "#f0f921"
            ]
           ],
           "sequentialminus": [
            [
             0,
             "#0d0887"
            ],
            [
             0.1111111111111111,
             "#46039f"
            ],
            [
             0.2222222222222222,
             "#7201a8"
            ],
            [
             0.3333333333333333,
             "#9c179e"
            ],
            [
             0.4444444444444444,
             "#bd3786"
            ],
            [
             0.5555555555555556,
             "#d8576b"
            ],
            [
             0.6666666666666666,
             "#ed7953"
            ],
            [
             0.7777777777777778,
             "#fb9f3a"
            ],
            [
             0.8888888888888888,
             "#fdca26"
            ],
            [
             1,
             "#f0f921"
            ]
           ]
          },
          "colorway": [
           "#636efa",
           "#EF553B",
           "#00cc96",
           "#ab63fa",
           "#FFA15A",
           "#19d3f3",
           "#FF6692",
           "#B6E880",
           "#FF97FF",
           "#FECB52"
          ],
          "font": {
           "color": "#2a3f5f"
          },
          "geo": {
           "bgcolor": "white",
           "lakecolor": "white",
           "landcolor": "#E5ECF6",
           "showlakes": true,
           "showland": true,
           "subunitcolor": "white"
          },
          "hoverlabel": {
           "align": "left"
          },
          "hovermode": "closest",
          "mapbox": {
           "style": "light"
          },
          "paper_bgcolor": "white",
          "plot_bgcolor": "#E5ECF6",
          "polar": {
           "angularaxis": {
            "gridcolor": "white",
            "linecolor": "white",
            "ticks": ""
           },
           "bgcolor": "#E5ECF6",
           "radialaxis": {
            "gridcolor": "white",
            "linecolor": "white",
            "ticks": ""
           }
          },
          "scene": {
           "xaxis": {
            "backgroundcolor": "#E5ECF6",
            "gridcolor": "white",
            "gridwidth": 2,
            "linecolor": "white",
            "showbackground": true,
            "ticks": "",
            "zerolinecolor": "white"
           },
           "yaxis": {
            "backgroundcolor": "#E5ECF6",
            "gridcolor": "white",
            "gridwidth": 2,
            "linecolor": "white",
            "showbackground": true,
            "ticks": "",
            "zerolinecolor": "white"
           },
           "zaxis": {
            "backgroundcolor": "#E5ECF6",
            "gridcolor": "white",
            "gridwidth": 2,
            "linecolor": "white",
            "showbackground": true,
            "ticks": "",
            "zerolinecolor": "white"
           }
          },
          "shapedefaults": {
           "line": {
            "color": "#2a3f5f"
           }
          },
          "ternary": {
           "aaxis": {
            "gridcolor": "white",
            "linecolor": "white",
            "ticks": ""
           },
           "baxis": {
            "gridcolor": "white",
            "linecolor": "white",
            "ticks": ""
           },
           "bgcolor": "#E5ECF6",
           "caxis": {
            "gridcolor": "white",
            "linecolor": "white",
            "ticks": ""
           }
          },
          "title": {
           "x": 0.05
          },
          "xaxis": {
           "automargin": true,
           "gridcolor": "white",
           "linecolor": "white",
           "ticks": "",
           "title": {
            "standoff": 15
           },
           "zerolinecolor": "white",
           "zerolinewidth": 2
          },
          "yaxis": {
           "automargin": true,
           "gridcolor": "white",
           "linecolor": "white",
           "ticks": "",
           "title": {
            "standoff": 15
           },
           "zerolinecolor": "white",
           "zerolinewidth": 2
          }
         }
        },
        "title": {
         "text": "F1 scores"
        },
        "xaxis": {
         "tickfont": {
          "size": 14
         }
        },
        "yaxis": {
         "tickfont": {
          "size": 14
         },
         "title": {
          "font": {
           "size": 16
          },
          "text": "F1"
         }
        }
       }
      }
     },
     "metadata": {},
     "output_type": "display_data"
    }
   ],
   "source": [
    "import numpy as np\n",
    "def plot(scores : pd.DataFrame):\n",
    "    \n",
    "    #for each archive, keep only F1_ok in multi_index\n",
    "    scores_ok = scores.xs('F1_ok', level='F1', axis=1)\n",
    "    scores_sctrict = scores.xs('F1_strict', level='F1', axis=1)\n",
    "\n",
    "    #rename index : remove archives_AD075EC and .png\n",
    "    scores_ok.index = scores_ok.index.str.replace('archives_AD075EC_', '')\n",
    "    scores_ok.index = scores_ok.index.str.replace('.png', '')\n",
    "    scores_sctrict.index = scores_sctrict.index.str.replace('archives_AD075EC_', '')\n",
    "    scores_sctrict.index = scores_sctrict.index.str.replace('.png', '')\n",
    "\n",
    "\n",
    "    #plot : x_axis = archives, y_axis = F1 between 0 and 1. For each archive, plot bars for F1_ok (blue) and F1_strict (red) in the same graph\n",
    "    fig = go.Figure()\n",
    "    fig.add_trace(go.Bar(\n",
    "        x=scores_ok.index,\n",
    "        y=scores_ok['TOTAL'],\n",
    "        name='F1_ok',\n",
    "        marker_color='blue',\n",
    "        opacity=0.5\n",
    "    ))\n",
    "    fig.add_trace(go.Bar(\n",
    "        x=scores_sctrict.index,\n",
    "        y=scores_sctrict['TOTAL'],\n",
    "        name='F1_strict',\n",
    "        marker_color='red',\n",
    "        opacity=0.5\n",
    "    ))\n",
    "\n",
    "    #add a line for the macro average of F1_ok and F1_strict\n",
    "    fig.add_trace(go.Scatter(\n",
    "        x=scores_ok.index,\n",
    "        y=np.full(len(scores_ok['TOTAL']), scores_ok['TOTAL'].mean()),\n",
    "        name='F1_ok macro average',\n",
    "        marker_color='blue',\n",
    "        mode='lines',\n",
    "        line=dict(\n",
    "            dash='dash',\n",
    "            width=4\n",
    "        )\n",
    "    ))\n",
    "    fig.add_trace(go.Scatter(\n",
    "        x=scores_sctrict.index,\n",
    "        y=np.full(len(scores_sctrict['TOTAL']), scores_sctrict['TOTAL'].mean()),\n",
    "        name='F1_strict macro average',\n",
    "        marker_color='red',\n",
    "        mode='lines',\n",
    "        line=dict(\n",
    "            dash='dash',\n",
    "            width=4\n",
    "        )\n",
    "    ))\n",
    "\n",
    "\n",
    "\n",
    "    fig.update_layout(\n",
    "        title='F1 scores',\n",
    "        xaxis_tickfont_size=14,\n",
    "        yaxis=dict(\n",
    "            title='F1',\n",
    "            titlefont_size=16,\n",
    "            tickfont_size=14,\n",
    "        ),\n",
    "        legend=dict(\n",
    "            x=0.0,\n",
    "            y=0.0,\n",
    "            bgcolor='rgba(255, 255, 255, 0)',\n",
    "            bordercolor='rgba(255, 255, 255, 0)'\n",
    "        ),\n",
    "        barmode='group',\n",
    "        bargap=0.15, # gap between bars of adjacent location coordinates.\n",
    "        bargroupgap=0.1 # gap between bars of the same location coordinate.\n",
    "    )\n",
    "\n",
    "    fig.show()\n",
    "\n",
    "plot(df)"
   ]
  },
  {
   "cell_type": "code",
   "execution_count": 65,
   "metadata": {},
   "outputs": [
    {
     "data": {
      "application/vnd.plotly.v1+json": {
       "config": {
        "plotlyServerURL": "https://plot.ly"
       },
       "data": [
        {
         "marker": {
          "color": "blue"
         },
         "name": "F1_ok",
         "opacity": 0.5,
         "type": "bar",
         "x": [
          "PER",
          "LOC",
          "DATE",
          "JOB",
          "MERE_MARIEE",
          "PERE_MARIEE",
          "EX_EPOUX",
          "PERE_MARI",
          "MERE_MARI",
          "ADMIN",
          "MARIEE",
          "MARI",
          "TEMOIN",
          "TOTAL"
         ],
         "y": [
          0.954659136493422,
          0.9314633372066273,
          0.9974747474747474,
          0.9470568783068782,
          0.9532446311858078,
          0.9352665852665853,
          0.9444444444444444,
          0.980952380952381,
          0.9617711899574645,
          0.9559015059015059,
          0.9788950170971863,
          0.9660126661899464,
          0.8076107441409165,
          0.9496147697744559
         ]
        },
        {
         "marker": {
          "color": "red"
         },
         "name": "F1_strict",
         "opacity": 0.5,
         "type": "bar",
         "x": [
          "PER",
          "LOC",
          "DATE",
          "JOB",
          "MERE_MARIEE",
          "PERE_MARIEE",
          "EX_EPOUX",
          "PERE_MARI",
          "MERE_MARI",
          "ADMIN",
          "MARIEE",
          "MARI",
          "TEMOIN",
          "TOTAL"
         ],
         "y": [
          0.8957222919472133,
          0.8970462176978352,
          0.9469696969696968,
          0.873181216931217,
          0.9168041290590312,
          0.917177960927961,
          0.9305555555555556,
          0.959623015873016,
          0.9321311858076567,
          0.8765618640618642,
          0.9208566359741277,
          0.8839153475937402,
          0.76977756227883,
          0.9012763201914206
         ]
        },
        {
         "line": {
          "dash": "dash",
          "width": 4
         },
         "marker": {
          "color": "blue"
         },
         "mode": "lines",
         "name": "F1_ok macro average",
         "type": "scatter",
         "x": [
          "PER",
          "LOC",
          "DATE",
          "JOB",
          "MERE_MARIEE",
          "PERE_MARIEE",
          "EX_EPOUX",
          "PERE_MARI",
          "MERE_MARI",
          "ADMIN",
          "MARIEE",
          "MARI",
          "TEMOIN",
          "TOTAL"
         ],
         "y": [
          0.947454859599455,
          0.947454859599455,
          0.947454859599455,
          0.947454859599455,
          0.947454859599455,
          0.947454859599455,
          0.947454859599455,
          0.947454859599455,
          0.947454859599455,
          0.947454859599455,
          0.947454859599455,
          0.947454859599455,
          0.947454859599455,
          0.947454859599455
         ]
        },
        {
         "line": {
          "dash": "dash",
          "width": 4
         },
         "marker": {
          "color": "red"
         },
         "mode": "lines",
         "name": "F1_strict macro average",
         "type": "scatter",
         "x": [
          "PER",
          "LOC",
          "DATE",
          "JOB",
          "MERE_MARIEE",
          "PERE_MARIEE",
          "EX_EPOUX",
          "PERE_MARI",
          "MERE_MARI",
          "ADMIN",
          "MARIEE",
          "MARI",
          "TEMOIN",
          "TOTAL"
         ],
         "y": [
          0.901542785776369,
          0.901542785776369,
          0.901542785776369,
          0.901542785776369,
          0.901542785776369,
          0.901542785776369,
          0.901542785776369,
          0.901542785776369,
          0.901542785776369,
          0.901542785776369,
          0.901542785776369,
          0.901542785776369,
          0.901542785776369,
          0.901542785776369
         ]
        }
       ],
       "layout": {
        "bargap": 0.15,
        "bargroupgap": 0.1,
        "barmode": "group",
        "legend": {
         "bgcolor": "rgba(255, 255, 255, 0)",
         "bordercolor": "rgba(255, 255, 255, 0)",
         "x": 0,
         "y": 0
        },
        "template": {
         "data": {
          "bar": [
           {
            "error_x": {
             "color": "#2a3f5f"
            },
            "error_y": {
             "color": "#2a3f5f"
            },
            "marker": {
             "line": {
              "color": "#E5ECF6",
              "width": 0.5
             },
             "pattern": {
              "fillmode": "overlay",
              "size": 10,
              "solidity": 0.2
             }
            },
            "type": "bar"
           }
          ],
          "barpolar": [
           {
            "marker": {
             "line": {
              "color": "#E5ECF6",
              "width": 0.5
             },
             "pattern": {
              "fillmode": "overlay",
              "size": 10,
              "solidity": 0.2
             }
            },
            "type": "barpolar"
           }
          ],
          "carpet": [
           {
            "aaxis": {
             "endlinecolor": "#2a3f5f",
             "gridcolor": "white",
             "linecolor": "white",
             "minorgridcolor": "white",
             "startlinecolor": "#2a3f5f"
            },
            "baxis": {
             "endlinecolor": "#2a3f5f",
             "gridcolor": "white",
             "linecolor": "white",
             "minorgridcolor": "white",
             "startlinecolor": "#2a3f5f"
            },
            "type": "carpet"
           }
          ],
          "choropleth": [
           {
            "colorbar": {
             "outlinewidth": 0,
             "ticks": ""
            },
            "type": "choropleth"
           }
          ],
          "contour": [
           {
            "colorbar": {
             "outlinewidth": 0,
             "ticks": ""
            },
            "colorscale": [
             [
              0,
              "#0d0887"
             ],
             [
              0.1111111111111111,
              "#46039f"
             ],
             [
              0.2222222222222222,
              "#7201a8"
             ],
             [
              0.3333333333333333,
              "#9c179e"
             ],
             [
              0.4444444444444444,
              "#bd3786"
             ],
             [
              0.5555555555555556,
              "#d8576b"
             ],
             [
              0.6666666666666666,
              "#ed7953"
             ],
             [
              0.7777777777777778,
              "#fb9f3a"
             ],
             [
              0.8888888888888888,
              "#fdca26"
             ],
             [
              1,
              "#f0f921"
             ]
            ],
            "type": "contour"
           }
          ],
          "contourcarpet": [
           {
            "colorbar": {
             "outlinewidth": 0,
             "ticks": ""
            },
            "type": "contourcarpet"
           }
          ],
          "heatmap": [
           {
            "colorbar": {
             "outlinewidth": 0,
             "ticks": ""
            },
            "colorscale": [
             [
              0,
              "#0d0887"
             ],
             [
              0.1111111111111111,
              "#46039f"
             ],
             [
              0.2222222222222222,
              "#7201a8"
             ],
             [
              0.3333333333333333,
              "#9c179e"
             ],
             [
              0.4444444444444444,
              "#bd3786"
             ],
             [
              0.5555555555555556,
              "#d8576b"
             ],
             [
              0.6666666666666666,
              "#ed7953"
             ],
             [
              0.7777777777777778,
              "#fb9f3a"
             ],
             [
              0.8888888888888888,
              "#fdca26"
             ],
             [
              1,
              "#f0f921"
             ]
            ],
            "type": "heatmap"
           }
          ],
          "heatmapgl": [
           {
            "colorbar": {
             "outlinewidth": 0,
             "ticks": ""
            },
            "colorscale": [
             [
              0,
              "#0d0887"
             ],
             [
              0.1111111111111111,
              "#46039f"
             ],
             [
              0.2222222222222222,
              "#7201a8"
             ],
             [
              0.3333333333333333,
              "#9c179e"
             ],
             [
              0.4444444444444444,
              "#bd3786"
             ],
             [
              0.5555555555555556,
              "#d8576b"
             ],
             [
              0.6666666666666666,
              "#ed7953"
             ],
             [
              0.7777777777777778,
              "#fb9f3a"
             ],
             [
              0.8888888888888888,
              "#fdca26"
             ],
             [
              1,
              "#f0f921"
             ]
            ],
            "type": "heatmapgl"
           }
          ],
          "histogram": [
           {
            "marker": {
             "pattern": {
              "fillmode": "overlay",
              "size": 10,
              "solidity": 0.2
             }
            },
            "type": "histogram"
           }
          ],
          "histogram2d": [
           {
            "colorbar": {
             "outlinewidth": 0,
             "ticks": ""
            },
            "colorscale": [
             [
              0,
              "#0d0887"
             ],
             [
              0.1111111111111111,
              "#46039f"
             ],
             [
              0.2222222222222222,
              "#7201a8"
             ],
             [
              0.3333333333333333,
              "#9c179e"
             ],
             [
              0.4444444444444444,
              "#bd3786"
             ],
             [
              0.5555555555555556,
              "#d8576b"
             ],
             [
              0.6666666666666666,
              "#ed7953"
             ],
             [
              0.7777777777777778,
              "#fb9f3a"
             ],
             [
              0.8888888888888888,
              "#fdca26"
             ],
             [
              1,
              "#f0f921"
             ]
            ],
            "type": "histogram2d"
           }
          ],
          "histogram2dcontour": [
           {
            "colorbar": {
             "outlinewidth": 0,
             "ticks": ""
            },
            "colorscale": [
             [
              0,
              "#0d0887"
             ],
             [
              0.1111111111111111,
              "#46039f"
             ],
             [
              0.2222222222222222,
              "#7201a8"
             ],
             [
              0.3333333333333333,
              "#9c179e"
             ],
             [
              0.4444444444444444,
              "#bd3786"
             ],
             [
              0.5555555555555556,
              "#d8576b"
             ],
             [
              0.6666666666666666,
              "#ed7953"
             ],
             [
              0.7777777777777778,
              "#fb9f3a"
             ],
             [
              0.8888888888888888,
              "#fdca26"
             ],
             [
              1,
              "#f0f921"
             ]
            ],
            "type": "histogram2dcontour"
           }
          ],
          "mesh3d": [
           {
            "colorbar": {
             "outlinewidth": 0,
             "ticks": ""
            },
            "type": "mesh3d"
           }
          ],
          "parcoords": [
           {
            "line": {
             "colorbar": {
              "outlinewidth": 0,
              "ticks": ""
             }
            },
            "type": "parcoords"
           }
          ],
          "pie": [
           {
            "automargin": true,
            "type": "pie"
           }
          ],
          "scatter": [
           {
            "fillpattern": {
             "fillmode": "overlay",
             "size": 10,
             "solidity": 0.2
            },
            "type": "scatter"
           }
          ],
          "scatter3d": [
           {
            "line": {
             "colorbar": {
              "outlinewidth": 0,
              "ticks": ""
             }
            },
            "marker": {
             "colorbar": {
              "outlinewidth": 0,
              "ticks": ""
             }
            },
            "type": "scatter3d"
           }
          ],
          "scattercarpet": [
           {
            "marker": {
             "colorbar": {
              "outlinewidth": 0,
              "ticks": ""
             }
            },
            "type": "scattercarpet"
           }
          ],
          "scattergeo": [
           {
            "marker": {
             "colorbar": {
              "outlinewidth": 0,
              "ticks": ""
             }
            },
            "type": "scattergeo"
           }
          ],
          "scattergl": [
           {
            "marker": {
             "colorbar": {
              "outlinewidth": 0,
              "ticks": ""
             }
            },
            "type": "scattergl"
           }
          ],
          "scattermapbox": [
           {
            "marker": {
             "colorbar": {
              "outlinewidth": 0,
              "ticks": ""
             }
            },
            "type": "scattermapbox"
           }
          ],
          "scatterpolar": [
           {
            "marker": {
             "colorbar": {
              "outlinewidth": 0,
              "ticks": ""
             }
            },
            "type": "scatterpolar"
           }
          ],
          "scatterpolargl": [
           {
            "marker": {
             "colorbar": {
              "outlinewidth": 0,
              "ticks": ""
             }
            },
            "type": "scatterpolargl"
           }
          ],
          "scatterternary": [
           {
            "marker": {
             "colorbar": {
              "outlinewidth": 0,
              "ticks": ""
             }
            },
            "type": "scatterternary"
           }
          ],
          "surface": [
           {
            "colorbar": {
             "outlinewidth": 0,
             "ticks": ""
            },
            "colorscale": [
             [
              0,
              "#0d0887"
             ],
             [
              0.1111111111111111,
              "#46039f"
             ],
             [
              0.2222222222222222,
              "#7201a8"
             ],
             [
              0.3333333333333333,
              "#9c179e"
             ],
             [
              0.4444444444444444,
              "#bd3786"
             ],
             [
              0.5555555555555556,
              "#d8576b"
             ],
             [
              0.6666666666666666,
              "#ed7953"
             ],
             [
              0.7777777777777778,
              "#fb9f3a"
             ],
             [
              0.8888888888888888,
              "#fdca26"
             ],
             [
              1,
              "#f0f921"
             ]
            ],
            "type": "surface"
           }
          ],
          "table": [
           {
            "cells": {
             "fill": {
              "color": "#EBF0F8"
             },
             "line": {
              "color": "white"
             }
            },
            "header": {
             "fill": {
              "color": "#C8D4E3"
             },
             "line": {
              "color": "white"
             }
            },
            "type": "table"
           }
          ]
         },
         "layout": {
          "annotationdefaults": {
           "arrowcolor": "#2a3f5f",
           "arrowhead": 0,
           "arrowwidth": 1
          },
          "autotypenumbers": "strict",
          "coloraxis": {
           "colorbar": {
            "outlinewidth": 0,
            "ticks": ""
           }
          },
          "colorscale": {
           "diverging": [
            [
             0,
             "#8e0152"
            ],
            [
             0.1,
             "#c51b7d"
            ],
            [
             0.2,
             "#de77ae"
            ],
            [
             0.3,
             "#f1b6da"
            ],
            [
             0.4,
             "#fde0ef"
            ],
            [
             0.5,
             "#f7f7f7"
            ],
            [
             0.6,
             "#e6f5d0"
            ],
            [
             0.7,
             "#b8e186"
            ],
            [
             0.8,
             "#7fbc41"
            ],
            [
             0.9,
             "#4d9221"
            ],
            [
             1,
             "#276419"
            ]
           ],
           "sequential": [
            [
             0,
             "#0d0887"
            ],
            [
             0.1111111111111111,
             "#46039f"
            ],
            [
             0.2222222222222222,
             "#7201a8"
            ],
            [
             0.3333333333333333,
             "#9c179e"
            ],
            [
             0.4444444444444444,
             "#bd3786"
            ],
            [
             0.5555555555555556,
             "#d8576b"
            ],
            [
             0.6666666666666666,
             "#ed7953"
            ],
            [
             0.7777777777777778,
             "#fb9f3a"
            ],
            [
             0.8888888888888888,
             "#fdca26"
            ],
            [
             1,
             "#f0f921"
            ]
           ],
           "sequentialminus": [
            [
             0,
             "#0d0887"
            ],
            [
             0.1111111111111111,
             "#46039f"
            ],
            [
             0.2222222222222222,
             "#7201a8"
            ],
            [
             0.3333333333333333,
             "#9c179e"
            ],
            [
             0.4444444444444444,
             "#bd3786"
            ],
            [
             0.5555555555555556,
             "#d8576b"
            ],
            [
             0.6666666666666666,
             "#ed7953"
            ],
            [
             0.7777777777777778,
             "#fb9f3a"
            ],
            [
             0.8888888888888888,
             "#fdca26"
            ],
            [
             1,
             "#f0f921"
            ]
           ]
          },
          "colorway": [
           "#636efa",
           "#EF553B",
           "#00cc96",
           "#ab63fa",
           "#FFA15A",
           "#19d3f3",
           "#FF6692",
           "#B6E880",
           "#FF97FF",
           "#FECB52"
          ],
          "font": {
           "color": "#2a3f5f"
          },
          "geo": {
           "bgcolor": "white",
           "lakecolor": "white",
           "landcolor": "#E5ECF6",
           "showlakes": true,
           "showland": true,
           "subunitcolor": "white"
          },
          "hoverlabel": {
           "align": "left"
          },
          "hovermode": "closest",
          "mapbox": {
           "style": "light"
          },
          "paper_bgcolor": "white",
          "plot_bgcolor": "#E5ECF6",
          "polar": {
           "angularaxis": {
            "gridcolor": "white",
            "linecolor": "white",
            "ticks": ""
           },
           "bgcolor": "#E5ECF6",
           "radialaxis": {
            "gridcolor": "white",
            "linecolor": "white",
            "ticks": ""
           }
          },
          "scene": {
           "xaxis": {
            "backgroundcolor": "#E5ECF6",
            "gridcolor": "white",
            "gridwidth": 2,
            "linecolor": "white",
            "showbackground": true,
            "ticks": "",
            "zerolinecolor": "white"
           },
           "yaxis": {
            "backgroundcolor": "#E5ECF6",
            "gridcolor": "white",
            "gridwidth": 2,
            "linecolor": "white",
            "showbackground": true,
            "ticks": "",
            "zerolinecolor": "white"
           },
           "zaxis": {
            "backgroundcolor": "#E5ECF6",
            "gridcolor": "white",
            "gridwidth": 2,
            "linecolor": "white",
            "showbackground": true,
            "ticks": "",
            "zerolinecolor": "white"
           }
          },
          "shapedefaults": {
           "line": {
            "color": "#2a3f5f"
           }
          },
          "ternary": {
           "aaxis": {
            "gridcolor": "white",
            "linecolor": "white",
            "ticks": ""
           },
           "baxis": {
            "gridcolor": "white",
            "linecolor": "white",
            "ticks": ""
           },
           "bgcolor": "#E5ECF6",
           "caxis": {
            "gridcolor": "white",
            "linecolor": "white",
            "ticks": ""
           }
          },
          "title": {
           "x": 0.05
          },
          "xaxis": {
           "automargin": true,
           "gridcolor": "white",
           "linecolor": "white",
           "ticks": "",
           "title": {
            "standoff": 15
           },
           "zerolinecolor": "white",
           "zerolinewidth": 2
          },
          "yaxis": {
           "automargin": true,
           "gridcolor": "white",
           "linecolor": "white",
           "ticks": "",
           "title": {
            "standoff": 15
           },
           "zerolinecolor": "white",
           "zerolinewidth": 2
          }
         }
        },
        "title": {
         "text": "F1 scores"
        },
        "xaxis": {
         "tickfont": {
          "size": 14
         }
        },
        "yaxis": {
         "tickfont": {
          "size": 14
         },
         "title": {
          "font": {
           "size": 16
          },
          "text": "F1"
         }
        }
       }
      }
     },
     "metadata": {},
     "output_type": "display_data"
    }
   ],
   "source": [
    "import numpy as np\n",
    "def plot(scores : pd.DataFrame):\n",
    "    \n",
    "    score_mean_ok = scores.xs('F1_ok', level='F1', axis=1).mean()\n",
    "    score_mean_weighted = scores.xs('F1_weighted', level='F1', axis=1).mean()\n",
    "    score_mean_strict = scores.xs('F1_strict', level='F1', axis=1).mean()\n",
    "\n",
    "    concat = pd.concat([score_mean_ok, score_mean_weighted, score_mean_strict], axis=1)\n",
    "    concat.columns = ['F1_ok', 'F1_weighted', 'F1_strict']\n",
    "\n",
    "    scores = concat.copy()\n",
    "\n",
    "    #Plot : x_axis = tags, y_axis = F1 between 0 and 1. For each tag, plot bars for F1_ok (blue), F1_weighted (green) and F1_strict (red) in the same graph\n",
    "    fig = go.Figure()\n",
    "    fig.add_trace(go.Bar(\n",
    "        x=scores.index,\n",
    "        y=scores['F1_ok'],\n",
    "        name='F1_ok',\n",
    "        marker_color='blue',\n",
    "        opacity=0.5\n",
    "    ))\n",
    "    fig.add_trace(go.Bar(\n",
    "        x=scores.index,\n",
    "        y=scores['F1_strict'],\n",
    "        name='F1_strict',\n",
    "        marker_color='red',\n",
    "        opacity=0.5\n",
    "    ))\n",
    "\n",
    "    #add a line for the macro average of F1_ok and F1_strict\n",
    "    fig.add_trace(go.Scatter(\n",
    "        x=scores.index,\n",
    "        y=np.full(len(scores['F1_ok']), scores['F1_ok'].mean()),\n",
    "        name='F1_ok macro average',\n",
    "        marker_color='blue',\n",
    "        mode='lines',\n",
    "        line=dict(\n",
    "            dash='dash',\n",
    "            width=4\n",
    "        )\n",
    "    ))\n",
    "    fig.add_trace(go.Scatter(\n",
    "        x=scores.index,\n",
    "        y=np.full(len(scores['F1_strict']), scores['F1_strict'].mean()),\n",
    "        name='F1_strict macro average',\n",
    "        marker_color='red',\n",
    "        mode='lines',\n",
    "        line=dict(\n",
    "            dash='dash',\n",
    "            width=4\n",
    "        )\n",
    "    ))\n",
    "\n",
    "    fig.update_layout(\n",
    "        title='F1 scores',\n",
    "        xaxis_tickfont_size=14,\n",
    "        yaxis=dict(\n",
    "            title='F1',\n",
    "            titlefont_size=16,\n",
    "            tickfont_size=14,\n",
    "        ),\n",
    "        legend=dict(\n",
    "            x=0.0,\n",
    "            y=0.0,\n",
    "            bgcolor='rgba(255, 255, 255, 0)',\n",
    "            bordercolor='rgba(255, 255, 255, 0)'\n",
    "        ),\n",
    "        barmode='group',\n",
    "        bargap=0.15, # gap between bars of adjacent location coordinates.\n",
    "        bargroupgap=0.1 # gap between bars of the same location coordinate.\n",
    "    )\n",
    "\n",
    "    fig.show()\n",
    "\n",
    "\n",
    "plot(df)\n"
   ]
  },
  {
   "cell_type": "code",
   "execution_count": 89,
   "metadata": {},
   "outputs": [
    {
     "data": {
      "application/vnd.plotly.v1+json": {
       "config": {
        "plotlyServerURL": "https://plot.ly"
       },
       "data": [
        {
         "marker": {
          "color": "rgb(255, 255, 0)"
         },
         "name": "DATE",
         "type": "bar",
         "x": [
          "ADMIN",
          "EX_EPOUX",
          "MARI",
          "MARIEE",
          "MERE_MARI",
          "MERE_MARIEE",
          "PERE_MARI",
          "PERE_MARIEE",
          "TEMOIN"
         ],
         "y": [
          1,
          0,
          1,
          0.9907407407407407,
          0,
          0,
          0,
          0,
          0
         ]
        },
        {
         "marker": {
          "color": "rgb(255, 0, 0)"
         },
         "name": "JOB",
         "type": "bar",
         "x": [
          "ADMIN",
          "EX_EPOUX",
          "MARI",
          "MARIEE",
          "MERE_MARI",
          "MERE_MARIEE",
          "PERE_MARI",
          "PERE_MARIEE",
          "TEMOIN"
         ],
         "y": [
          0,
          0,
          0.9722222222222222,
          1,
          0.9714285714285714,
          0.9722222222222222,
          1,
          0.9714285714285714,
          0.846153846153846
         ]
        },
        {
         "marker": {
          "color": "rgb(0, 255, 0)"
         },
         "name": "LOC",
         "type": "bar",
         "x": [
          "ADMIN",
          "EX_EPOUX",
          "MARI",
          "MARIEE",
          "MERE_MARI",
          "MERE_MARIEE",
          "PERE_MARI",
          "PERE_MARIEE",
          "TEMOIN"
         ],
         "y": [
          0.8387096774193549,
          0,
          0.9530685920577618,
          0.967857142857143,
          0.9599999999999999,
          0.9387755102040817,
          0.9714285714285714,
          0.9138576779026217,
          0.8345323741007195
         ]
        },
        {
         "marker": {
          "color": "rgb(0, 0, 255)"
         },
         "name": "PER",
         "type": "bar",
         "x": [
          "ADMIN",
          "EX_EPOUX",
          "MARI",
          "MARIEE",
          "MERE_MARI",
          "MERE_MARIEE",
          "PERE_MARI",
          "PERE_MARIEE",
          "TEMOIN"
         ],
         "y": [
          0.9090909090909091,
          0.9714285714285714,
          0.968421052631579,
          0.9895470383275262,
          0.9716981132075472,
          0.9859154929577464,
          0.9953488372093023,
          0.9714285714285713,
          0.8927789934354486
         ]
        }
       ],
       "layout": {
        "bargap": 0.15,
        "bargroupgap": 0.1,
        "barmode": "group",
        "legend": {
         "bgcolor": "rgba(255, 255, 255, 0)",
         "bordercolor": "rgba(255, 255, 255, 0)",
         "x": 0,
         "y": 1
        },
        "template": {
         "data": {
          "bar": [
           {
            "error_x": {
             "color": "#2a3f5f"
            },
            "error_y": {
             "color": "#2a3f5f"
            },
            "marker": {
             "line": {
              "color": "#E5ECF6",
              "width": 0.5
             },
             "pattern": {
              "fillmode": "overlay",
              "size": 10,
              "solidity": 0.2
             }
            },
            "type": "bar"
           }
          ],
          "barpolar": [
           {
            "marker": {
             "line": {
              "color": "#E5ECF6",
              "width": 0.5
             },
             "pattern": {
              "fillmode": "overlay",
              "size": 10,
              "solidity": 0.2
             }
            },
            "type": "barpolar"
           }
          ],
          "carpet": [
           {
            "aaxis": {
             "endlinecolor": "#2a3f5f",
             "gridcolor": "white",
             "linecolor": "white",
             "minorgridcolor": "white",
             "startlinecolor": "#2a3f5f"
            },
            "baxis": {
             "endlinecolor": "#2a3f5f",
             "gridcolor": "white",
             "linecolor": "white",
             "minorgridcolor": "white",
             "startlinecolor": "#2a3f5f"
            },
            "type": "carpet"
           }
          ],
          "choropleth": [
           {
            "colorbar": {
             "outlinewidth": 0,
             "ticks": ""
            },
            "type": "choropleth"
           }
          ],
          "contour": [
           {
            "colorbar": {
             "outlinewidth": 0,
             "ticks": ""
            },
            "colorscale": [
             [
              0,
              "#0d0887"
             ],
             [
              0.1111111111111111,
              "#46039f"
             ],
             [
              0.2222222222222222,
              "#7201a8"
             ],
             [
              0.3333333333333333,
              "#9c179e"
             ],
             [
              0.4444444444444444,
              "#bd3786"
             ],
             [
              0.5555555555555556,
              "#d8576b"
             ],
             [
              0.6666666666666666,
              "#ed7953"
             ],
             [
              0.7777777777777778,
              "#fb9f3a"
             ],
             [
              0.8888888888888888,
              "#fdca26"
             ],
             [
              1,
              "#f0f921"
             ]
            ],
            "type": "contour"
           }
          ],
          "contourcarpet": [
           {
            "colorbar": {
             "outlinewidth": 0,
             "ticks": ""
            },
            "type": "contourcarpet"
           }
          ],
          "heatmap": [
           {
            "colorbar": {
             "outlinewidth": 0,
             "ticks": ""
            },
            "colorscale": [
             [
              0,
              "#0d0887"
             ],
             [
              0.1111111111111111,
              "#46039f"
             ],
             [
              0.2222222222222222,
              "#7201a8"
             ],
             [
              0.3333333333333333,
              "#9c179e"
             ],
             [
              0.4444444444444444,
              "#bd3786"
             ],
             [
              0.5555555555555556,
              "#d8576b"
             ],
             [
              0.6666666666666666,
              "#ed7953"
             ],
             [
              0.7777777777777778,
              "#fb9f3a"
             ],
             [
              0.8888888888888888,
              "#fdca26"
             ],
             [
              1,
              "#f0f921"
             ]
            ],
            "type": "heatmap"
           }
          ],
          "heatmapgl": [
           {
            "colorbar": {
             "outlinewidth": 0,
             "ticks": ""
            },
            "colorscale": [
             [
              0,
              "#0d0887"
             ],
             [
              0.1111111111111111,
              "#46039f"
             ],
             [
              0.2222222222222222,
              "#7201a8"
             ],
             [
              0.3333333333333333,
              "#9c179e"
             ],
             [
              0.4444444444444444,
              "#bd3786"
             ],
             [
              0.5555555555555556,
              "#d8576b"
             ],
             [
              0.6666666666666666,
              "#ed7953"
             ],
             [
              0.7777777777777778,
              "#fb9f3a"
             ],
             [
              0.8888888888888888,
              "#fdca26"
             ],
             [
              1,
              "#f0f921"
             ]
            ],
            "type": "heatmapgl"
           }
          ],
          "histogram": [
           {
            "marker": {
             "pattern": {
              "fillmode": "overlay",
              "size": 10,
              "solidity": 0.2
             }
            },
            "type": "histogram"
           }
          ],
          "histogram2d": [
           {
            "colorbar": {
             "outlinewidth": 0,
             "ticks": ""
            },
            "colorscale": [
             [
              0,
              "#0d0887"
             ],
             [
              0.1111111111111111,
              "#46039f"
             ],
             [
              0.2222222222222222,
              "#7201a8"
             ],
             [
              0.3333333333333333,
              "#9c179e"
             ],
             [
              0.4444444444444444,
              "#bd3786"
             ],
             [
              0.5555555555555556,
              "#d8576b"
             ],
             [
              0.6666666666666666,
              "#ed7953"
             ],
             [
              0.7777777777777778,
              "#fb9f3a"
             ],
             [
              0.8888888888888888,
              "#fdca26"
             ],
             [
              1,
              "#f0f921"
             ]
            ],
            "type": "histogram2d"
           }
          ],
          "histogram2dcontour": [
           {
            "colorbar": {
             "outlinewidth": 0,
             "ticks": ""
            },
            "colorscale": [
             [
              0,
              "#0d0887"
             ],
             [
              0.1111111111111111,
              "#46039f"
             ],
             [
              0.2222222222222222,
              "#7201a8"
             ],
             [
              0.3333333333333333,
              "#9c179e"
             ],
             [
              0.4444444444444444,
              "#bd3786"
             ],
             [
              0.5555555555555556,
              "#d8576b"
             ],
             [
              0.6666666666666666,
              "#ed7953"
             ],
             [
              0.7777777777777778,
              "#fb9f3a"
             ],
             [
              0.8888888888888888,
              "#fdca26"
             ],
             [
              1,
              "#f0f921"
             ]
            ],
            "type": "histogram2dcontour"
           }
          ],
          "mesh3d": [
           {
            "colorbar": {
             "outlinewidth": 0,
             "ticks": ""
            },
            "type": "mesh3d"
           }
          ],
          "parcoords": [
           {
            "line": {
             "colorbar": {
              "outlinewidth": 0,
              "ticks": ""
             }
            },
            "type": "parcoords"
           }
          ],
          "pie": [
           {
            "automargin": true,
            "type": "pie"
           }
          ],
          "scatter": [
           {
            "fillpattern": {
             "fillmode": "overlay",
             "size": 10,
             "solidity": 0.2
            },
            "type": "scatter"
           }
          ],
          "scatter3d": [
           {
            "line": {
             "colorbar": {
              "outlinewidth": 0,
              "ticks": ""
             }
            },
            "marker": {
             "colorbar": {
              "outlinewidth": 0,
              "ticks": ""
             }
            },
            "type": "scatter3d"
           }
          ],
          "scattercarpet": [
           {
            "marker": {
             "colorbar": {
              "outlinewidth": 0,
              "ticks": ""
             }
            },
            "type": "scattercarpet"
           }
          ],
          "scattergeo": [
           {
            "marker": {
             "colorbar": {
              "outlinewidth": 0,
              "ticks": ""
             }
            },
            "type": "scattergeo"
           }
          ],
          "scattergl": [
           {
            "marker": {
             "colorbar": {
              "outlinewidth": 0,
              "ticks": ""
             }
            },
            "type": "scattergl"
           }
          ],
          "scattermapbox": [
           {
            "marker": {
             "colorbar": {
              "outlinewidth": 0,
              "ticks": ""
             }
            },
            "type": "scattermapbox"
           }
          ],
          "scatterpolar": [
           {
            "marker": {
             "colorbar": {
              "outlinewidth": 0,
              "ticks": ""
             }
            },
            "type": "scatterpolar"
           }
          ],
          "scatterpolargl": [
           {
            "marker": {
             "colorbar": {
              "outlinewidth": 0,
              "ticks": ""
             }
            },
            "type": "scatterpolargl"
           }
          ],
          "scatterternary": [
           {
            "marker": {
             "colorbar": {
              "outlinewidth": 0,
              "ticks": ""
             }
            },
            "type": "scatterternary"
           }
          ],
          "surface": [
           {
            "colorbar": {
             "outlinewidth": 0,
             "ticks": ""
            },
            "colorscale": [
             [
              0,
              "#0d0887"
             ],
             [
              0.1111111111111111,
              "#46039f"
             ],
             [
              0.2222222222222222,
              "#7201a8"
             ],
             [
              0.3333333333333333,
              "#9c179e"
             ],
             [
              0.4444444444444444,
              "#bd3786"
             ],
             [
              0.5555555555555556,
              "#d8576b"
             ],
             [
              0.6666666666666666,
              "#ed7953"
             ],
             [
              0.7777777777777778,
              "#fb9f3a"
             ],
             [
              0.8888888888888888,
              "#fdca26"
             ],
             [
              1,
              "#f0f921"
             ]
            ],
            "type": "surface"
           }
          ],
          "table": [
           {
            "cells": {
             "fill": {
              "color": "#EBF0F8"
             },
             "line": {
              "color": "white"
             }
            },
            "header": {
             "fill": {
              "color": "#C8D4E3"
             },
             "line": {
              "color": "white"
             }
            },
            "type": "table"
           }
          ]
         },
         "layout": {
          "annotationdefaults": {
           "arrowcolor": "#2a3f5f",
           "arrowhead": 0,
           "arrowwidth": 1
          },
          "autotypenumbers": "strict",
          "coloraxis": {
           "colorbar": {
            "outlinewidth": 0,
            "ticks": ""
           }
          },
          "colorscale": {
           "diverging": [
            [
             0,
             "#8e0152"
            ],
            [
             0.1,
             "#c51b7d"
            ],
            [
             0.2,
             "#de77ae"
            ],
            [
             0.3,
             "#f1b6da"
            ],
            [
             0.4,
             "#fde0ef"
            ],
            [
             0.5,
             "#f7f7f7"
            ],
            [
             0.6,
             "#e6f5d0"
            ],
            [
             0.7,
             "#b8e186"
            ],
            [
             0.8,
             "#7fbc41"
            ],
            [
             0.9,
             "#4d9221"
            ],
            [
             1,
             "#276419"
            ]
           ],
           "sequential": [
            [
             0,
             "#0d0887"
            ],
            [
             0.1111111111111111,
             "#46039f"
            ],
            [
             0.2222222222222222,
             "#7201a8"
            ],
            [
             0.3333333333333333,
             "#9c179e"
            ],
            [
             0.4444444444444444,
             "#bd3786"
            ],
            [
             0.5555555555555556,
             "#d8576b"
            ],
            [
             0.6666666666666666,
             "#ed7953"
            ],
            [
             0.7777777777777778,
             "#fb9f3a"
            ],
            [
             0.8888888888888888,
             "#fdca26"
            ],
            [
             1,
             "#f0f921"
            ]
           ],
           "sequentialminus": [
            [
             0,
             "#0d0887"
            ],
            [
             0.1111111111111111,
             "#46039f"
            ],
            [
             0.2222222222222222,
             "#7201a8"
            ],
            [
             0.3333333333333333,
             "#9c179e"
            ],
            [
             0.4444444444444444,
             "#bd3786"
            ],
            [
             0.5555555555555556,
             "#d8576b"
            ],
            [
             0.6666666666666666,
             "#ed7953"
            ],
            [
             0.7777777777777778,
             "#fb9f3a"
            ],
            [
             0.8888888888888888,
             "#fdca26"
            ],
            [
             1,
             "#f0f921"
            ]
           ]
          },
          "colorway": [
           "#636efa",
           "#EF553B",
           "#00cc96",
           "#ab63fa",
           "#FFA15A",
           "#19d3f3",
           "#FF6692",
           "#B6E880",
           "#FF97FF",
           "#FECB52"
          ],
          "font": {
           "color": "#2a3f5f"
          },
          "geo": {
           "bgcolor": "white",
           "lakecolor": "white",
           "landcolor": "#E5ECF6",
           "showlakes": true,
           "showland": true,
           "subunitcolor": "white"
          },
          "hoverlabel": {
           "align": "left"
          },
          "hovermode": "closest",
          "mapbox": {
           "style": "light"
          },
          "paper_bgcolor": "white",
          "plot_bgcolor": "#E5ECF6",
          "polar": {
           "angularaxis": {
            "gridcolor": "white",
            "linecolor": "white",
            "ticks": ""
           },
           "bgcolor": "#E5ECF6",
           "radialaxis": {
            "gridcolor": "white",
            "linecolor": "white",
            "ticks": ""
           }
          },
          "scene": {
           "xaxis": {
            "backgroundcolor": "#E5ECF6",
            "gridcolor": "white",
            "gridwidth": 2,
            "linecolor": "white",
            "showbackground": true,
            "ticks": "",
            "zerolinecolor": "white"
           },
           "yaxis": {
            "backgroundcolor": "#E5ECF6",
            "gridcolor": "white",
            "gridwidth": 2,
            "linecolor": "white",
            "showbackground": true,
            "ticks": "",
            "zerolinecolor": "white"
           },
           "zaxis": {
            "backgroundcolor": "#E5ECF6",
            "gridcolor": "white",
            "gridwidth": 2,
            "linecolor": "white",
            "showbackground": true,
            "ticks": "",
            "zerolinecolor": "white"
           }
          },
          "shapedefaults": {
           "line": {
            "color": "#2a3f5f"
           }
          },
          "ternary": {
           "aaxis": {
            "gridcolor": "white",
            "linecolor": "white",
            "ticks": ""
           },
           "baxis": {
            "gridcolor": "white",
            "linecolor": "white",
            "ticks": ""
           },
           "bgcolor": "#E5ECF6",
           "caxis": {
            "gridcolor": "white",
            "linecolor": "white",
            "ticks": ""
           }
          },
          "title": {
           "x": 0.05
          },
          "xaxis": {
           "automargin": true,
           "gridcolor": "white",
           "linecolor": "white",
           "ticks": "",
           "title": {
            "standoff": 15
           },
           "zerolinecolor": "white",
           "zerolinewidth": 2
          },
          "yaxis": {
           "automargin": true,
           "gridcolor": "white",
           "linecolor": "white",
           "ticks": "",
           "title": {
            "standoff": 15
           },
           "zerolinecolor": "white",
           "zerolinewidth": 2
          }
         }
        },
        "title": {
         "text": "F1 score for each people"
        },
        "xaxis": {
         "tickfont": {
          "size": 14
         }
        },
        "yaxis": {
         "tickfont": {
          "size": 14
         },
         "title": {
          "font": {
           "size": 16
          },
          "text": "F1 score"
         }
        }
       }
      }
     },
     "metadata": {},
     "output_type": "display_data"
    },
    {
     "data": {
      "text/html": [
       "<div>\n",
       "<style scoped>\n",
       "    .dataframe tbody tr th:only-of-type {\n",
       "        vertical-align: middle;\n",
       "    }\n",
       "\n",
       "    .dataframe tbody tr th {\n",
       "        vertical-align: top;\n",
       "    }\n",
       "\n",
       "    .dataframe thead th {\n",
       "        text-align: right;\n",
       "    }\n",
       "</style>\n",
       "<table border=\"1\" class=\"dataframe\">\n",
       "  <thead>\n",
       "    <tr style=\"text-align: right;\">\n",
       "      <th>tag</th>\n",
       "      <th>DATE</th>\n",
       "      <th>JOB</th>\n",
       "      <th>LOC</th>\n",
       "      <th>PER</th>\n",
       "    </tr>\n",
       "    <tr>\n",
       "      <th>people</th>\n",
       "      <th></th>\n",
       "      <th></th>\n",
       "      <th></th>\n",
       "      <th></th>\n",
       "    </tr>\n",
       "  </thead>\n",
       "  <tbody>\n",
       "    <tr>\n",
       "      <th>ADMIN</th>\n",
       "      <td>1.0</td>\n",
       "      <td>0</td>\n",
       "      <td>0.83871</td>\n",
       "      <td>0.909091</td>\n",
       "    </tr>\n",
       "    <tr>\n",
       "      <th>EX_EPOUX</th>\n",
       "      <td>0</td>\n",
       "      <td>0</td>\n",
       "      <td>0</td>\n",
       "      <td>0.971429</td>\n",
       "    </tr>\n",
       "    <tr>\n",
       "      <th>MARI</th>\n",
       "      <td>1.0</td>\n",
       "      <td>0.972222</td>\n",
       "      <td>0.953069</td>\n",
       "      <td>0.968421</td>\n",
       "    </tr>\n",
       "    <tr>\n",
       "      <th>MARIEE</th>\n",
       "      <td>0.990741</td>\n",
       "      <td>1.0</td>\n",
       "      <td>0.967857</td>\n",
       "      <td>0.989547</td>\n",
       "    </tr>\n",
       "    <tr>\n",
       "      <th>MERE_MARI</th>\n",
       "      <td>0</td>\n",
       "      <td>0.971429</td>\n",
       "      <td>0.96</td>\n",
       "      <td>0.971698</td>\n",
       "    </tr>\n",
       "    <tr>\n",
       "      <th>MERE_MARIEE</th>\n",
       "      <td>0</td>\n",
       "      <td>0.972222</td>\n",
       "      <td>0.938776</td>\n",
       "      <td>0.985915</td>\n",
       "    </tr>\n",
       "    <tr>\n",
       "      <th>PERE_MARI</th>\n",
       "      <td>0</td>\n",
       "      <td>1.0</td>\n",
       "      <td>0.971429</td>\n",
       "      <td>0.995349</td>\n",
       "    </tr>\n",
       "    <tr>\n",
       "      <th>PERE_MARIEE</th>\n",
       "      <td>0</td>\n",
       "      <td>0.971429</td>\n",
       "      <td>0.913858</td>\n",
       "      <td>0.971429</td>\n",
       "    </tr>\n",
       "    <tr>\n",
       "      <th>TEMOIN</th>\n",
       "      <td>0</td>\n",
       "      <td>0.846154</td>\n",
       "      <td>0.834532</td>\n",
       "      <td>0.892779</td>\n",
       "    </tr>\n",
       "  </tbody>\n",
       "</table>\n",
       "</div>"
      ],
      "text/plain": [
       "tag              DATE       JOB       LOC       PER\n",
       "people                                             \n",
       "ADMIN             1.0         0   0.83871  0.909091\n",
       "EX_EPOUX            0         0         0  0.971429\n",
       "MARI              1.0  0.972222  0.953069  0.968421\n",
       "MARIEE       0.990741       1.0  0.967857  0.989547\n",
       "MERE_MARI           0  0.971429      0.96  0.971698\n",
       "MERE_MARIEE         0  0.972222  0.938776  0.985915\n",
       "PERE_MARI           0       1.0  0.971429  0.995349\n",
       "PERE_MARIEE         0  0.971429  0.913858  0.971429\n",
       "TEMOIN              0  0.846154  0.834532  0.892779"
      ]
     },
     "execution_count": 89,
     "metadata": {},
     "output_type": "execute_result"
    }
   ],
   "source": [
    "def make_average_for_each_people():\n",
    "    donnees = {}\n",
    "    new_results = {}\n",
    "    with open(\"results_extended.json\", \"r\") as f:\n",
    "        donnees = json.load(f)\n",
    "\n",
    "    for archive in donnees:\n",
    "        arch_dict = {}\n",
    "        for people in donnees[archive]:\n",
    "            if people in ['MERE_MARIEE', 'PERE_MARIEE', 'EX_EPOUX', 'PERE_MARI', 'MERE_MARI', 'ADMIN', 'MARIEE', 'MARI', 'TEMOIN']:\n",
    "                details = donnees[archive][people]['details']\n",
    "                arch_dict[people] = details\n",
    "        \n",
    "        if new_results == {}:\n",
    "            new_results = arch_dict\n",
    "        else:\n",
    "\n",
    "            def merge_dicts(a, b, op=sum):\n",
    "                \"\"\"Merge dictionaries and apply an operator to duplicate keys' values.\"\"\"\n",
    "                result = {}\n",
    "                for key in a.keys() | b.keys():\n",
    "                    if key in a and key in b:\n",
    "                        if isinstance(a[key], dict) and isinstance(b[key], dict):\n",
    "                            result[key] = merge_dicts(a[key], b[key], op)\n",
    "                        else:\n",
    "                            result[key] = op([a[key], b[key]])\n",
    "                    elif key in a:\n",
    "                        result[key] = a[key]\n",
    "                    elif key in b:\n",
    "                        result[key] = b[key]\n",
    "                return result\n",
    "            \n",
    "            new_results = merge_dicts(new_results, arch_dict, op=sum)\n",
    "\n",
    "    #save the new results\n",
    "    with open(\"results_extended_details.json\", \"w\") as f:\n",
    "        json.dump(new_results, f, indent=4)\n",
    "\n",
    "    detailes_f1 = {}\n",
    "    for people in new_results:\n",
    "        detailes_f1[people] = {}\n",
    "        for tag in new_results[people]:\n",
    "            detailes_f1[people][tag] = {}\n",
    "            #calculate F1_ok :\n",
    "            TP = new_results[people][tag]['TP'] + new_results[people][tag]['TN'] + new_results[people][tag]['PARTIAL']\n",
    "            FP = new_results[people][tag]['FP'] + new_results[people][tag]['MISS']\n",
    "            FN = new_results[people][tag]['FN'] + new_results[people][tag]['MISS']\n",
    "            precision = 0 if (TP + FP) == 0 else (TP / (TP + FP))\n",
    "            recall = 0 if (TP + FN) == 0 else (TP / (TP + FN))\n",
    "            F1_ok = 0 if (precision + recall) == 0 else (2 * (precision * recall) / (precision + recall))\n",
    "\n",
    "            #calculate F1_strict :\n",
    "            TP = new_results[people][tag]['TP'] + new_results[people][tag]['TN']\n",
    "            FP = new_results[people][tag]['FP'] + new_results[people][tag]['MISS']  + new_results[people][tag]['PARTIAL']\n",
    "            FN = new_results[people][tag]['FN'] + new_results[people][tag]['MISS']  + new_results[people][tag]['PARTIAL']\n",
    "            precision = 0 if (TP + FP) == 0 else (TP / (TP + FP))\n",
    "            recall = 0 if (TP + FN) == 0 else TP / (TP + FN)\n",
    "            F1_strict = 0 if (precision + recall) == 0 else (2 * (precision * recall) / (precision + recall))\n",
    "\n",
    "            detailes_f1[people][tag]['F1_ok'] = F1_ok\n",
    "            detailes_f1[people][tag]['F1_strict'] = F1_strict\n",
    "\n",
    "    #save the new results\n",
    "    with open(\"scores_extended_details.json\", \"w\") as f:\n",
    "        json.dump(detailes_f1, f, indent=4)\n",
    "\n",
    "    #create a dataframe with the new results.\n",
    "    #Use a multiindex : 1st layer = tag [per,loc,date,job], 2nd layer = f1 type (F1_ok or F1_strict)\n",
    "    #index = people\n",
    "   \n",
    "    #create the multiindex\n",
    "    index = []\n",
    "    for people in detailes_f1:\n",
    "        for tag in detailes_f1[people]:\n",
    "            index.append((people, tag))\n",
    "    index = pd.MultiIndex.from_tuples(index, names=['people', 'tag'])\n",
    "\n",
    "    #create the dataframe\n",
    "    scores = pd.DataFrame(columns=['F1_ok', 'F1_strict'], index=index)\n",
    "    for people in detailes_f1:\n",
    "        for tag in detailes_f1[people]:\n",
    "            scores.loc[(people, tag), 'F1_ok'] = detailes_f1[people][tag]['F1_ok']\n",
    "            scores.loc[(people, tag), 'F1_strict'] = detailes_f1[people][tag]['F1_strict']\n",
    "\n",
    "    #put tag in columns\n",
    "    scores = scores.unstack(level=1)\n",
    "\n",
    "    #PLot bar chart\n",
    "    #Y-axis : F1 score from 0 to 1, X-axis : people splitted in DATE, LOC, PER, JOB for each people. Use only F1_ok\n",
    "    #use a color gradient for each people\n",
    "    \n",
    "    scores = scores.xs('F1_ok', axis=1, level=0)\n",
    "\n",
    "    #scores = scores.transpose()\n",
    "\n",
    "    #use plotly graph objects\n",
    "    fig = go.Figure()\n",
    "\n",
    "    people_colors = {\n",
    "        'JOB': 'rgb(255, 0, 0)',\n",
    "        'LOC': 'rgb(0, 255, 0)',\n",
    "        'PER': 'rgb(0, 0, 255)',\n",
    "        'DATE': 'rgb(255, 255, 0)'\n",
    "    }\n",
    "\n",
    "\n",
    "\n",
    "    #add traces\n",
    "    for people in scores:\n",
    "        fig.add_trace(go.Bar(\n",
    "            x=scores.index,\n",
    "            y=scores[people],\n",
    "            name=people,\n",
    "            marker_color=people_colors[people]\n",
    "        ))\n",
    "\n",
    "\n",
    "    #update layout\n",
    "    fig.update_layout(\n",
    "        title='F1 score for each people',\n",
    "        xaxis_tickfont_size=14,\n",
    "        yaxis=dict(\n",
    "            title='F1 score',\n",
    "            titlefont_size=16,\n",
    "            tickfont_size=14,\n",
    "        ),\n",
    "        legend=dict(\n",
    "            x=0,\n",
    "            y=1.0,\n",
    "            bgcolor='rgba(255, 255, 255, 0)',\n",
    "            bordercolor='rgba(255, 255, 255, 0)'\n",
    "        ),\n",
    "        barmode='group',\n",
    "        bargap=0.15,\n",
    "        bargroupgap=0.1\n",
    "    )\n",
    "\n",
    "    fig.show()\n",
    "\n",
    "\n",
    "\n",
    "\n",
    "\n",
    "\n",
    "\n",
    "    \n",
    "\n",
    "    \n",
    "    return scores\n",
    "\n",
    "\n",
    "\n",
    "\n",
    "\n",
    "\n",
    "make_average_for_each_people()"
   ]
  },
  {
   "cell_type": "code",
   "execution_count": null,
   "metadata": {},
   "outputs": [],
   "source": []
  }
 ],
 "metadata": {
  "kernelspec": {
   "display_name": "Python 3",
   "language": "python",
   "name": "python3"
  },
  "language_info": {
   "codemirror_mode": {
    "name": "ipython",
    "version": 3
   },
   "file_extension": ".py",
   "mimetype": "text/x-python",
   "name": "python",
   "nbconvert_exporter": "python",
   "pygments_lexer": "ipython3",
   "version": "3.11.3"
  },
  "orig_nbformat": 4
 },
 "nbformat": 4,
 "nbformat_minor": 2
}
