{
 "cells": [
  {
   "cell_type": "code",
   "execution_count": 1,
   "metadata": {
    "slideshow": {
     "slide_type": "slide"
    },
    "tags": [
     "parameters"
    ]
   },
   "outputs": [],
   "source": [
    "import json\n",
    "import Levenshtein\n",
    "from typing import List, Dict, Tuple\n",
    "PER = ['Nom-','Prenom-','Age-']\n",
    "LOC = ['Ville-','Pays-','-rue-','Departement-']\n",
    "DATE = ['Jour-','Mois-','Annee-','Minute-','Heure-']\n",
    "JOB = ['Profession-']\n",
    "\n",
    "MERE_MARIEE = ['mere-mariee']\n",
    "PERE_MARIEE = ['pere-mariee']\n",
    "EX_EPOUX = ['ex-epoux','ex-epouse']\n",
    "PERE_MARI = ['pere-mari']\n",
    "MERE_MARI = ['mere-mari']\n",
    "ADMIN = ['mariage','maire']\n",
    "MARIEE = ['mariee']\n",
    "MARI = ['mari']\n",
    "TEMOIN = ['temoin']\n",
    "\n",
    "\n",
    "\n",
    "def f1_score (labels : dict, golden : dict, levenshtein_treshold : float) -> dict:\n",
    "    \"\"\"\n",
    "    Compute the F1 score for each entity type\n",
    "    :param labels: dict of labels\n",
    "    :param golden: dict of golden labels\n",
    "    :param levenshtein_treshold: treshold of the max ratio between the levenshtein distance and the length of the golden label to consider the label as correct\n",
    "    :return: dict of F1 scores\n",
    "    \"\"\"\n",
    "    f1_scores = {\n",
    "    'PER': {\n",
    "        'TOTAL': 0,\n",
    "        'FN': 0,\n",
    "        'FP': 0,\n",
    "        'PARTIAL': 0,\n",
    "        'TP': 0,\n",
    "        'MISS' : 0,\n",
    "        'TN' : 0\n",
    "    },\n",
    "    'LOC': {\n",
    "        'TN' : 0,\n",
    "        'TOTAL': 0,\n",
    "        'FN': 0,\n",
    "        'FP': 0,\n",
    "        'PARTIAL': 0,\n",
    "        'TP': 0,\n",
    "        'MISS' : 0\n",
    "    },\n",
    "    'DATE': {\n",
    "        'TN' : 0,\n",
    "        'TOTAL': 0,\n",
    "        'FN': 0,\n",
    "        'FP': 0,\n",
    "        'PARTIAL': 0,\n",
    "        'TP': 0,\n",
    "        'MISS' : 0\n",
    "    },\n",
    "    'JOB': {\n",
    "        'TN' : 0,\n",
    "        'TOTAL': 0,\n",
    "        'FN': 0,\n",
    "        'FP': 0,\n",
    "        'PARTIAL': 0,\n",
    "        'TP': 0,\n",
    "        'MISS' : 0\n",
    "\n",
    "    },\n",
    "    'MERE_MARIEE': {\n",
    "        'TN' : 0,\n",
    "        'TOTAL': 0,\n",
    "        'FN': 0,\n",
    "        'FP': 0,\n",
    "        'PARTIAL': 0,\n",
    "        'TP': 0,\n",
    "        'MISS' : 0,\n",
    "        'details' : {\n",
    "            'PER': {\n",
    "                'TOTAL': 0,\n",
    "                'FN': 0,\n",
    "                'FP': 0,\n",
    "                'PARTIAL': 0,\n",
    "                'TP': 0,\n",
    "                'MISS' : 0,\n",
    "                'TN' : 0\n",
    "            },\n",
    "            'LOC': {\n",
    "                'TN' : 0,\n",
    "                'TOTAL': 0,\n",
    "                'FN': 0,\n",
    "                'FP': 0,\n",
    "                'PARTIAL': 0,\n",
    "                'TP': 0,\n",
    "                'MISS' : 0\n",
    "            },\n",
    "            'DATE': {\n",
    "                'TN' : 0,\n",
    "                'TOTAL': 0,\n",
    "                'FN': 0,\n",
    "                'FP': 0,\n",
    "                'PARTIAL': 0,\n",
    "                'TP': 0,\n",
    "                'MISS' : 0\n",
    "            },\n",
    "            'JOB': {\n",
    "                'TN' : 0,\n",
    "                'TOTAL': 0,\n",
    "                'FN': 0,\n",
    "                'FP': 0,\n",
    "                'PARTIAL': 0,\n",
    "                'TP': 0,\n",
    "                'MISS' : 0\n",
    "            }\n",
    "        }\n",
    "    },\n",
    "    'PERE_MARIEE': {\n",
    "        'TN' : 0,\n",
    "        'TOTAL': 0,\n",
    "        'FN': 0,\n",
    "        'FP': 0,\n",
    "        'PARTIAL': 0,\n",
    "        'TP': 0,\n",
    "        'MISS' : 0,\n",
    "        'details' : {\n",
    "            'PER': {\n",
    "                'TOTAL': 0,\n",
    "                'FN': 0,\n",
    "                'FP': 0,\n",
    "                'PARTIAL': 0,\n",
    "                'TP': 0,\n",
    "                'MISS' : 0,\n",
    "                'TN' : 0\n",
    "            },\n",
    "            'LOC': {\n",
    "                'TN' : 0,\n",
    "                'TOTAL': 0,\n",
    "                'FN': 0,\n",
    "                'FP': 0,\n",
    "                'PARTIAL': 0,\n",
    "                'TP': 0,\n",
    "                'MISS' : 0\n",
    "            },\n",
    "            'DATE': {\n",
    "                'TN' : 0,\n",
    "                'TOTAL': 0,\n",
    "                'FN': 0,\n",
    "                'FP': 0,\n",
    "                'PARTIAL': 0,\n",
    "                'TP': 0,\n",
    "                'MISS' : 0\n",
    "            },\n",
    "            'JOB': {\n",
    "                'TN' : 0,\n",
    "                'TOTAL': 0,\n",
    "                'FN': 0,\n",
    "                'FP': 0,\n",
    "                'PARTIAL': 0,\n",
    "                'TP': 0,\n",
    "                'MISS' : 0\n",
    "            }\n",
    "        }\n",
    "    },\n",
    "    'EX_EPOUX': {\n",
    "        'TN' : 0,\n",
    "        'TOTAL': 0,\n",
    "        'FN': 0,\n",
    "        'FP': 0,\n",
    "        'PARTIAL': 0,\n",
    "        'TP': 0,\n",
    "        'MISS' : 0,\n",
    "        'details' : {\n",
    "            'PER': {\n",
    "                'TOTAL': 0,\n",
    "                'FN': 0,\n",
    "                'FP': 0,\n",
    "                'PARTIAL': 0,\n",
    "                'TP': 0,\n",
    "                'MISS' : 0,\n",
    "                'TN' : 0\n",
    "            },\n",
    "            'LOC': {\n",
    "                'TN' : 0,\n",
    "                'TOTAL': 0,\n",
    "                'FN': 0,\n",
    "                'FP': 0,\n",
    "                'PARTIAL': 0,\n",
    "                'TP': 0,\n",
    "                'MISS' : 0\n",
    "            },\n",
    "            'DATE': {\n",
    "                'TN' : 0,\n",
    "                'TOTAL': 0,\n",
    "                'FN': 0,\n",
    "                'FP': 0,\n",
    "                'PARTIAL': 0,\n",
    "                'TP': 0,\n",
    "                'MISS' : 0\n",
    "            },\n",
    "            'JOB': {\n",
    "                'TN' : 0,\n",
    "                'TOTAL': 0,\n",
    "                'FN': 0,\n",
    "                'FP': 0,\n",
    "                'PARTIAL': 0,\n",
    "                'TP': 0,\n",
    "                'MISS' : 0\n",
    "            }\n",
    "        }\n",
    "    },\n",
    "    'PERE_MARI': {\n",
    "        'TN' : 0,\n",
    "        'TOTAL': 0,\n",
    "        'FN': 0,\n",
    "        'FP': 0,\n",
    "        'PARTIAL': 0,\n",
    "        'TP': 0,\n",
    "        'MISS' : 0,\n",
    "        'details' : {\n",
    "            'PER': {\n",
    "                'TOTAL': 0,\n",
    "                'FN': 0,\n",
    "                'FP': 0,\n",
    "                'PARTIAL': 0,\n",
    "                'TP': 0,\n",
    "                'MISS' : 0,\n",
    "                'TN' : 0\n",
    "            },\n",
    "            'LOC': {\n",
    "                'TN' : 0,\n",
    "                'TOTAL': 0,\n",
    "                'FN': 0,\n",
    "                'FP': 0,\n",
    "                'PARTIAL': 0,\n",
    "                'TP': 0,\n",
    "                'MISS' : 0\n",
    "            },\n",
    "            'DATE': {\n",
    "                'TN' : 0,\n",
    "                'TOTAL': 0,\n",
    "                'FN': 0,\n",
    "                'FP': 0,\n",
    "                'PARTIAL': 0,\n",
    "                'TP': 0,\n",
    "                'MISS' : 0\n",
    "            },\n",
    "            'JOB': {\n",
    "                'TN' : 0,\n",
    "                'TOTAL': 0,\n",
    "                'FN': 0,\n",
    "                'FP': 0,\n",
    "                'PARTIAL': 0,\n",
    "                'TP': 0,\n",
    "                'MISS' : 0\n",
    "            }\n",
    "        }\n",
    "    },\n",
    "    'MERE_MARI': {\n",
    "        'TN' : 0,\n",
    "        'TOTAL': 0,\n",
    "        'FN': 0,\n",
    "        'FP': 0,\n",
    "        'PARTIAL': 0,\n",
    "        'TP': 0,\n",
    "        'MISS' : 0,\n",
    "        'details' : {\n",
    "            'PER': {\n",
    "                'TOTAL': 0,\n",
    "                'FN': 0,\n",
    "                'FP': 0,\n",
    "                'PARTIAL': 0,\n",
    "                'TP': 0,\n",
    "                'MISS' : 0,\n",
    "                'TN' : 0\n",
    "            },\n",
    "            'LOC': {\n",
    "                'TN' : 0,\n",
    "                'TOTAL': 0,\n",
    "                'FN': 0,\n",
    "                'FP': 0,\n",
    "                'PARTIAL': 0,\n",
    "                'TP': 0,\n",
    "                'MISS' : 0\n",
    "            },\n",
    "            'DATE': {\n",
    "                'TN' : 0,\n",
    "                'TOTAL': 0,\n",
    "                'FN': 0,\n",
    "                'FP': 0,\n",
    "                'PARTIAL': 0,\n",
    "                'TP': 0,\n",
    "                'MISS' : 0\n",
    "            },\n",
    "            'JOB': {\n",
    "                'TN' : 0,\n",
    "                'TOTAL': 0,\n",
    "                'FN': 0,\n",
    "                'FP': 0,\n",
    "                'PARTIAL': 0,\n",
    "                'TP': 0,\n",
    "                'MISS' : 0\n",
    "            }\n",
    "        }\n",
    "    },\n",
    "    'ADMIN': {\n",
    "        'TN' : 0,\n",
    "        'TOTAL': 0,\n",
    "        'FN': 0,\n",
    "        'FP': 0,\n",
    "        'PARTIAL': 0,\n",
    "        'TP': 0,\n",
    "        'MISS' : 0,\n",
    "        'details' : {\n",
    "            'PER': {\n",
    "                'TOTAL': 0,\n",
    "                'FN': 0,\n",
    "                'FP': 0,\n",
    "                'PARTIAL': 0,\n",
    "                'TP': 0,\n",
    "                'MISS' : 0,\n",
    "                'TN' : 0\n",
    "            },\n",
    "            'LOC': {\n",
    "                'TN' : 0,\n",
    "                'TOTAL': 0,\n",
    "                'FN': 0,\n",
    "                'FP': 0,\n",
    "                'PARTIAL': 0,\n",
    "                'TP': 0,\n",
    "                'MISS' : 0\n",
    "            },\n",
    "            'DATE': {\n",
    "                'TN' : 0,\n",
    "                'TOTAL': 0,\n",
    "                'FN': 0,\n",
    "                'FP': 0,\n",
    "                'PARTIAL': 0,\n",
    "                'TP': 0,\n",
    "                'MISS' : 0\n",
    "            },\n",
    "            'JOB': {\n",
    "                'TN' : 0,\n",
    "                'TOTAL': 0,\n",
    "                'FN': 0,\n",
    "                'FP': 0,\n",
    "                'PARTIAL': 0,\n",
    "                'TP': 0,\n",
    "                'MISS' : 0\n",
    "            }\n",
    "        }\n",
    "    },\n",
    "    'MARIEE': {\n",
    "        'TN' : 0,\n",
    "        'TOTAL': 0,\n",
    "        'FN': 0,\n",
    "        'FP': 0,\n",
    "        'PARTIAL': 0,\n",
    "        'TP': 0,\n",
    "        'MISS': 0,\n",
    "        'details' : {\n",
    "            'PER': {\n",
    "                'TOTAL': 0,\n",
    "                'FN': 0,\n",
    "                'FP': 0,\n",
    "                'PARTIAL': 0,\n",
    "                'TP': 0,\n",
    "                'MISS' : 0,\n",
    "                'TN' : 0\n",
    "            },\n",
    "            'LOC': {\n",
    "                'TN' : 0,\n",
    "                'TOTAL': 0,\n",
    "                'FN': 0,\n",
    "                'FP': 0,\n",
    "                'PARTIAL': 0,\n",
    "                'TP': 0,\n",
    "                'MISS' : 0\n",
    "            },\n",
    "            'DATE': {\n",
    "                'TN' : 0,\n",
    "                'TOTAL': 0,\n",
    "                'FN': 0,\n",
    "                'FP': 0,\n",
    "                'PARTIAL': 0,\n",
    "                'TP': 0,\n",
    "                'MISS' : 0\n",
    "            },\n",
    "            'JOB': {\n",
    "                'TN' : 0,\n",
    "                'TOTAL': 0,\n",
    "                'FN': 0,\n",
    "                'FP': 0,\n",
    "                'PARTIAL': 0,\n",
    "                'TP': 0,\n",
    "                'MISS' : 0\n",
    "            }\n",
    "        }\n",
    "    },\n",
    "    'MARI': {\n",
    "        'TN' : 0,\n",
    "        'TOTAL': 0,\n",
    "        'FN': 0,\n",
    "        'FP': 0,\n",
    "        'PARTIAL': 0,\n",
    "        'TP': 0,\n",
    "        'MISS': 0,\n",
    "        'details' : {\n",
    "            'PER': {\n",
    "                'TOTAL': 0,\n",
    "                'FN': 0,\n",
    "                'FP': 0,\n",
    "                'PARTIAL': 0,\n",
    "                'TP': 0,\n",
    "                'MISS' : 0,\n",
    "                'TN' : 0\n",
    "            },\n",
    "            'LOC': {\n",
    "                'TN' : 0,\n",
    "                'TOTAL': 0,\n",
    "                'FN': 0,\n",
    "                'FP': 0,\n",
    "                'PARTIAL': 0,\n",
    "                'TP': 0,\n",
    "                'MISS' : 0\n",
    "            },\n",
    "            'DATE': {\n",
    "                'TN' : 0,\n",
    "                'TOTAL': 0,\n",
    "                'FN': 0,\n",
    "                'FP': 0,\n",
    "                'PARTIAL': 0,\n",
    "                'TP': 0,\n",
    "                'MISS' : 0\n",
    "            },\n",
    "            'JOB': {\n",
    "                'TN' : 0,\n",
    "                'TOTAL': 0,\n",
    "                'FN': 0,\n",
    "                'FP': 0,\n",
    "                'PARTIAL': 0,\n",
    "                'TP': 0,\n",
    "                'MISS' : 0\n",
    "            }\n",
    "        }\n",
    "    },\n",
    "    'TEMOIN': {\n",
    "        'TN' : 0,\n",
    "        'TOTAL': 0,\n",
    "        'FN': 0,\n",
    "        'FP': 0,\n",
    "        'PARTIAL': 0,\n",
    "        'TP': 0,\n",
    "        'MISS': 0,\n",
    "        'details' : {\n",
    "            'PER': {\n",
    "                'TOTAL': 0,\n",
    "                'FN': 0,\n",
    "                'FP': 0,\n",
    "                'PARTIAL': 0,\n",
    "                'TP': 0,\n",
    "                'MISS' : 0,\n",
    "                'TN' : 0\n",
    "            },\n",
    "            'LOC': {\n",
    "                'TN' : 0,\n",
    "                'TOTAL': 0,\n",
    "                'FN': 0,\n",
    "                'FP': 0,\n",
    "                'PARTIAL': 0,\n",
    "                'TP': 0,\n",
    "                'MISS' : 0\n",
    "            },\n",
    "            'DATE': {\n",
    "                'TN' : 0,\n",
    "                'TOTAL': 0,\n",
    "                'FN': 0,\n",
    "                'FP': 0,\n",
    "                'PARTIAL': 0,\n",
    "                'TP': 0,\n",
    "                'MISS' : 0\n",
    "            },\n",
    "            'JOB': {\n",
    "                'TN' : 0,\n",
    "                'TOTAL': 0,\n",
    "                'FN': 0,\n",
    "                'FP': 0,\n",
    "                'PARTIAL': 0,\n",
    "                'TP': 0,\n",
    "                'MISS' : 0\n",
    "            }\n",
    "        }\n",
    "    },\n",
    "    'TOTAL': 0,\n",
    "    'FN': 0,\n",
    "    'FP': 0,\n",
    "    'PARTIAL': 0,\n",
    "    'TP': 0,\n",
    "    'MISS': 0,\n",
    "    'TN' : 0\n",
    "}\n",
    "    \n",
    "    \n",
    "    for key in golden.keys():\n",
    "\n",
    "        if isinstance(golden[key], bool):\n",
    "            continue\n",
    "         \n",
    "        f1_scores['TOTAL'] += 1\n",
    "        #print(key)\n",
    "\n",
    "        emplacements = []\n",
    "        for i in PER :\n",
    "            if emplacements:\n",
    "                break\n",
    "            if i in key :\n",
    "                emplacements.append('PER')\n",
    "                break\n",
    "        for i in LOC :\n",
    "            if emplacements:\n",
    "                break\n",
    "            if i in key :\n",
    "                emplacements.append('LOC')\n",
    "                break\n",
    "        for i in DATE :\n",
    "            if emplacements:\n",
    "                break\n",
    "            if i in key :\n",
    "                emplacements.append('DATE')\n",
    "                break\n",
    "        for i in JOB :\n",
    "            if emplacements:\n",
    "                break\n",
    "            if i in key :\n",
    "                emplacements.append('JOB')\n",
    "                break\n",
    "\n",
    "        for i in MERE_MARIEE :\n",
    "            if len(emplacements) == 2 :\n",
    "                break\n",
    "            if i in key :\n",
    "                emplacements.append('MERE_MARIEE')\n",
    "                break\n",
    "        for i in PERE_MARIEE :\n",
    "            if len(emplacements) == 2 :\n",
    "                break\n",
    "            if i in key :\n",
    "                emplacements.append('PERE_MARIEE')\n",
    "                break\n",
    "        for i in EX_EPOUX :\n",
    "            if len(emplacements) == 2 :\n",
    "                break\n",
    "            if i in key :\n",
    "                emplacements.append('EX_EPOUX')\n",
    "                break\n",
    "        for i in PERE_MARI :\n",
    "            if len(emplacements) == 2 :\n",
    "                break\n",
    "            if i in key :\n",
    "                emplacements.append('PERE_MARI')\n",
    "                break\n",
    "        for i in MERE_MARI :\n",
    "            if len(emplacements) == 2 :\n",
    "                break\n",
    "            if i in key :\n",
    "                emplacements.append('MERE_MARI')\n",
    "                break\n",
    "        for i in ADMIN :\n",
    "            if len(emplacements) == 2 :\n",
    "                break\n",
    "            if i in key :\n",
    "                emplacements.append('ADMIN')\n",
    "                break\n",
    "        for i in MARIEE :\n",
    "            if len(emplacements) == 2 :\n",
    "                break\n",
    "            if i in key :\n",
    "                emplacements.append('MARIEE')\n",
    "                break\n",
    "        for i in MARI :\n",
    "            if len(emplacements) == 2 :\n",
    "                break\n",
    "            if i in key :\n",
    "                emplacements.append('MARI')\n",
    "                break\n",
    "        \n",
    "        for i in TEMOIN:\n",
    "            if len(emplacements) == 2:\n",
    "                break\n",
    "            if i in key :\n",
    "                emplacements.append('TEMOIN')\n",
    "                break\n",
    "        \n",
    "\n",
    "\n",
    "        #print(emplacements)\n",
    "\n",
    "        f1_scores[emplacements[0]]['TOTAL'] += 1\n",
    "        f1_scores[emplacements[1]]['TOTAL'] += 1\n",
    "        f1_scores[emplacements[1]]['details'][emplacements[0]]['TOTAL'] += 1\n",
    "        if key in labels.keys():\n",
    "\n",
    "            if not labels[key] and not golden[key]:\n",
    "                f1_scores[emplacements[0]]['TN'] += 1\n",
    "                f1_scores[emplacements[1]]['TN'] += 1\n",
    "                f1_scores[emplacements[1]]['details'][emplacements[0]]['TN'] += 1\n",
    "\n",
    "                f1_scores['TN'] += 1\n",
    "            \n",
    "            elif labels[key] == golden[key]:\n",
    "                f1_scores[emplacements[0]]['TP'] += 1\n",
    "                f1_scores[emplacements[1]]['TP'] += 1\n",
    "                f1_scores[emplacements[1]]['details'][emplacements[0]]['TP'] += 1\n",
    "\n",
    "                f1_scores['TP'] += 1\n",
    "\n",
    "            elif labels[key] and not golden[key]:\n",
    "                f1_scores[emplacements[0]]['FP'] += 1\n",
    "                f1_scores[emplacements[1]]['FP'] += 1\n",
    "                f1_scores[emplacements[1]]['details'][emplacements[0]]['FP'] += 1\n",
    "\n",
    "                f1_scores['FP'] += 1\n",
    "\n",
    "            elif not labels[key] and golden[key]:\n",
    "                f1_scores[emplacements[0]]['FN'] += 1\n",
    "                f1_scores[emplacements[1]]['FN'] += 1\n",
    "                f1_scores[emplacements[1]]['details'][emplacements[0]]['FN'] += 1\n",
    "                f1_scores['FN'] += 1\n",
    "            elif labels[key] != golden[key]:\n",
    "                if (Levenshtein.distance(labels[key], golden[key]) // len(golden[key])) < levenshtein_treshold:\n",
    "                    f1_scores[emplacements[0]]['PARTIAL'] += 1\n",
    "                    f1_scores[emplacements[1]]['PARTIAL'] += 1\n",
    "                    f1_scores[emplacements[1]]['details'][emplacements[0]]['PARTIAL'] += 1\n",
    "                    f1_scores['PARTIAL'] += 1\n",
    "                else:\n",
    "                    f1_scores[emplacements[0]]['MISS'] += 1\n",
    "                    f1_scores[emplacements[1]]['MISS'] += 1\n",
    "                    f1_scores[emplacements[1]]['details'][emplacements[0]]['MISS'] += 1\n",
    "                    f1_scores['MISS'] += 1\n",
    "        else:\n",
    "            f1_scores[emplacements[0]]['FN'] += 1\n",
    "            f1_scores[emplacements[1]]['FN'] += 1\n",
    "            f1_scores[emplacements[1]]['details'][emplacements[0]]['FN'] += 1\n",
    "            f1_scores['FN'] += 1\n",
    "\n",
    "    return f1_scores\n",
    "\n",
    "\n",
    "def test():\n",
    "    golden_set = {}\n",
    "    labels_set = {}\n",
    "\n",
    "    with open('donnees-test.json', 'r') as file:\n",
    "        golden_set = json.load(file)\n",
    "\n",
    "    with open('donnees-test-labels-gpt35-paragraph-16k.json', 'r') as file:\n",
    "        labels_set = json.load(file)\n",
    "\n",
    "    results = {}\n",
    "    for archive in golden_set.keys():\n",
    "        if archive not in labels_set.keys():\n",
    "            #print('Archive ' + archive + ' not found in labels_set')\n",
    "            continue\n",
    "\n",
    "        f1_scores = f1_score(labels_set[archive], golden_set[archive]['questions'], 0.5)\n",
    "        results[archive] = f1_scores\n",
    "    #print(results)\n",
    "\n",
    "    #dump json file\n",
    "    with open('results_extended-paragraph-16k.json', 'w') as file:\n",
    "        json.dump(results, file, indent=4)\n",
    "    #print('--------------------------------------------')\n",
    "\n",
    "\n",
    "def precision_recall(labels : dict, weight : float, count_tn : bool) -> dict:\n",
    "    scores = {}\n",
    "    for archive in labels.keys():\n",
    "        scores[archive] = { name :{'F1_strict' : 0, 'F1_weighted' : 0, 'F1_ok' : 0} for name in ['PER', 'LOC', 'DATE', 'JOB', 'MERE_MARIEE', 'PERE_MARIEE', 'EX_EPOUX', 'PERE_MARI', 'MERE_MARI', 'ADMIN', 'MARIEE', 'MARI', 'TEMOIN']}\n",
    "\n",
    "        if count_tn:\n",
    "            for tag in scores[archive].keys():\n",
    "\n",
    "                #calculate F1_ok :\n",
    "                TP = labels[archive][tag]['TP'] + labels[archive][tag]['TN'] + labels[archive][tag]['PARTIAL']\n",
    "                FP = labels[archive][tag]['FP'] + labels[archive][tag]['MISS']\n",
    "                FN = labels[archive][tag]['FN'] + labels[archive][tag]['MISS']\n",
    "                precision = 0 if (TP + FP) == 0 else (TP / (TP + FP))\n",
    "                recall = 0 if (TP + FN) == 0 else (TP / (TP + FN))\n",
    "                F1_ok = 2 if (precision + recall) == 0 else (2 * (precision * recall) / (precision + recall))\n",
    "\n",
    "                #calculate F1_strict :\n",
    "                TP = labels[archive][tag]['TP'] + labels[archive][tag]['TN']\n",
    "                FP = labels[archive][tag]['FP'] + labels[archive][tag]['MISS']  + labels[archive][tag]['PARTIAL']\n",
    "                FN = labels[archive][tag]['FN'] + labels[archive][tag]['MISS']  + labels[archive][tag]['PARTIAL']\n",
    "                precision = 0 if (TP + FP) == 0 else (TP / (TP + FP))\n",
    "                recall = 0 if (TP + FN) == 0 else TP / (TP + FN)\n",
    "                F1_strict = 2 if (precision + recall) == 0 else (2 * (precision * recall) / (precision + recall))\n",
    "\n",
    "                scores[archive][tag]['F1_ok'] = F1_ok\n",
    "                scores[archive][tag]['F1_strict'] = F1_strict\n",
    "                # #strict mode\n",
    "                # precision_strict = 0 if (labels[archive][tag]['TP'] + labels[archive][tag]['TN'] + labels[archive][tag]['FP'] + labels[archive][tag]['MISS'] + labels[archive][tag]['PARTIAL'] ) == 0 else (labels[archive][tag]['TP'] + labels[archive][tag]['TN'] / (labels[archive][tag]['TP'] + labels[archive][tag]['TN'] + labels[archive][tag]['FP'] + labels[archive][tag]['MISS'] + labels[archive][tag]['PARTIAL'] ))\n",
    "                # recall_strict = 0 if (labels[archive][tag]['TP'] + labels[archive][tag]['TN'] + labels[archive][tag]['FN'] + labels[archive][tag]['MISS'] + labels[archive][tag]['PARTIAL'] ) == 0 else (labels[archive][tag]['TP'] + labels[archive][tag]['TN']  / (labels[archive][tag]['TP'] + labels[archive][tag]['TN'] + labels[archive][tag]['FN'] + labels[archive][tag]['MISS'] + labels[archive][tag]['PARTIAL'] ))\n",
    "                # f1_strict = 0 if (precision_strict + recall_strict) == 0 else 2 * (precision_strict * recall_strict) / (precision_strict + recall_strict)\n",
    "\n",
    "                # #weighted mode\n",
    "                # precision_weighted = 0 if (labels[archive][tag]['TP'] + labels[archive][tag]['TN'] + labels[archive][tag]['FP'] + labels[archive][tag]['MISS'] + weight * labels[archive][tag]['PARTIAL'] ) == 0 else ((labels[archive][tag]['TP'] + labels[archive][tag]['TN'] + weight * labels[archive][tag]['PARTIAL'] )/ (labels[archive][tag]['TP'] + labels[archive][tag]['TN'] + labels[archive][tag]['FP'] + labels[archive][tag]['MISS'] + weight * labels[archive][tag]['PARTIAL'] ))\n",
    "                # recall_weighted = 0 if (labels[archive][tag]['TP'] + labels[archive][tag]['TN'] + labels[archive][tag]['FN'] + labels[archive][tag]['MISS'] + weight * labels[archive][tag]['PARTIAL'] ) == 0 else ((labels[archive][tag]['TP'] + labels[archive][tag]['TN'] + weight * labels[archive][tag]['PARTIAL'])  / (labels[archive][tag]['TP'] + labels[archive][tag]['TN'] + labels[archive][tag]['FN'] + labels[archive][tag]['MISS'] + weight * labels[archive][tag]['PARTIAL'] ))\n",
    "                # f1_weighted = 0 if (precision_weighted + recall_weighted) == 0 else 2 * (precision_weighted * recall_weighted) / (precision_weighted + recall_weighted)\n",
    "\n",
    "                # #ok mode\n",
    "                # precision_ok = 0 if (labels[archive][tag]['TP'] + labels[archive][tag]['TN'] + labels[archive][tag]['FP'] + labels[archive][tag]['MISS'] + labels[archive][tag]['PARTIAL'] ) == 0 else ((labels[archive][tag]['TP'] + labels[archive][tag]['TN'] + labels[archive][tag]['PARTIAL']) / (labels[archive][tag]['TP'] + labels[archive][tag]['TN'] + labels[archive][tag]['FP'] + labels[archive][tag]['MISS'] + labels[archive][tag]['PARTIAL'] ))\n",
    "                # recall_ok = 0 if (labels[archive][tag]['TP'] + labels[archive][tag]['TN'] + labels[archive][tag]['FN'] + labels[archive][tag]['MISS'] + labels[archive][tag]['PARTIAL'] ) == 0 else ((labels[archive][tag]['TP'] + labels[archive][tag]['TN'] + labels[archive][tag]['PARTIAL'])  / (labels[archive][tag]['TP'] + labels[archive][tag]['TN'] + labels[archive][tag]['FN'] + labels[archive][tag]['MISS'] + labels[archive][tag]['PARTIAL'] ))\n",
    "                # f1_ok = 0 if (precision_ok + recall_ok) == 0 else 2 * (precision_ok * recall_ok) / (precision_ok + recall_ok)\n",
    "\n",
    "                # scores[archive][tag]['F1_strict'] = f1_strict\n",
    "                # scores[archive][tag]['F1_weighted'] = f1_weighted\n",
    "                # scores[archive][tag]['F1_ok'] = f1_ok\n",
    "\n",
    "            #calculate F1_ok :\n",
    "            TP = labels[archive]['TP'] + labels[archive]['TN'] + labels[archive]['PARTIAL']\n",
    "            FP = labels[archive]['FP'] + labels[archive]['MISS']\n",
    "            FN = labels[archive]['FN'] + labels[archive]['MISS']\n",
    "            precision = 0 if (TP + FP) == 0 else (TP / (TP + FP))\n",
    "            recall = 0 if (TP + FN) == 0 else (TP / (TP + FN))\n",
    "            F1_ok = 2 if (precision + recall) == 0 else (2 * (precision * recall) / (precision + recall))\n",
    "\n",
    "            #calculate F1_strict :\n",
    "            TP = labels[archive]['TP'] + labels[archive]['TN']\n",
    "            FP = labels[archive]['FP'] + labels[archive]['MISS']  + labels[archive]['PARTIAL']\n",
    "            FN = labels[archive]['FN'] + labels[archive]['MISS']  + labels[archive]['PARTIAL']\n",
    "            precision = 0 if (TP + FP) == 0 else (TP / (TP + FP))\n",
    "            recall = 0 if (TP + FN) == 0 else TP / (TP + FN)\n",
    "            F1_strict = 2 if (precision + recall) == 0 else (2 * (precision * recall) / (precision + recall))\n",
    "\n",
    "            scores[archive]['F1_ok'] = F1_ok\n",
    "            scores[archive]['F1_strict'] = F1_strict\n",
    "\n",
    "            # precision_strict = 0 if (labels[archive]['TP'] + labels[archive]['TN'] + labels[archive]['FP'] + labels[archive]['MISS'] + labels[archive]['PARTIAL'] ) == 0 else (labels[archive]['TP'] + labels[archive]['TN'] / (labels[archive]['TP'] + labels[archive]['TN'] + labels[archive]['FP'] + labels[archive]['MISS'] + labels[archive]['PARTIAL'] ))\n",
    "            # recall_strict = 0 if (labels[archive]['TP'] + labels[archive]['TN'] + labels[archive]['FN'] + labels[archive]['MISS'] + labels[archive]['PARTIAL'] ) == 0 else (labels[archive]['TP'] + labels[archive]['TN']  / (labels[archive]['TP'] + labels[archive]['TN'] + labels[archive]['FN'] + labels[archive]['MISS'] + labels[archive]['PARTIAL'] ))\n",
    "            # f1_strict = 0 if (precision_strict + recall_strict) == 0 else 2 * (precision_strict * recall_strict) / (precision_strict + recall_strict)\n",
    "\n",
    "            # #weighted mode\n",
    "            # precision_weighted = 0 if (labels[archive]['TP'] + labels[archive]['TN'] + labels[archive]['FP'] + labels[archive]['MISS'] + weight * labels[archive]['PARTIAL'] ) == 0 else ((labels[archive]['TP'] + labels[archive]['TN'] + weight * labels[archive]['PARTIAL']) / (labels[archive]['TP'] + labels[archive]['TN'] + labels[archive]['FP'] + labels[archive]['MISS'] + weight * labels[archive]['PARTIAL'] ))\n",
    "            # recall_weighted = 0 if (labels[archive]['TP'] + labels[archive]['TN'] + labels[archive]['FN'] + labels[archive]['MISS'] + weight * labels[archive]['PARTIAL'] ) == 0 else ((labels[archive]['TP'] + labels[archive]['TN'] + weight * labels[archive]['PARTIAL'])  / (labels[archive]['TP'] + labels[archive]['TN'] + labels[archive]['FN'] + labels[archive]['MISS'] + weight * labels[archive]['PARTIAL'] ))\n",
    "            # f1_weighted = 0 if (precision_weighted + recall_weighted) == 0 else 2 * (precision_weighted * recall_weighted) / (precision_weighted + recall_weighted)\n",
    "\n",
    "            # #ok mode\n",
    "            # precision_ok = 0 if (labels[archive]['TP'] + labels[archive]['TN'] + labels[archive]['FP'] + labels[archive]['MISS'] + labels[archive]['PARTIAL'] ) == 0 else ((labels[archive]['TP'] + labels[archive]['TN'] + labels[archive]['PARTIAL']) / (labels[archive]['TP'] + labels[archive]['TN'] + labels[archive]['FP'] + labels[archive]['MISS'] + labels[archive]['PARTIAL']))\n",
    "            # recall_ok = 0 if (labels[archive]['TP'] + labels[archive]['TN'] + labels[archive]['FN'] + labels[archive]['MISS'] + labels[archive]['PARTIAL'] ) == 0 else ((labels[archive]['TP'] + labels[archive]['TN'] + labels[archive]['PARTIAL'])  / (labels[archive]['TP'] + labels[archive]['TN'] + labels[archive]['FN'] + labels[archive]['MISS'] + labels[archive]['PARTIAL'] ))\n",
    "            # f1_ok = 0 if (precision_ok + recall_ok) == 0 else 2 * (precision_ok * recall_ok) / (precision_ok + recall_ok)\n",
    "\n",
    "            # scores[archive]['F1_strict'] = f1_strict\n",
    "            # scores[archive]['F1_weighted'] = f1_weighted\n",
    "            # scores[archive]['F1_ok'] = f1_ok\n",
    "            #print(scores[archive]['F1_strict'], scores[archive]['F1_weighted'], scores[archive]['F1_ok'])\n",
    "\n",
    "        else:\n",
    "            for tag in scores[archive].keys():\n",
    "\n",
    "                #calculate F1_ok :\n",
    "                TP = labels[archive][tag]['TP']  + labels[archive][tag]['PARTIAL']\n",
    "                FP = labels[archive][tag]['FP'] + labels[archive][tag]['MISS']\n",
    "                FN = labels[archive][tag]['FN'] + labels[archive][tag]['MISS']\n",
    "                precision = 0 if (TP + FP) == 0 else (TP / (TP + FP))\n",
    "                recall = 0 if (TP + FN) == 0 else (TP / (TP + FN))\n",
    "                F1_ok = 2 if (precision + recall) == 0 else (2 * (precision * recall) / (precision + recall))\n",
    "\n",
    "                #calculate F1_strict :\n",
    "                TP = labels[archive][tag]['TP'] \n",
    "                FP = labels[archive][tag]['FP'] + labels[archive][tag]['MISS']  + labels[archive][tag]['PARTIAL']\n",
    "                FN = labels[archive][tag]['FN'] + labels[archive][tag]['MISS']  + labels[archive][tag]['PARTIAL']\n",
    "                precision = 0 if (TP + FP) == 0 else (TP / (TP + FP))\n",
    "                recall = 0 if (TP + FN) == 0 else (TP / (TP + FN))\n",
    "                F1_strict = 2 if (precision + recall) == 0 else (2 * (precision * recall) / (precision + recall))\n",
    "\n",
    "                scores[archive][tag]['F1_ok'] = F1_ok\n",
    "                scores[archive][tag]['F1_strict'] = F1_strict\n",
    "                # #strict mode\n",
    "                # precision_strict = 0 if (labels[archive][tag]['TP']  + labels[archive][tag]['FP'] + labels[archive][tag]['MISS'] + labels[archive][tag]['PARTIAL'] ) == 0 else (labels[archive][tag]['TP']  / (labels[archive][tag]['TP']  + labels[archive][tag]['FP'] + labels[archive][tag]['MISS'] + labels[archive][tag]['PARTIAL'] ))\n",
    "                # recall_strict = 0 if (labels[archive][tag]['TP']  + labels[archive][tag]['FN'] + labels[archive][tag]['MISS'] + labels[archive][tag]['PARTIAL'] ) == 0 else (labels[archive][tag]['TP']   / (labels[archive][tag]['TP']  + labels[archive][tag]['FN'] + labels[archive][tag]['MISS'] + labels[archive][tag]['PARTIAL'] ))\n",
    "                # f1_strict = 0 if (precision_strict + recall_strict) == 0 else 2 * (precision_strict * recall_strict) / (precision_strict + recall_strict)\n",
    "\n",
    "                # #weighted mode\n",
    "                # precision_weighted = 0 if (labels[archive][tag]['TP']  + labels[archive][tag]['FP'] + labels[archive][tag]['MISS'] + weight * labels[archive][tag]['PARTIAL'] ) == 0 else ((labels[archive][tag]['TP']  + weight * labels[archive][tag]['PARTIAL'] )/ (labels[archive][tag]['TP']  + labels[archive][tag]['FP'] + labels[archive][tag]['MISS'] + weight * labels[archive][tag]['PARTIAL'] ))\n",
    "                # recall_weighted = 0 if (labels[archive][tag]['TP']  + labels[archive][tag]['FN'] + labels[archive][tag]['MISS'] + weight * labels[archive][tag]['PARTIAL'] ) == 0 else ((labels[archive][tag]['TP']  + weight * labels[archive][tag]['PARTIAL'])  / (labels[archive][tag]['TP']  + labels[archive][tag]['FN'] + labels[archive][tag]['MISS'] + weight * labels[archive][tag]['PARTIAL'] ))\n",
    "                # f1_weighted = 0 if (precision_weighted + recall_weighted) == 0 else 2 * (precision_weighted * recall_weighted) / (precision_weighted + recall_weighted)\n",
    "\n",
    "                # #ok mode\n",
    "                # precision_ok = 0 if (labels[archive][tag]['TP']  + labels[archive][tag]['FP'] + labels[archive][tag]['MISS'] + labels[archive][tag]['PARTIAL'] ) == 0 else ((labels[archive][tag]['TP']  + labels[archive][tag]['PARTIAL']) / (labels[archive][tag]['TP']  + labels[archive][tag]['FP'] + labels[archive][tag]['MISS'] + labels[archive][tag]['PARTIAL'] ))\n",
    "                # recall_ok = 0 if (labels[archive][tag]['TP']  + labels[archive][tag]['FN'] + labels[archive][tag]['MISS'] + labels[archive][tag]['PARTIAL'] ) == 0 else ((labels[archive][tag]['TP']  + labels[archive][tag]['PARTIAL'])  / (labels[archive][tag]['TP']  + labels[archive][tag]['FN'] + labels[archive][tag]['MISS'] + labels[archive][tag]['PARTIAL'] ))\n",
    "                # f1_ok = 0 if (precision_ok + recall_ok) == 0 else 2 * (precision_ok * recall_ok) / (precision_ok + recall_ok)\n",
    "\n",
    "                # scores[archive][tag]['F1_strict'] = f1_strict\n",
    "                # scores[archive][tag]['F1_weighted'] = f1_weighted\n",
    "                # scores[archive][tag]['F1_ok'] = f1_ok\n",
    "\n",
    "            #calculate F1_ok :\n",
    "            TP = labels[archive]['TP']  + labels[archive]['PARTIAL']\n",
    "            FP = labels[archive]['FP'] + labels[archive]['MISS']\n",
    "            FN = labels[archive]['FN'] + labels[archive]['MISS']\n",
    "            precision = 0 if (TP + FP) == 0 else (TP / (TP + FP))\n",
    "            recall = 0 if (TP + FN) == 0 else (TP / (TP + FN))\n",
    "            F1_ok = 2 if (precision + recall) == 0 else (2 * (precision * recall) / (precision + recall))\n",
    "\n",
    "            #calculate F1_strict :\n",
    "            TP = labels[archive]['TP'] \n",
    "            FP = labels[archive]['FP'] + labels[archive]['MISS']  + labels[archive]['PARTIAL']\n",
    "            FN = labels[archive]['FN'] + labels[archive]['MISS']  + labels[archive]['PARTIAL']\n",
    "            precision = 0 if (TP + FP) == 0 else (TP / (TP + FP))\n",
    "            recall = 0 if (TP + FN) == 0 else TP / (TP + FN)\n",
    "            F1_strict = 2 if (precision + recall) == 0 else (2 * (precision * recall) / (precision + recall))\n",
    "\n",
    "            scores[archive]['F1_ok'] = F1_ok\n",
    "            scores[archive]['F1_strict'] = F1_strict\n",
    "\n",
    "            # precision_strict = 0 if (labels[archive]['TP']  + labels[archive]['FP'] + labels[archive]['MISS'] + labels[archive]['PARTIAL'] ) == 0 else (labels[archive]['TP']  / (labels[archive]['TP']  + labels[archive]['FP'] + labels[archive]['MISS'] + labels[archive]['PARTIAL'] ))\n",
    "            # recall_strict = 0 if (labels[archive]['TP']  + labels[archive]['FN'] + labels[archive]['MISS'] + labels[archive]['PARTIAL'] ) == 0 else (labels[archive]['TP']   / (labels[archive]['TP']  + labels[archive]['FN'] + labels[archive]['MISS'] + labels[archive]['PARTIAL'] ))\n",
    "            # f1_strict = 0 if (precision_strict + recall_strict) == 0 else 2 * (precision_strict * recall_strict) / (precision_strict + recall_strict)\n",
    "\n",
    "            # #weighted mode\n",
    "            # precision_weighted = 0 if (labels[archive]['TP']  + labels[archive]['FP'] + labels[archive]['MISS'] + weight * labels[archive]['PARTIAL'] ) == 0 else ((labels[archive]['TP']  + weight * labels[archive]['PARTIAL']) / (labels[archive]['TP']  + labels[archive]['FP'] + labels[archive]['MISS'] + weight * labels[archive]['PARTIAL'] ))\n",
    "            # recall_weighted = 0 if (labels[archive]['TP']  + labels[archive]['FN'] + labels[archive]['MISS'] + weight * labels[archive]['PARTIAL'] ) == 0 else ((labels[archive]['TP']  + weight * labels[archive]['PARTIAL'])  / (labels[archive]['TP']  + labels[archive]['FN'] + labels[archive]['MISS'] + weight * labels[archive]['PARTIAL'] ))\n",
    "            # f1_weighted = 0 if (precision_weighted + recall_weighted) == 0 else 2 * (precision_weighted * recall_weighted) / (precision_weighted + recall_weighted)\n",
    "\n",
    "            # #ok mode\n",
    "            # precision_ok = 0 if (labels[archive]['TP']  + labels[archive]['FP'] + labels[archive]['MISS'] + labels[archive]['PARTIAL'] ) == 0 else ((labels[archive]['TP']  + labels[archive]['PARTIAL']) / (labels[archive]['TP']  + labels[archive]['FP'] + labels[archive]['MISS'] + labels[archive]['PARTIAL']))\n",
    "            # recall_ok = 0 if (labels[archive]['TP']  + labels[archive]['FN'] + labels[archive]['MISS'] + labels[archive]['PARTIAL'] ) == 0 else ((labels[archive]['TP']  + labels[archive]['PARTIAL'])  / (labels[archive]['TP']  + labels[archive]['FN'] + labels[archive]['MISS'] + labels[archive]['PARTIAL'] ))\n",
    "            # f1_ok = 0 if (precision_ok + recall_ok) == 0 else 2 * (precision_ok * recall_ok) / (precision_ok + recall_ok)\n",
    "\n",
    "            # scores[archive]['F1_strict'] = f1_strict\n",
    "            # scores[archive]['F1_weighted'] = f1_weighted\n",
    "            # scores[archive]['F1_ok'] = f1_ok\n",
    "            #print(scores[archive]['F1_strict'], scores[archive]['F1_weighted'], scores[archive]['F1_ok'])\n",
    "\n",
    "    return scores\n",
    "\n",
    "\n",
    "import plotly.graph_objects as go\n",
    "import plotly.express as px\n",
    "import pandas as pd\n",
    "\n",
    "def make_df(scores : dict):\n",
    "    #create a DataFrame\n",
    "    #Each line is an archive\n",
    "    #Index is the archive name\n",
    "\n",
    "\n",
    "    #Now append multi_index columns : \n",
    "    # 1st layer is : ['PER', 'LOC', 'DATE', 'JOB', 'MERE_MARIEE', 'PERE_MARIEE', 'EX_EPOUX', 'PERE_MARI', 'MERE_MARI', 'ADMIN', 'MARIEE', 'MARI', 'TEMOIN']\n",
    "    # 2nd layer is : ['F1_strict', 'F1_weighted', 'F1_ok']\n",
    "    #So we have 39 columns\n",
    "    #We need to create a MultiIndex\n",
    "    #Then we can append it to the DataFrame\n",
    "\n",
    "    #Create the MultiIndex\n",
    "    #First layer\n",
    "    first_layer = []\n",
    "    for tag in scores['archives_AD075EC_11M549_0094-right.png-0'].keys():\n",
    "        if tag == 'F1_strict' or tag == 'F1_weighted' or tag == 'F1_ok':\n",
    "            continue\n",
    "        first_layer.append(tag)\n",
    "\n",
    "    #Second layer\n",
    "    #second_layer = ['F1_strict', 'F1_weighted', 'F1_ok']\n",
    "    second_layer = ['F1_strict', 'F1_ok']\n",
    "\n",
    "    #Create the MultiIndex\n",
    "    multi_index = pd.MultiIndex.from_product([first_layer, second_layer], names=['tag', 'F1'])\n",
    "    #print(multi_index)\n",
    "\n",
    "    #Create the DataFrame\n",
    "    df2 = pd.DataFrame(columns=multi_index)\n",
    "\n",
    "    #Fill the DataFrame\n",
    "    for archive in scores.keys():\n",
    "        for tag in scores[archive].keys():\n",
    "            if tag == 'F1_strict' or tag == 'F1_weighted' or tag == 'F1_ok':\n",
    "                continue\n",
    "            for f1 in scores[archive][tag].keys():\n",
    "                df2.loc[archive, (tag, f1)] = scores[archive][tag][f1]\n",
    "        # for f1 in ['F1_strict', 'F1_weighted', 'F1_ok']:\n",
    "        #     df2.loc[archive, ('TOTAL', f1)] = scores[archive][f1]\n",
    "        for f1 in ['F1_strict', 'F1_ok']:\n",
    "             df2.loc[archive, ('TOTAL', f1)] = scores[archive][f1]\n",
    "    return df2\n",
    " \n"
   ]
  },
  {
   "cell_type": "code",
   "execution_count": 2,
   "metadata": {},
   "outputs": [],
   "source": [
    "import numpy as np\n",
    "def plot_average(scores : pd.DataFrame):\n",
    "    \n",
    "    #for each archive, keep only F1_ok in multi_index\n",
    "    scores_ok = scores.xs('F1_ok', level='F1', axis=1)\n",
    "    scores_sctrict = scores.xs('F1_strict', level='F1', axis=1)\n",
    "    #print(scores_ok)\n",
    "    #if value = 2 drop line\n",
    "    scores_ok = scores_ok[scores_ok['TOTAL'] != 2]\n",
    "    scores_sctrict = scores_sctrict[scores_sctrict['TOTAL'] != 2]\n",
    "    #rename index : remove archives_AD075EC and .png\n",
    "    scores_ok.index = scores_ok.index.str.replace('archives_AD075EC_', '')\n",
    "    scores_ok.index = scores_ok.index.str.replace('.png', '')\n",
    "    scores_sctrict.index = scores_sctrict.index.str.replace('archives_AD075EC_', '')\n",
    "    scores_sctrict.index = scores_sctrict.index.str.replace('.png', '')\n",
    "\n",
    "\n",
    "    #plot : x_axis = archives, y_axis = F1 between 0 and 1. For each archive, plot bars for F1_ok (blue) and F1_strict (red) in the same graph\n",
    "    fig = go.Figure()\n",
    "    fig.add_trace(go.Bar(\n",
    "        x=scores_ok.index,\n",
    "        y=scores_ok['TOTAL'],\n",
    "        name='F1 relaché',\n",
    "        marker_color='blue',\n",
    "        opacity=0.5\n",
    "    ))\n",
    "    fig.add_trace(go.Bar(\n",
    "        x=scores_sctrict.index,\n",
    "        y=scores_sctrict['TOTAL'],\n",
    "        name='F1 strict',\n",
    "        marker_color='red',\n",
    "        opacity=0.5\n",
    "    ))\n",
    "\n",
    "    #add a line for the macro average of F1_ok and F1_strict\n",
    "    fig.add_trace(go.Scatter(\n",
    "        x=scores_ok.index,\n",
    "        y=np.full(len(scores_ok['TOTAL']), scores_ok['TOTAL'].mean()),\n",
    "        name='F1 relaché moyen',\n",
    "        marker_color='blue',\n",
    "        mode='lines',\n",
    "        line=dict(\n",
    "            dash='dash',\n",
    "            width=2\n",
    "        )\n",
    "    ))\n",
    "    fig.add_trace(go.Scatter(\n",
    "        x=scores_sctrict.index,\n",
    "        y=np.full(len(scores_sctrict['TOTAL']), scores_sctrict['TOTAL'].mean()),\n",
    "        name='F1 struct moyen',\n",
    "        marker_color='red',\n",
    "        mode='lines',\n",
    "        line=dict(\n",
    "            dash='dash',\n",
    "            width=2\n",
    "        )\n",
    "    ))\n",
    "\n",
    "\n",
    "\n",
    "    fig.update_layout(\n",
    "        title='Scores F1 pour chaque archive',\n",
    "        xaxis_tickfont_size=14,\n",
    "        yaxis=dict(\n",
    "            title='F1',\n",
    "            titlefont_size=16,\n",
    "            tickfont_size=14,\n",
    "        ),\n",
    "        legend=dict(\n",
    "            x=1.0,\n",
    "            y=0.0,\n",
    "            bgcolor='rgba(255, 255, 255, 0)',\n",
    "            bordercolor='rgba(255, 255, 255, 0)'\n",
    "        ),\n",
    "        barmode='group',\n",
    "        bargap=0.15, # gap between bars of adjacent location coordinates.\n",
    "        bargroupgap=0.1 # gap between bars of the same location coordinate.\n",
    "    )\n",
    "\n",
    "    #the graph begin at 0.6\n",
    "    fig.update_yaxes(range=[0.6, 1.05])\n",
    "\n",
    "    # Set main ticks every 0.1\n",
    "    fig.update_yaxes(tick0=0, dtick=0.1, tickwidth=1.5, ticklen=10, tickcolor='rgb(0,0,0)')\n",
    "\n",
    "    # Create secondary gridlines manually\n",
    "    for i in range(60, 101): \n",
    "        if i % 10 != 0:# Adjust these numbers to suit your data\n",
    "            fig.add_shape(\n",
    "                go.layout.Shape(\n",
    "                    type=\"line\",\n",
    "                    y0=i*0.01,\n",
    "                    y1=i*0.01,\n",
    "                    x0=-1,\n",
    "                    x1=36,\n",
    "                    line=dict(\n",
    "                        color=\"rgba(0,0,0, 0.25)\",\n",
    "                        width=0.5,\n",
    "                    )\n",
    "                )\n",
    "            )\n",
    "        \n",
    "        else :\n",
    "            fig.add_shape(\n",
    "                go.layout.Shape(\n",
    "                    type=\"line\",\n",
    "                    y0=i*0.01,\n",
    "                    y1=i*0.01,\n",
    "                    x0=-1,\n",
    "                    x1=36,\n",
    "                    line=dict(\n",
    "                        color=\"rgba(0,0,0, 0.5)\",\n",
    "                        width=1,\n",
    "                    )\n",
    "                )\n",
    "            )\n",
    "\n",
    "    #the graph must take half of the screen\n",
    "    fig.update_layout(\n",
    "        autosize=False,\n",
    "        width=1000,\n",
    "        height=500,\n",
    "    )\n",
    "\n",
    "\n",
    "    fig.show()\n",
    "\n",
    "import numpy as np\n",
    "def plot_by_category(scores : pd.DataFrame):\n",
    "    \n",
    "    # score_mean_ok = scores.xs('F1_ok', level='F1', axis=1).mean()\n",
    "    # score_mean_weighted = scores.xs('F1_weighted', level='F1', axis=1).mean()\n",
    "    # score_mean_strict = scores.xs('F1_strict', level='F1', axis=1).mean()\n",
    "\n",
    "    # concat = pd.concat([score_mean_ok, score_mean_weighted, score_mean_strict], axis=1)\n",
    "    # concat.columns = ['F1_ok', 'F1_weighted', 'F1_strict']\n",
    "\n",
    "    #replace all value = 2 by NaN\n",
    "    scores = scores.replace(2, np.NaN)\n",
    "    \n",
    "    score_mean_ok = scores.xs('F1_ok', level='F1', axis=1).drop('TOTAL', axis=1).mean(skipna=True)\n",
    "    score_mean_strict = scores.xs('F1_strict', level='F1', axis=1).drop('TOTAL', axis=1).mean(skipna=True)\n",
    "\n",
    "    #print(score_mean_ok)\n",
    "    concat = pd.concat([score_mean_ok, score_mean_strict], axis=1)\n",
    "    concat.columns = ['F1_ok', 'F1_strict']\n",
    "\n",
    "    scores = concat.copy()\n",
    "\n",
    "    #print(scores)\n",
    "\n",
    "    #Plot : x_axis = tags, y_axis = F1 between 0 and 1. For each tag, plot bars for F1_ok (blue), F1_weighted (green) and F1_strict (red) in the same graph\n",
    "    fig = go.Figure()\n",
    "    fig.add_trace(go.Bar(\n",
    "        x=scores.index,\n",
    "        y=scores['F1_ok'],\n",
    "        name='F1 relaché',\n",
    "        marker_color='blue',\n",
    "        opacity=0.5\n",
    "    ))\n",
    "    fig.add_trace(go.Bar(\n",
    "        x=scores.index,\n",
    "        y=scores['F1_strict'],\n",
    "        name='F1 strict',\n",
    "        marker_color='red',\n",
    "        opacity=0.5\n",
    "    ))\n",
    "\n",
    "    #add a line for the macro average of F1_ok and F1_strict\n",
    "    fig.add_trace(go.Scatter(\n",
    "        x=scores.index,\n",
    "        y=np.full(len(scores['F1_ok']), scores['F1_ok'].mean()),\n",
    "        name='F1 relaché moyen',\n",
    "        marker_color='blue',\n",
    "        mode='lines',\n",
    "        line=dict(\n",
    "            dash='dash',\n",
    "            width=2\n",
    "        )\n",
    "    ))\n",
    "    fig.add_trace(go.Scatter(\n",
    "        x=scores.index,\n",
    "        y=np.full(len(scores['F1_strict']), scores['F1_strict'].mean()),\n",
    "        name='F1 strict moyen',\n",
    "        marker_color='red',\n",
    "        mode='lines',\n",
    "        line=dict(\n",
    "            dash='dash',\n",
    "            width=2\n",
    "        )\n",
    "    ))\n",
    "\n",
    "    fig.update_layout(\n",
    "        title='Moyenne des scores F1 par catégorie',\n",
    "        xaxis_tickfont_size=14,\n",
    "        yaxis=dict(\n",
    "            title='score F1',\n",
    "            titlefont_size=16,\n",
    "            tickfont_size=14,\n",
    "        ),\n",
    "        legend=dict(\n",
    "            x=1.0,\n",
    "            y=1.0,\n",
    "            bgcolor='rgba(255, 255, 255, 0)',\n",
    "            bordercolor='rgba(255, 255, 255, 0)'\n",
    "        ),\n",
    "        barmode='group',\n",
    "        bargap=0.15, # gap between bars of adjacent location coordinates.\n",
    "        bargroupgap=0.1 # gap between bars of the same location coordinate.\n",
    "    )\n",
    "\n",
    "    #the graph begin at 0.6\n",
    "    fig.update_yaxes(range=[0.6, 1.05])\n",
    "\n",
    "    # Set main ticks every 0.1\n",
    "    fig.update_yaxes(tick0=0, dtick=0.1, tickwidth=1.5, ticklen=10, tickcolor='rgb(0,0,0)')\n",
    "\n",
    "    # Create secondary gridlines manually\n",
    "    for i in range(60, 101): \n",
    "        if i % 10 != 0:# Adjust these numbers to suit your data\n",
    "            fig.add_shape(\n",
    "                go.layout.Shape(\n",
    "                    type=\"line\",\n",
    "                    y0=i*0.01,\n",
    "                    y1=i*0.01,\n",
    "                    x0=-1,\n",
    "                    x1=13,\n",
    "                    line=dict(\n",
    "                        color=\"rgba(0,0,0, 0.25)\",\n",
    "                        width=0.5,\n",
    "                    )\n",
    "                )\n",
    "            )\n",
    "        \n",
    "        else :\n",
    "            fig.add_shape(\n",
    "                go.layout.Shape(\n",
    "                    type=\"line\",\n",
    "                    y0=i*0.01,\n",
    "                    y1=i*0.01,\n",
    "                    x0=-1,\n",
    "                    x1=13,\n",
    "                    line=dict(\n",
    "                        color=\"rgba(0,0,0, 0.5)\",\n",
    "                        width=1,\n",
    "                    )\n",
    "                )\n",
    "            )\n",
    "\n",
    "    #the graph must take half of the screen\n",
    "    fig.update_layout(\n",
    "        autosize=False,\n",
    "        width=1000,\n",
    "        height=500,\n",
    "    )\n",
    "\n",
    "    fig.show()\n",
    "\n",
    "def make_average_for_each_people():\n",
    "    donnees = {}\n",
    "    new_results = {}\n",
    "    with open(\"results_extended.json\", \"r\") as f:\n",
    "        donnees = json.load(f)\n",
    "\n",
    "    for archive in donnees:\n",
    "        arch_dict = {}\n",
    "        for people in donnees[archive]:\n",
    "            if people in ['MERE_MARIEE', 'PERE_MARIEE', 'EX_EPOUX', 'PERE_MARI', 'MERE_MARI', 'ADMIN', 'MARIEE', 'MARI', 'TEMOIN']:\n",
    "                details = donnees[archive][people]['details']\n",
    "                arch_dict[people] = details\n",
    "        \n",
    "        if new_results == {}:\n",
    "            new_results = arch_dict\n",
    "        else:\n",
    "\n",
    "            def merge_dicts(a, b, op=sum):\n",
    "                \"\"\"Merge dictionaries and apply an operator to duplicate keys' values.\"\"\"\n",
    "                result = {}\n",
    "                for key in a.keys() | b.keys():\n",
    "                    if key in a and key in b:\n",
    "                        if isinstance(a[key], dict) and isinstance(b[key], dict):\n",
    "                            result[key] = merge_dicts(a[key], b[key], op)\n",
    "                        else:\n",
    "                            result[key] = op([a[key], b[key]])\n",
    "                    elif key in a:\n",
    "                        result[key] = a[key]\n",
    "                    elif key in b:\n",
    "                        result[key] = b[key]\n",
    "                return result\n",
    "            \n",
    "            new_results = merge_dicts(new_results, arch_dict, op=sum)\n",
    "\n",
    "    #save the new results\n",
    "    with open(\"results_extended_details.json\", \"w\") as f:\n",
    "        json.dump(new_results, f, indent=4)\n",
    "\n",
    "    detailes_f1 = {}\n",
    "    for people in new_results:\n",
    "        detailes_f1[people] = {}\n",
    "        for tag in new_results[people]:\n",
    "            detailes_f1[people][tag] = {}\n",
    "            #calculate F1_ok :\n",
    "            # TP = new_results[people][tag]['TP'] + new_results[people][tag]['TN'] + new_results[people][tag]['PARTIAL']\n",
    "            # FP = new_results[people][tag]['FP'] + new_results[people][tag]['MISS']\n",
    "            # FN = new_results[people][tag]['FN'] + new_results[people][tag]['MISS']\n",
    "            # precision = 0 if (TP + FP) == 0 else (TP / (TP + FP))\n",
    "            # recall = 0 if (TP + FN) == 0 else (TP / (TP + FN))\n",
    "            # F1_ok = 0 if (precision + recall) == 0 else (2 * (precision * recall) / (precision + recall))\n",
    "\n",
    "            # #calculate F1_strict :\n",
    "            # TP = new_results[people][tag]['TP'] + new_results[people][tag]['TN']\n",
    "            # FP = new_results[people][tag]['FP'] + new_results[people][tag]['MISS']  + new_results[people][tag]['PARTIAL']\n",
    "            # FN = new_results[people][tag]['FN'] + new_results[people][tag]['MISS']  + new_results[people][tag]['PARTIAL']\n",
    "            # precision = 0 if (TP + FP) == 0 else (TP / (TP + FP))\n",
    "            # recall = 0 if (TP + FN) == 0 else TP / (TP + FN)\n",
    "            # F1_strict = 0 if (precision + recall) == 0 else (2 * (precision * recall) / (precision + recall))\n",
    "\n",
    "            # detailes_f1[people][tag]['F1_ok'] = F1_ok\n",
    "            # detailes_f1[people][tag]['F1_strict'] = F1_strict\n",
    "            TP = new_results[people][tag]['TP']  + new_results[people][tag]['PARTIAL']\n",
    "            FP = new_results[people][tag]['FP'] + new_results[people][tag]['MISS']\n",
    "            FN = new_results[people][tag]['FN'] + new_results[people][tag]['MISS']\n",
    "            precision = 0 if (TP + FP) == 0 else (TP / (TP + FP))\n",
    "            recall = 0 if (TP + FN) == 0 else (TP / (TP + FN))\n",
    "            F1_ok = 0 if (precision + recall) == 0 else (2 * (precision * recall) / (precision + recall))\n",
    "\n",
    "            #calculate F1_strict :\n",
    "            TP = new_results[people][tag]['TP'] \n",
    "            FP = new_results[people][tag]['FP'] + new_results[people][tag]['MISS']  + new_results[people][tag]['PARTIAL']\n",
    "            FN = new_results[people][tag]['FN'] + new_results[people][tag]['MISS']  + new_results[people][tag]['PARTIAL']\n",
    "            precision = 0 if (TP + FP) == 0 else (TP / (TP + FP))\n",
    "            recall = 0 if (TP + FN) == 0 else TP / (TP + FN)\n",
    "            F1_strict = 0 if (precision + recall) == 0 else (2 * (precision * recall) / (precision + recall))\n",
    "\n",
    "            detailes_f1[people][tag]['F1_ok'] = F1_ok\n",
    "            detailes_f1[people][tag]['F1_strict'] = F1_strict\n",
    "\n",
    "    #save the new results\n",
    "    with open(\"scores_extended_details.json\", \"w\") as f:\n",
    "        json.dump(detailes_f1, f, indent=4)\n",
    "\n",
    "    #create a dataframe with the new results.\n",
    "    #Use a multiindex : 1st layer = tag [per,loc,date,job], 2nd layer = f1 type (F1_ok or F1_strict)\n",
    "    #index = people\n",
    "   \n",
    "    #create the multiindex\n",
    "    index = []\n",
    "    for people in detailes_f1:\n",
    "        for tag in detailes_f1[people]:\n",
    "            index.append((people, tag))\n",
    "    index = pd.MultiIndex.from_tuples(index, names=['people', 'tag'])\n",
    "\n",
    "    #create the dataframe\n",
    "    scores = pd.DataFrame(columns=['F1_ok', 'F1_strict'], index=index)\n",
    "    for people in detailes_f1:\n",
    "        for tag in detailes_f1[people]:\n",
    "            scores.loc[(people, tag), 'F1_ok'] = detailes_f1[people][tag]['F1_ok']\n",
    "            scores.loc[(people, tag), 'F1_strict'] = detailes_f1[people][tag]['F1_strict']\n",
    "\n",
    "    #put tag in columns\n",
    "    scores = scores.unstack(level=1)\n",
    "\n",
    "    #PLot bar chart\n",
    "    #Y-axis : F1 score from 0 to 1, X-axis : people splitted in DATE, LOC, PER, JOB for each people. Use only F1_ok\n",
    "    #use a color gradient for each people\n",
    "    \n",
    "    scores = scores.xs('F1_ok', axis=1, level=0)\n",
    "\n",
    "    #scores = scores.transpose()\n",
    "\n",
    "    #use plotly graph objects\n",
    "    fig = go.Figure()\n",
    "\n",
    "    people_colors = {\n",
    "        'JOB': 'rgba(255, 0, 0, 0.5)',\n",
    "        'LOC': 'rgba(0, 255, 0, 0.5)',\n",
    "        'PER': 'rgba(0, 0, 255, 0.5)',\n",
    "        'DATE': 'rgba(255, 255, 0, 0.5)'\n",
    "    }\n",
    "\n",
    "\n",
    "\n",
    "    #add traces\n",
    "    for people in scores:\n",
    "        fig.add_trace(go.Bar(\n",
    "            x=scores.index,\n",
    "            y=scores[people],\n",
    "            name=people,\n",
    "            marker_color=people_colors[people],\n",
    "            width= 0.05\n",
    "        ))\n",
    "\n",
    "\n",
    "    #update layout\n",
    "    fig.update_layout(\n",
    "        title=\"Moyenne des F1 pour chaque personne, par catégorie d'information\",\n",
    "        xaxis_tickfont_size=14,\n",
    "        yaxis=dict(\n",
    "            title='F1 score',\n",
    "            titlefont_size=16,\n",
    "            tickfont_size=14,\n",
    "        ),\n",
    "        legend=dict(\n",
    "            x=1.0,\n",
    "            y=1.0,\n",
    "            bgcolor='rgba(255, 255, 255, 0)',\n",
    "            bordercolor='rgba(255, 255, 255, 0)'\n",
    "        ),\n",
    "        barmode='group',\n",
    "        bargap=0.3,\n",
    "        bargroupgap=0.3\n",
    "    )\n",
    "\n",
    "    #the graph begin at 0.6\n",
    "    fig.update_yaxes(range=[0.5, 1.05])\n",
    "\n",
    "    # Set main ticks every 0.1\n",
    "    fig.update_yaxes(tick0=0, dtick=0.1, tickwidth=1.5, ticklen=10, tickcolor='rgb(0,0,0)')\n",
    "\n",
    "    # Create secondary gridlines manually\n",
    "    for i in range(50, 101): \n",
    "        if i % 10 != 0:# Adjust these numbers to suit your data\n",
    "            fig.add_shape(\n",
    "                go.layout.Shape(\n",
    "                    type=\"line\",\n",
    "                    y0=i*0.01,\n",
    "                    y1=i*0.01,\n",
    "                    x0=-1,\n",
    "                    x1=9,\n",
    "                    line=dict(\n",
    "                        color=\"rgba(0,0,0, 0.25)\",\n",
    "                        width=0.5,\n",
    "                    )\n",
    "                )\n",
    "            )\n",
    "        \n",
    "        else :\n",
    "            fig.add_shape(\n",
    "                go.layout.Shape(\n",
    "                    type=\"line\",\n",
    "                    y0=i*0.01,\n",
    "                    y1=i*0.01,\n",
    "                    x0=-1,\n",
    "                    x1=9,\n",
    "                    line=dict(\n",
    "                        color=\"rgba(0,0,0, 0.5)\",\n",
    "                        width=1,\n",
    "                    )\n",
    "                )\n",
    "            )\n",
    "\n",
    "    #the graph must take half of the screen\n",
    "    fig.update_layout(\n",
    "        autosize=False,\n",
    "        width=1000,\n",
    "        height=500,\n",
    "    )\n",
    "    fig.show()\n",
    "\n",
    "    return scores\n",
    "\n"
   ]
  },
  {
   "cell_type": "code",
   "execution_count": 3,
   "metadata": {},
   "outputs": [
    {
     "data": {
      "application/vnd.plotly.v1+json": {
       "config": {
        "plotlyServerURL": "https://plot.ly"
       },
       "data": [
        {
         "marker": {
          "color": "blue"
         },
         "name": "F1 relaché",
         "opacity": 0.5,
         "type": "bar",
         "x": [
          "01M1930_0023-left-0",
          "01M1930_0023-left-1",
          "01M1930_0023-left-2",
          "01M1930_0023-right-0",
          "01M1930_0023-right-1",
          "01M1930_0023-right-2",
          "01M1940_0020-left-0",
          "01M1940_0020-left-3",
          "01M1940_0020-right-0",
          "01M1940_0020-right-1",
          "01M1940_0020-right-2",
          "01M1940_0011-left-0",
          "01M1940_0011-left-1",
          "01M1940_0011-left-2",
          "01M1940_0011-right-0",
          "01M1940_0011-right-2",
          "11M549_0094-left-0",
          "11M549_0094-left-1",
          "11M549_0094-left-2",
          "11M549_0094-right-0",
          "11M549_0094-right-1",
          "11M549_0094-right-2",
          "04M298B_0036-right-0",
          "04M298B_0036-right-1",
          "04M298B_0036-right-2",
          "11M549_0113-left-0",
          "11M549_0113-left-1",
          "11M549_0113-left-2",
          "11M549_0113-right-0",
          "11M549_0113-right-1",
          "11M549_0113-right-2"
         ],
         "y": [
          0.9457364341085273,
          1,
          0.9642857142857142,
          0.991869918699187,
          0.9915966386554621,
          1,
          1,
          0.9183673469387755,
          0.9333333333333333,
          1,
          0.9914529914529915,
          1,
          1,
          1,
          0.967741935483871,
          0.9719626168224299,
          1,
          1,
          0.984375,
          0.9565217391304348,
          0.9618320610687022,
          0.959349593495935,
          0.9743589743589743,
          0.9642857142857143,
          0.976,
          0.9586776859504132,
          0.9682539682539683,
          0.9558823529411764,
          0.9841269841269841,
          0.9516129032258065,
          0.9565217391304348
         ]
        },
        {
         "marker": {
          "color": "red"
         },
         "name": "F1 strict",
         "opacity": 0.5,
         "type": "bar",
         "x": [
          "01M1930_0023-left-0",
          "01M1930_0023-left-1",
          "01M1930_0023-left-2",
          "01M1930_0023-right-0",
          "01M1930_0023-right-1",
          "01M1930_0023-right-2",
          "01M1940_0020-left-0",
          "01M1940_0020-left-3",
          "01M1940_0020-right-0",
          "01M1940_0020-right-1",
          "01M1940_0020-right-2",
          "01M1940_0011-left-0",
          "01M1940_0011-left-1",
          "01M1940_0011-left-2",
          "01M1940_0011-right-0",
          "01M1940_0011-right-2",
          "11M549_0094-left-0",
          "11M549_0094-left-1",
          "11M549_0094-left-2",
          "11M549_0094-right-0",
          "11M549_0094-right-1",
          "11M549_0094-right-2",
          "04M298B_0036-right-0",
          "04M298B_0036-right-1",
          "04M298B_0036-right-2",
          "11M549_0113-left-0",
          "11M549_0113-left-1",
          "11M549_0113-left-2",
          "11M549_0113-right-0",
          "11M549_0113-right-1",
          "11M549_0113-right-2"
         ],
         "y": [
          0.868217054263566,
          0.9305555555555556,
          0.8571428571428571,
          0.975609756097561,
          0.9411764705882353,
          0.9482758620689655,
          0.9824561403508771,
          0.9183673469387755,
          0.8000000000000002,
          0.9552238805970149,
          0.9572649572649573,
          0.9333333333333333,
          0.96875,
          0.9272727272727272,
          0.8709677419354839,
          0.9158878504672898,
          0.9038461538461539,
          0.85,
          0.84375,
          0.8173913043478261,
          0.8854961832061069,
          0.8130081300813008,
          0.905982905982906,
          0.8571428571428571,
          0.9279999999999999,
          0.8760330578512396,
          0.8412698412698412,
          0.8529411764705882,
          0.8730158730158729,
          0.870967741935484,
          0.8695652173913044
         ]
        },
        {
         "line": {
          "dash": "dash",
          "width": 2
         },
         "marker": {
          "color": "blue"
         },
         "mode": "lines",
         "name": "F1 relaché moyen",
         "type": "scatter",
         "x": [
          "01M1930_0023-left-0",
          "01M1930_0023-left-1",
          "01M1930_0023-left-2",
          "01M1930_0023-right-0",
          "01M1930_0023-right-1",
          "01M1930_0023-right-2",
          "01M1940_0020-left-0",
          "01M1940_0020-left-3",
          "01M1940_0020-right-0",
          "01M1940_0020-right-1",
          "01M1940_0020-right-2",
          "01M1940_0011-left-0",
          "01M1940_0011-left-1",
          "01M1940_0011-left-2",
          "01M1940_0011-right-0",
          "01M1940_0011-right-2",
          "11M549_0094-left-0",
          "11M549_0094-left-1",
          "11M549_0094-left-2",
          "11M549_0094-right-0",
          "11M549_0094-right-1",
          "11M549_0094-right-2",
          "04M298B_0036-right-0",
          "04M298B_0036-right-1",
          "04M298B_0036-right-2",
          "11M549_0113-left-0",
          "11M549_0113-left-1",
          "11M549_0113-left-2",
          "11M549_0113-right-0",
          "11M549_0113-right-1",
          "11M549_0113-right-2"
         ],
         "y": [
          0.9751014724435109,
          0.9751014724435109,
          0.9751014724435109,
          0.9751014724435109,
          0.9751014724435109,
          0.9751014724435109,
          0.9751014724435109,
          0.9751014724435109,
          0.9751014724435109,
          0.9751014724435109,
          0.9751014724435109,
          0.9751014724435109,
          0.9751014724435109,
          0.9751014724435109,
          0.9751014724435109,
          0.9751014724435109,
          0.9751014724435109,
          0.9751014724435109,
          0.9751014724435109,
          0.9751014724435109,
          0.9751014724435109,
          0.9751014724435109,
          0.9751014724435109,
          0.9751014724435109,
          0.9751014724435109,
          0.9751014724435109,
          0.9751014724435109,
          0.9751014724435109,
          0.9751014724435109,
          0.9751014724435109,
          0.9751014724435109
         ]
        },
        {
         "line": {
          "dash": "dash",
          "width": 2
         },
         "marker": {
          "color": "red"
         },
         "mode": "lines",
         "name": "F1 struct moyen",
         "type": "scatter",
         "x": [
          "01M1930_0023-left-0",
          "01M1930_0023-left-1",
          "01M1930_0023-left-2",
          "01M1930_0023-right-0",
          "01M1930_0023-right-1",
          "01M1930_0023-right-2",
          "01M1940_0020-left-0",
          "01M1940_0020-left-3",
          "01M1940_0020-right-0",
          "01M1940_0020-right-1",
          "01M1940_0020-right-2",
          "01M1940_0011-left-0",
          "01M1940_0011-left-1",
          "01M1940_0011-left-2",
          "01M1940_0011-right-0",
          "01M1940_0011-right-2",
          "11M549_0094-left-0",
          "11M549_0094-left-1",
          "11M549_0094-left-2",
          "11M549_0094-right-0",
          "11M549_0094-right-1",
          "11M549_0094-right-2",
          "04M298B_0036-right-0",
          "04M298B_0036-right-1",
          "04M298B_0036-right-2",
          "11M549_0113-left-0",
          "11M549_0113-left-1",
          "11M549_0113-left-2",
          "11M549_0113-right-0",
          "11M549_0113-right-1",
          "11M549_0113-right-2"
         ],
         "y": [
          0.8948036121425381,
          0.8948036121425381,
          0.8948036121425381,
          0.8948036121425381,
          0.8948036121425381,
          0.8948036121425381,
          0.8948036121425381,
          0.8948036121425381,
          0.8948036121425381,
          0.8948036121425381,
          0.8948036121425381,
          0.8948036121425381,
          0.8948036121425381,
          0.8948036121425381,
          0.8948036121425381,
          0.8948036121425381,
          0.8948036121425381,
          0.8948036121425381,
          0.8948036121425381,
          0.8948036121425381,
          0.8948036121425381,
          0.8948036121425381,
          0.8948036121425381,
          0.8948036121425381,
          0.8948036121425381,
          0.8948036121425381,
          0.8948036121425381,
          0.8948036121425381,
          0.8948036121425381,
          0.8948036121425381,
          0.8948036121425381
         ]
        }
       ],
       "layout": {
        "autosize": false,
        "bargap": 0.15,
        "bargroupgap": 0.1,
        "barmode": "group",
        "height": 500,
        "legend": {
         "bgcolor": "rgba(255, 255, 255, 0)",
         "bordercolor": "rgba(255, 255, 255, 0)",
         "x": 1,
         "y": 0
        },
        "shapes": [
         {
          "line": {
           "color": "rgba(0,0,0, 0.5)",
           "width": 1
          },
          "type": "line",
          "x0": -1,
          "x1": 36,
          "y0": 0.6,
          "y1": 0.6
         },
         {
          "line": {
           "color": "rgba(0,0,0, 0.25)",
           "width": 0.5
          },
          "type": "line",
          "x0": -1,
          "x1": 36,
          "y0": 0.61,
          "y1": 0.61
         },
         {
          "line": {
           "color": "rgba(0,0,0, 0.25)",
           "width": 0.5
          },
          "type": "line",
          "x0": -1,
          "x1": 36,
          "y0": 0.62,
          "y1": 0.62
         },
         {
          "line": {
           "color": "rgba(0,0,0, 0.25)",
           "width": 0.5
          },
          "type": "line",
          "x0": -1,
          "x1": 36,
          "y0": 0.63,
          "y1": 0.63
         },
         {
          "line": {
           "color": "rgba(0,0,0, 0.25)",
           "width": 0.5
          },
          "type": "line",
          "x0": -1,
          "x1": 36,
          "y0": 0.64,
          "y1": 0.64
         },
         {
          "line": {
           "color": "rgba(0,0,0, 0.25)",
           "width": 0.5
          },
          "type": "line",
          "x0": -1,
          "x1": 36,
          "y0": 0.65,
          "y1": 0.65
         },
         {
          "line": {
           "color": "rgba(0,0,0, 0.25)",
           "width": 0.5
          },
          "type": "line",
          "x0": -1,
          "x1": 36,
          "y0": 0.66,
          "y1": 0.66
         },
         {
          "line": {
           "color": "rgba(0,0,0, 0.25)",
           "width": 0.5
          },
          "type": "line",
          "x0": -1,
          "x1": 36,
          "y0": 0.67,
          "y1": 0.67
         },
         {
          "line": {
           "color": "rgba(0,0,0, 0.25)",
           "width": 0.5
          },
          "type": "line",
          "x0": -1,
          "x1": 36,
          "y0": 0.68,
          "y1": 0.68
         },
         {
          "line": {
           "color": "rgba(0,0,0, 0.25)",
           "width": 0.5
          },
          "type": "line",
          "x0": -1,
          "x1": 36,
          "y0": 0.6900000000000001,
          "y1": 0.6900000000000001
         },
         {
          "line": {
           "color": "rgba(0,0,0, 0.5)",
           "width": 1
          },
          "type": "line",
          "x0": -1,
          "x1": 36,
          "y0": 0.7000000000000001,
          "y1": 0.7000000000000001
         },
         {
          "line": {
           "color": "rgba(0,0,0, 0.25)",
           "width": 0.5
          },
          "type": "line",
          "x0": -1,
          "x1": 36,
          "y0": 0.71,
          "y1": 0.71
         },
         {
          "line": {
           "color": "rgba(0,0,0, 0.25)",
           "width": 0.5
          },
          "type": "line",
          "x0": -1,
          "x1": 36,
          "y0": 0.72,
          "y1": 0.72
         },
         {
          "line": {
           "color": "rgba(0,0,0, 0.25)",
           "width": 0.5
          },
          "type": "line",
          "x0": -1,
          "x1": 36,
          "y0": 0.73,
          "y1": 0.73
         },
         {
          "line": {
           "color": "rgba(0,0,0, 0.25)",
           "width": 0.5
          },
          "type": "line",
          "x0": -1,
          "x1": 36,
          "y0": 0.74,
          "y1": 0.74
         },
         {
          "line": {
           "color": "rgba(0,0,0, 0.25)",
           "width": 0.5
          },
          "type": "line",
          "x0": -1,
          "x1": 36,
          "y0": 0.75,
          "y1": 0.75
         },
         {
          "line": {
           "color": "rgba(0,0,0, 0.25)",
           "width": 0.5
          },
          "type": "line",
          "x0": -1,
          "x1": 36,
          "y0": 0.76,
          "y1": 0.76
         },
         {
          "line": {
           "color": "rgba(0,0,0, 0.25)",
           "width": 0.5
          },
          "type": "line",
          "x0": -1,
          "x1": 36,
          "y0": 0.77,
          "y1": 0.77
         },
         {
          "line": {
           "color": "rgba(0,0,0, 0.25)",
           "width": 0.5
          },
          "type": "line",
          "x0": -1,
          "x1": 36,
          "y0": 0.78,
          "y1": 0.78
         },
         {
          "line": {
           "color": "rgba(0,0,0, 0.25)",
           "width": 0.5
          },
          "type": "line",
          "x0": -1,
          "x1": 36,
          "y0": 0.79,
          "y1": 0.79
         },
         {
          "line": {
           "color": "rgba(0,0,0, 0.5)",
           "width": 1
          },
          "type": "line",
          "x0": -1,
          "x1": 36,
          "y0": 0.8,
          "y1": 0.8
         },
         {
          "line": {
           "color": "rgba(0,0,0, 0.25)",
           "width": 0.5
          },
          "type": "line",
          "x0": -1,
          "x1": 36,
          "y0": 0.81,
          "y1": 0.81
         },
         {
          "line": {
           "color": "rgba(0,0,0, 0.25)",
           "width": 0.5
          },
          "type": "line",
          "x0": -1,
          "x1": 36,
          "y0": 0.8200000000000001,
          "y1": 0.8200000000000001
         },
         {
          "line": {
           "color": "rgba(0,0,0, 0.25)",
           "width": 0.5
          },
          "type": "line",
          "x0": -1,
          "x1": 36,
          "y0": 0.8300000000000001,
          "y1": 0.8300000000000001
         },
         {
          "line": {
           "color": "rgba(0,0,0, 0.25)",
           "width": 0.5
          },
          "type": "line",
          "x0": -1,
          "x1": 36,
          "y0": 0.84,
          "y1": 0.84
         },
         {
          "line": {
           "color": "rgba(0,0,0, 0.25)",
           "width": 0.5
          },
          "type": "line",
          "x0": -1,
          "x1": 36,
          "y0": 0.85,
          "y1": 0.85
         },
         {
          "line": {
           "color": "rgba(0,0,0, 0.25)",
           "width": 0.5
          },
          "type": "line",
          "x0": -1,
          "x1": 36,
          "y0": 0.86,
          "y1": 0.86
         },
         {
          "line": {
           "color": "rgba(0,0,0, 0.25)",
           "width": 0.5
          },
          "type": "line",
          "x0": -1,
          "x1": 36,
          "y0": 0.87,
          "y1": 0.87
         },
         {
          "line": {
           "color": "rgba(0,0,0, 0.25)",
           "width": 0.5
          },
          "type": "line",
          "x0": -1,
          "x1": 36,
          "y0": 0.88,
          "y1": 0.88
         },
         {
          "line": {
           "color": "rgba(0,0,0, 0.25)",
           "width": 0.5
          },
          "type": "line",
          "x0": -1,
          "x1": 36,
          "y0": 0.89,
          "y1": 0.89
         },
         {
          "line": {
           "color": "rgba(0,0,0, 0.5)",
           "width": 1
          },
          "type": "line",
          "x0": -1,
          "x1": 36,
          "y0": 0.9,
          "y1": 0.9
         },
         {
          "line": {
           "color": "rgba(0,0,0, 0.25)",
           "width": 0.5
          },
          "type": "line",
          "x0": -1,
          "x1": 36,
          "y0": 0.91,
          "y1": 0.91
         },
         {
          "line": {
           "color": "rgba(0,0,0, 0.25)",
           "width": 0.5
          },
          "type": "line",
          "x0": -1,
          "x1": 36,
          "y0": 0.92,
          "y1": 0.92
         },
         {
          "line": {
           "color": "rgba(0,0,0, 0.25)",
           "width": 0.5
          },
          "type": "line",
          "x0": -1,
          "x1": 36,
          "y0": 0.93,
          "y1": 0.93
         },
         {
          "line": {
           "color": "rgba(0,0,0, 0.25)",
           "width": 0.5
          },
          "type": "line",
          "x0": -1,
          "x1": 36,
          "y0": 0.9400000000000001,
          "y1": 0.9400000000000001
         },
         {
          "line": {
           "color": "rgba(0,0,0, 0.25)",
           "width": 0.5
          },
          "type": "line",
          "x0": -1,
          "x1": 36,
          "y0": 0.9500000000000001,
          "y1": 0.9500000000000001
         },
         {
          "line": {
           "color": "rgba(0,0,0, 0.25)",
           "width": 0.5
          },
          "type": "line",
          "x0": -1,
          "x1": 36,
          "y0": 0.96,
          "y1": 0.96
         },
         {
          "line": {
           "color": "rgba(0,0,0, 0.25)",
           "width": 0.5
          },
          "type": "line",
          "x0": -1,
          "x1": 36,
          "y0": 0.97,
          "y1": 0.97
         },
         {
          "line": {
           "color": "rgba(0,0,0, 0.25)",
           "width": 0.5
          },
          "type": "line",
          "x0": -1,
          "x1": 36,
          "y0": 0.98,
          "y1": 0.98
         },
         {
          "line": {
           "color": "rgba(0,0,0, 0.25)",
           "width": 0.5
          },
          "type": "line",
          "x0": -1,
          "x1": 36,
          "y0": 0.99,
          "y1": 0.99
         },
         {
          "line": {
           "color": "rgba(0,0,0, 0.5)",
           "width": 1
          },
          "type": "line",
          "x0": -1,
          "x1": 36,
          "y0": 1,
          "y1": 1
         }
        ],
        "template": {
         "data": {
          "bar": [
           {
            "error_x": {
             "color": "#2a3f5f"
            },
            "error_y": {
             "color": "#2a3f5f"
            },
            "marker": {
             "line": {
              "color": "#E5ECF6",
              "width": 0.5
             },
             "pattern": {
              "fillmode": "overlay",
              "size": 10,
              "solidity": 0.2
             }
            },
            "type": "bar"
           }
          ],
          "barpolar": [
           {
            "marker": {
             "line": {
              "color": "#E5ECF6",
              "width": 0.5
             },
             "pattern": {
              "fillmode": "overlay",
              "size": 10,
              "solidity": 0.2
             }
            },
            "type": "barpolar"
           }
          ],
          "carpet": [
           {
            "aaxis": {
             "endlinecolor": "#2a3f5f",
             "gridcolor": "white",
             "linecolor": "white",
             "minorgridcolor": "white",
             "startlinecolor": "#2a3f5f"
            },
            "baxis": {
             "endlinecolor": "#2a3f5f",
             "gridcolor": "white",
             "linecolor": "white",
             "minorgridcolor": "white",
             "startlinecolor": "#2a3f5f"
            },
            "type": "carpet"
           }
          ],
          "choropleth": [
           {
            "colorbar": {
             "outlinewidth": 0,
             "ticks": ""
            },
            "type": "choropleth"
           }
          ],
          "contour": [
           {
            "colorbar": {
             "outlinewidth": 0,
             "ticks": ""
            },
            "colorscale": [
             [
              0,
              "#0d0887"
             ],
             [
              0.1111111111111111,
              "#46039f"
             ],
             [
              0.2222222222222222,
              "#7201a8"
             ],
             [
              0.3333333333333333,
              "#9c179e"
             ],
             [
              0.4444444444444444,
              "#bd3786"
             ],
             [
              0.5555555555555556,
              "#d8576b"
             ],
             [
              0.6666666666666666,
              "#ed7953"
             ],
             [
              0.7777777777777778,
              "#fb9f3a"
             ],
             [
              0.8888888888888888,
              "#fdca26"
             ],
             [
              1,
              "#f0f921"
             ]
            ],
            "type": "contour"
           }
          ],
          "contourcarpet": [
           {
            "colorbar": {
             "outlinewidth": 0,
             "ticks": ""
            },
            "type": "contourcarpet"
           }
          ],
          "heatmap": [
           {
            "colorbar": {
             "outlinewidth": 0,
             "ticks": ""
            },
            "colorscale": [
             [
              0,
              "#0d0887"
             ],
             [
              0.1111111111111111,
              "#46039f"
             ],
             [
              0.2222222222222222,
              "#7201a8"
             ],
             [
              0.3333333333333333,
              "#9c179e"
             ],
             [
              0.4444444444444444,
              "#bd3786"
             ],
             [
              0.5555555555555556,
              "#d8576b"
             ],
             [
              0.6666666666666666,
              "#ed7953"
             ],
             [
              0.7777777777777778,
              "#fb9f3a"
             ],
             [
              0.8888888888888888,
              "#fdca26"
             ],
             [
              1,
              "#f0f921"
             ]
            ],
            "type": "heatmap"
           }
          ],
          "heatmapgl": [
           {
            "colorbar": {
             "outlinewidth": 0,
             "ticks": ""
            },
            "colorscale": [
             [
              0,
              "#0d0887"
             ],
             [
              0.1111111111111111,
              "#46039f"
             ],
             [
              0.2222222222222222,
              "#7201a8"
             ],
             [
              0.3333333333333333,
              "#9c179e"
             ],
             [
              0.4444444444444444,
              "#bd3786"
             ],
             [
              0.5555555555555556,
              "#d8576b"
             ],
             [
              0.6666666666666666,
              "#ed7953"
             ],
             [
              0.7777777777777778,
              "#fb9f3a"
             ],
             [
              0.8888888888888888,
              "#fdca26"
             ],
             [
              1,
              "#f0f921"
             ]
            ],
            "type": "heatmapgl"
           }
          ],
          "histogram": [
           {
            "marker": {
             "pattern": {
              "fillmode": "overlay",
              "size": 10,
              "solidity": 0.2
             }
            },
            "type": "histogram"
           }
          ],
          "histogram2d": [
           {
            "colorbar": {
             "outlinewidth": 0,
             "ticks": ""
            },
            "colorscale": [
             [
              0,
              "#0d0887"
             ],
             [
              0.1111111111111111,
              "#46039f"
             ],
             [
              0.2222222222222222,
              "#7201a8"
             ],
             [
              0.3333333333333333,
              "#9c179e"
             ],
             [
              0.4444444444444444,
              "#bd3786"
             ],
             [
              0.5555555555555556,
              "#d8576b"
             ],
             [
              0.6666666666666666,
              "#ed7953"
             ],
             [
              0.7777777777777778,
              "#fb9f3a"
             ],
             [
              0.8888888888888888,
              "#fdca26"
             ],
             [
              1,
              "#f0f921"
             ]
            ],
            "type": "histogram2d"
           }
          ],
          "histogram2dcontour": [
           {
            "colorbar": {
             "outlinewidth": 0,
             "ticks": ""
            },
            "colorscale": [
             [
              0,
              "#0d0887"
             ],
             [
              0.1111111111111111,
              "#46039f"
             ],
             [
              0.2222222222222222,
              "#7201a8"
             ],
             [
              0.3333333333333333,
              "#9c179e"
             ],
             [
              0.4444444444444444,
              "#bd3786"
             ],
             [
              0.5555555555555556,
              "#d8576b"
             ],
             [
              0.6666666666666666,
              "#ed7953"
             ],
             [
              0.7777777777777778,
              "#fb9f3a"
             ],
             [
              0.8888888888888888,
              "#fdca26"
             ],
             [
              1,
              "#f0f921"
             ]
            ],
            "type": "histogram2dcontour"
           }
          ],
          "mesh3d": [
           {
            "colorbar": {
             "outlinewidth": 0,
             "ticks": ""
            },
            "type": "mesh3d"
           }
          ],
          "parcoords": [
           {
            "line": {
             "colorbar": {
              "outlinewidth": 0,
              "ticks": ""
             }
            },
            "type": "parcoords"
           }
          ],
          "pie": [
           {
            "automargin": true,
            "type": "pie"
           }
          ],
          "scatter": [
           {
            "fillpattern": {
             "fillmode": "overlay",
             "size": 10,
             "solidity": 0.2
            },
            "type": "scatter"
           }
          ],
          "scatter3d": [
           {
            "line": {
             "colorbar": {
              "outlinewidth": 0,
              "ticks": ""
             }
            },
            "marker": {
             "colorbar": {
              "outlinewidth": 0,
              "ticks": ""
             }
            },
            "type": "scatter3d"
           }
          ],
          "scattercarpet": [
           {
            "marker": {
             "colorbar": {
              "outlinewidth": 0,
              "ticks": ""
             }
            },
            "type": "scattercarpet"
           }
          ],
          "scattergeo": [
           {
            "marker": {
             "colorbar": {
              "outlinewidth": 0,
              "ticks": ""
             }
            },
            "type": "scattergeo"
           }
          ],
          "scattergl": [
           {
            "marker": {
             "colorbar": {
              "outlinewidth": 0,
              "ticks": ""
             }
            },
            "type": "scattergl"
           }
          ],
          "scattermapbox": [
           {
            "marker": {
             "colorbar": {
              "outlinewidth": 0,
              "ticks": ""
             }
            },
            "type": "scattermapbox"
           }
          ],
          "scatterpolar": [
           {
            "marker": {
             "colorbar": {
              "outlinewidth": 0,
              "ticks": ""
             }
            },
            "type": "scatterpolar"
           }
          ],
          "scatterpolargl": [
           {
            "marker": {
             "colorbar": {
              "outlinewidth": 0,
              "ticks": ""
             }
            },
            "type": "scatterpolargl"
           }
          ],
          "scatterternary": [
           {
            "marker": {
             "colorbar": {
              "outlinewidth": 0,
              "ticks": ""
             }
            },
            "type": "scatterternary"
           }
          ],
          "surface": [
           {
            "colorbar": {
             "outlinewidth": 0,
             "ticks": ""
            },
            "colorscale": [
             [
              0,
              "#0d0887"
             ],
             [
              0.1111111111111111,
              "#46039f"
             ],
             [
              0.2222222222222222,
              "#7201a8"
             ],
             [
              0.3333333333333333,
              "#9c179e"
             ],
             [
              0.4444444444444444,
              "#bd3786"
             ],
             [
              0.5555555555555556,
              "#d8576b"
             ],
             [
              0.6666666666666666,
              "#ed7953"
             ],
             [
              0.7777777777777778,
              "#fb9f3a"
             ],
             [
              0.8888888888888888,
              "#fdca26"
             ],
             [
              1,
              "#f0f921"
             ]
            ],
            "type": "surface"
           }
          ],
          "table": [
           {
            "cells": {
             "fill": {
              "color": "#EBF0F8"
             },
             "line": {
              "color": "white"
             }
            },
            "header": {
             "fill": {
              "color": "#C8D4E3"
             },
             "line": {
              "color": "white"
             }
            },
            "type": "table"
           }
          ]
         },
         "layout": {
          "annotationdefaults": {
           "arrowcolor": "#2a3f5f",
           "arrowhead": 0,
           "arrowwidth": 1
          },
          "autotypenumbers": "strict",
          "coloraxis": {
           "colorbar": {
            "outlinewidth": 0,
            "ticks": ""
           }
          },
          "colorscale": {
           "diverging": [
            [
             0,
             "#8e0152"
            ],
            [
             0.1,
             "#c51b7d"
            ],
            [
             0.2,
             "#de77ae"
            ],
            [
             0.3,
             "#f1b6da"
            ],
            [
             0.4,
             "#fde0ef"
            ],
            [
             0.5,
             "#f7f7f7"
            ],
            [
             0.6,
             "#e6f5d0"
            ],
            [
             0.7,
             "#b8e186"
            ],
            [
             0.8,
             "#7fbc41"
            ],
            [
             0.9,
             "#4d9221"
            ],
            [
             1,
             "#276419"
            ]
           ],
           "sequential": [
            [
             0,
             "#0d0887"
            ],
            [
             0.1111111111111111,
             "#46039f"
            ],
            [
             0.2222222222222222,
             "#7201a8"
            ],
            [
             0.3333333333333333,
             "#9c179e"
            ],
            [
             0.4444444444444444,
             "#bd3786"
            ],
            [
             0.5555555555555556,
             "#d8576b"
            ],
            [
             0.6666666666666666,
             "#ed7953"
            ],
            [
             0.7777777777777778,
             "#fb9f3a"
            ],
            [
             0.8888888888888888,
             "#fdca26"
            ],
            [
             1,
             "#f0f921"
            ]
           ],
           "sequentialminus": [
            [
             0,
             "#0d0887"
            ],
            [
             0.1111111111111111,
             "#46039f"
            ],
            [
             0.2222222222222222,
             "#7201a8"
            ],
            [
             0.3333333333333333,
             "#9c179e"
            ],
            [
             0.4444444444444444,
             "#bd3786"
            ],
            [
             0.5555555555555556,
             "#d8576b"
            ],
            [
             0.6666666666666666,
             "#ed7953"
            ],
            [
             0.7777777777777778,
             "#fb9f3a"
            ],
            [
             0.8888888888888888,
             "#fdca26"
            ],
            [
             1,
             "#f0f921"
            ]
           ]
          },
          "colorway": [
           "#636efa",
           "#EF553B",
           "#00cc96",
           "#ab63fa",
           "#FFA15A",
           "#19d3f3",
           "#FF6692",
           "#B6E880",
           "#FF97FF",
           "#FECB52"
          ],
          "font": {
           "color": "#2a3f5f"
          },
          "geo": {
           "bgcolor": "white",
           "lakecolor": "white",
           "landcolor": "#E5ECF6",
           "showlakes": true,
           "showland": true,
           "subunitcolor": "white"
          },
          "hoverlabel": {
           "align": "left"
          },
          "hovermode": "closest",
          "mapbox": {
           "style": "light"
          },
          "paper_bgcolor": "white",
          "plot_bgcolor": "#E5ECF6",
          "polar": {
           "angularaxis": {
            "gridcolor": "white",
            "linecolor": "white",
            "ticks": ""
           },
           "bgcolor": "#E5ECF6",
           "radialaxis": {
            "gridcolor": "white",
            "linecolor": "white",
            "ticks": ""
           }
          },
          "scene": {
           "xaxis": {
            "backgroundcolor": "#E5ECF6",
            "gridcolor": "white",
            "gridwidth": 2,
            "linecolor": "white",
            "showbackground": true,
            "ticks": "",
            "zerolinecolor": "white"
           },
           "yaxis": {
            "backgroundcolor": "#E5ECF6",
            "gridcolor": "white",
            "gridwidth": 2,
            "linecolor": "white",
            "showbackground": true,
            "ticks": "",
            "zerolinecolor": "white"
           },
           "zaxis": {
            "backgroundcolor": "#E5ECF6",
            "gridcolor": "white",
            "gridwidth": 2,
            "linecolor": "white",
            "showbackground": true,
            "ticks": "",
            "zerolinecolor": "white"
           }
          },
          "shapedefaults": {
           "line": {
            "color": "#2a3f5f"
           }
          },
          "ternary": {
           "aaxis": {
            "gridcolor": "white",
            "linecolor": "white",
            "ticks": ""
           },
           "baxis": {
            "gridcolor": "white",
            "linecolor": "white",
            "ticks": ""
           },
           "bgcolor": "#E5ECF6",
           "caxis": {
            "gridcolor": "white",
            "linecolor": "white",
            "ticks": ""
           }
          },
          "title": {
           "x": 0.05
          },
          "xaxis": {
           "automargin": true,
           "gridcolor": "white",
           "linecolor": "white",
           "ticks": "",
           "title": {
            "standoff": 15
           },
           "zerolinecolor": "white",
           "zerolinewidth": 2
          },
          "yaxis": {
           "automargin": true,
           "gridcolor": "white",
           "linecolor": "white",
           "ticks": "",
           "title": {
            "standoff": 15
           },
           "zerolinecolor": "white",
           "zerolinewidth": 2
          }
         }
        },
        "title": {
         "text": "Scores F1 pour chaque archive"
        },
        "width": 1000,
        "xaxis": {
         "tickfont": {
          "size": 14
         }
        },
        "yaxis": {
         "dtick": 0.1,
         "range": [
          0.6,
          1.05
         ],
         "tick0": 0,
         "tickcolor": "rgb(0,0,0)",
         "tickfont": {
          "size": 14
         },
         "ticklen": 10,
         "tickwidth": 1.5,
         "title": {
          "font": {
           "size": 16
          },
          "text": "F1"
         }
        }
       }
      }
     },
     "metadata": {},
     "output_type": "display_data"
    },
    {
     "data": {
      "application/vnd.plotly.v1+json": {
       "config": {
        "plotlyServerURL": "https://plot.ly"
       },
       "data": [
        {
         "marker": {
          "color": "blue"
         },
         "name": "F1 relaché",
         "opacity": 0.5,
         "type": "bar",
         "x": [
          "PER",
          "LOC",
          "DATE",
          "JOB",
          "MERE_MARIEE",
          "PERE_MARIEE",
          "EX_EPOUX",
          "PERE_MARI",
          "MERE_MARI",
          "ADMIN",
          "MARIEE",
          "MARI",
          "TEMOIN"
         ],
         "y": [
          0.9828220027568922,
          0.9439610733976669,
          1,
          0.9970674486803519,
          0.9774241084585913,
          0.9508602508602509,
          1,
          0.9415554683411828,
          0.9121573828470381,
          1,
          0.9911294352823589,
          0.9960703408979271,
          0.9824366856975553
         ]
        },
        {
         "marker": {
          "color": "red"
         },
         "name": "F1 strict",
         "opacity": 0.5,
         "type": "bar",
         "x": [
          "PER",
          "LOC",
          "DATE",
          "JOB",
          "MERE_MARIEE",
          "PERE_MARIEE",
          "EX_EPOUX",
          "PERE_MARI",
          "MERE_MARI",
          "ADMIN",
          "MARIEE",
          "MARI",
          "TEMOIN"
         ],
         "y": [
          0.9113975249394749,
          0.8438210101248212,
          0.9561128526645769,
          0.8875820416142999,
          0.9020588606795504,
          0.8803159803159804,
          0.9285714285714286,
          0.8689931100645388,
          0.8380494505494506,
          0.9327956989247311,
          0.9069356929926646,
          0.8724715897129691,
          0.9317460505141664
         ]
        },
        {
         "line": {
          "dash": "dash",
          "width": 2
         },
         "marker": {
          "color": "blue"
         },
         "mode": "lines",
         "name": "F1 relaché moyen",
         "type": "scatter",
         "x": [
          "PER",
          "LOC",
          "DATE",
          "JOB",
          "MERE_MARIEE",
          "PERE_MARIEE",
          "EX_EPOUX",
          "PERE_MARI",
          "MERE_MARI",
          "ADMIN",
          "MARIEE",
          "MARI",
          "TEMOIN"
         ],
         "y": [
          0.9750372459399858,
          0.9750372459399858,
          0.9750372459399858,
          0.9750372459399858,
          0.9750372459399858,
          0.9750372459399858,
          0.9750372459399858,
          0.9750372459399858,
          0.9750372459399858,
          0.9750372459399858,
          0.9750372459399858,
          0.9750372459399858,
          0.9750372459399858
         ]
        },
        {
         "line": {
          "dash": "dash",
          "width": 2
         },
         "marker": {
          "color": "red"
         },
         "mode": "lines",
         "name": "F1 strict moyen",
         "type": "scatter",
         "x": [
          "PER",
          "LOC",
          "DATE",
          "JOB",
          "MERE_MARIEE",
          "PERE_MARIEE",
          "EX_EPOUX",
          "PERE_MARI",
          "MERE_MARI",
          "ADMIN",
          "MARIEE",
          "MARI",
          "TEMOIN"
         ],
         "y": [
          0.8969885608975887,
          0.8969885608975887,
          0.8969885608975887,
          0.8969885608975887,
          0.8969885608975887,
          0.8969885608975887,
          0.8969885608975887,
          0.8969885608975887,
          0.8969885608975887,
          0.8969885608975887,
          0.8969885608975887,
          0.8969885608975887,
          0.8969885608975887
         ]
        }
       ],
       "layout": {
        "autosize": false,
        "bargap": 0.15,
        "bargroupgap": 0.1,
        "barmode": "group",
        "height": 500,
        "legend": {
         "bgcolor": "rgba(255, 255, 255, 0)",
         "bordercolor": "rgba(255, 255, 255, 0)",
         "x": 1,
         "y": 1
        },
        "shapes": [
         {
          "line": {
           "color": "rgba(0,0,0, 0.5)",
           "width": 1
          },
          "type": "line",
          "x0": -1,
          "x1": 13,
          "y0": 0.6,
          "y1": 0.6
         },
         {
          "line": {
           "color": "rgba(0,0,0, 0.25)",
           "width": 0.5
          },
          "type": "line",
          "x0": -1,
          "x1": 13,
          "y0": 0.61,
          "y1": 0.61
         },
         {
          "line": {
           "color": "rgba(0,0,0, 0.25)",
           "width": 0.5
          },
          "type": "line",
          "x0": -1,
          "x1": 13,
          "y0": 0.62,
          "y1": 0.62
         },
         {
          "line": {
           "color": "rgba(0,0,0, 0.25)",
           "width": 0.5
          },
          "type": "line",
          "x0": -1,
          "x1": 13,
          "y0": 0.63,
          "y1": 0.63
         },
         {
          "line": {
           "color": "rgba(0,0,0, 0.25)",
           "width": 0.5
          },
          "type": "line",
          "x0": -1,
          "x1": 13,
          "y0": 0.64,
          "y1": 0.64
         },
         {
          "line": {
           "color": "rgba(0,0,0, 0.25)",
           "width": 0.5
          },
          "type": "line",
          "x0": -1,
          "x1": 13,
          "y0": 0.65,
          "y1": 0.65
         },
         {
          "line": {
           "color": "rgba(0,0,0, 0.25)",
           "width": 0.5
          },
          "type": "line",
          "x0": -1,
          "x1": 13,
          "y0": 0.66,
          "y1": 0.66
         },
         {
          "line": {
           "color": "rgba(0,0,0, 0.25)",
           "width": 0.5
          },
          "type": "line",
          "x0": -1,
          "x1": 13,
          "y0": 0.67,
          "y1": 0.67
         },
         {
          "line": {
           "color": "rgba(0,0,0, 0.25)",
           "width": 0.5
          },
          "type": "line",
          "x0": -1,
          "x1": 13,
          "y0": 0.68,
          "y1": 0.68
         },
         {
          "line": {
           "color": "rgba(0,0,0, 0.25)",
           "width": 0.5
          },
          "type": "line",
          "x0": -1,
          "x1": 13,
          "y0": 0.6900000000000001,
          "y1": 0.6900000000000001
         },
         {
          "line": {
           "color": "rgba(0,0,0, 0.5)",
           "width": 1
          },
          "type": "line",
          "x0": -1,
          "x1": 13,
          "y0": 0.7000000000000001,
          "y1": 0.7000000000000001
         },
         {
          "line": {
           "color": "rgba(0,0,0, 0.25)",
           "width": 0.5
          },
          "type": "line",
          "x0": -1,
          "x1": 13,
          "y0": 0.71,
          "y1": 0.71
         },
         {
          "line": {
           "color": "rgba(0,0,0, 0.25)",
           "width": 0.5
          },
          "type": "line",
          "x0": -1,
          "x1": 13,
          "y0": 0.72,
          "y1": 0.72
         },
         {
          "line": {
           "color": "rgba(0,0,0, 0.25)",
           "width": 0.5
          },
          "type": "line",
          "x0": -1,
          "x1": 13,
          "y0": 0.73,
          "y1": 0.73
         },
         {
          "line": {
           "color": "rgba(0,0,0, 0.25)",
           "width": 0.5
          },
          "type": "line",
          "x0": -1,
          "x1": 13,
          "y0": 0.74,
          "y1": 0.74
         },
         {
          "line": {
           "color": "rgba(0,0,0, 0.25)",
           "width": 0.5
          },
          "type": "line",
          "x0": -1,
          "x1": 13,
          "y0": 0.75,
          "y1": 0.75
         },
         {
          "line": {
           "color": "rgba(0,0,0, 0.25)",
           "width": 0.5
          },
          "type": "line",
          "x0": -1,
          "x1": 13,
          "y0": 0.76,
          "y1": 0.76
         },
         {
          "line": {
           "color": "rgba(0,0,0, 0.25)",
           "width": 0.5
          },
          "type": "line",
          "x0": -1,
          "x1": 13,
          "y0": 0.77,
          "y1": 0.77
         },
         {
          "line": {
           "color": "rgba(0,0,0, 0.25)",
           "width": 0.5
          },
          "type": "line",
          "x0": -1,
          "x1": 13,
          "y0": 0.78,
          "y1": 0.78
         },
         {
          "line": {
           "color": "rgba(0,0,0, 0.25)",
           "width": 0.5
          },
          "type": "line",
          "x0": -1,
          "x1": 13,
          "y0": 0.79,
          "y1": 0.79
         },
         {
          "line": {
           "color": "rgba(0,0,0, 0.5)",
           "width": 1
          },
          "type": "line",
          "x0": -1,
          "x1": 13,
          "y0": 0.8,
          "y1": 0.8
         },
         {
          "line": {
           "color": "rgba(0,0,0, 0.25)",
           "width": 0.5
          },
          "type": "line",
          "x0": -1,
          "x1": 13,
          "y0": 0.81,
          "y1": 0.81
         },
         {
          "line": {
           "color": "rgba(0,0,0, 0.25)",
           "width": 0.5
          },
          "type": "line",
          "x0": -1,
          "x1": 13,
          "y0": 0.8200000000000001,
          "y1": 0.8200000000000001
         },
         {
          "line": {
           "color": "rgba(0,0,0, 0.25)",
           "width": 0.5
          },
          "type": "line",
          "x0": -1,
          "x1": 13,
          "y0": 0.8300000000000001,
          "y1": 0.8300000000000001
         },
         {
          "line": {
           "color": "rgba(0,0,0, 0.25)",
           "width": 0.5
          },
          "type": "line",
          "x0": -1,
          "x1": 13,
          "y0": 0.84,
          "y1": 0.84
         },
         {
          "line": {
           "color": "rgba(0,0,0, 0.25)",
           "width": 0.5
          },
          "type": "line",
          "x0": -1,
          "x1": 13,
          "y0": 0.85,
          "y1": 0.85
         },
         {
          "line": {
           "color": "rgba(0,0,0, 0.25)",
           "width": 0.5
          },
          "type": "line",
          "x0": -1,
          "x1": 13,
          "y0": 0.86,
          "y1": 0.86
         },
         {
          "line": {
           "color": "rgba(0,0,0, 0.25)",
           "width": 0.5
          },
          "type": "line",
          "x0": -1,
          "x1": 13,
          "y0": 0.87,
          "y1": 0.87
         },
         {
          "line": {
           "color": "rgba(0,0,0, 0.25)",
           "width": 0.5
          },
          "type": "line",
          "x0": -1,
          "x1": 13,
          "y0": 0.88,
          "y1": 0.88
         },
         {
          "line": {
           "color": "rgba(0,0,0, 0.25)",
           "width": 0.5
          },
          "type": "line",
          "x0": -1,
          "x1": 13,
          "y0": 0.89,
          "y1": 0.89
         },
         {
          "line": {
           "color": "rgba(0,0,0, 0.5)",
           "width": 1
          },
          "type": "line",
          "x0": -1,
          "x1": 13,
          "y0": 0.9,
          "y1": 0.9
         },
         {
          "line": {
           "color": "rgba(0,0,0, 0.25)",
           "width": 0.5
          },
          "type": "line",
          "x0": -1,
          "x1": 13,
          "y0": 0.91,
          "y1": 0.91
         },
         {
          "line": {
           "color": "rgba(0,0,0, 0.25)",
           "width": 0.5
          },
          "type": "line",
          "x0": -1,
          "x1": 13,
          "y0": 0.92,
          "y1": 0.92
         },
         {
          "line": {
           "color": "rgba(0,0,0, 0.25)",
           "width": 0.5
          },
          "type": "line",
          "x0": -1,
          "x1": 13,
          "y0": 0.93,
          "y1": 0.93
         },
         {
          "line": {
           "color": "rgba(0,0,0, 0.25)",
           "width": 0.5
          },
          "type": "line",
          "x0": -1,
          "x1": 13,
          "y0": 0.9400000000000001,
          "y1": 0.9400000000000001
         },
         {
          "line": {
           "color": "rgba(0,0,0, 0.25)",
           "width": 0.5
          },
          "type": "line",
          "x0": -1,
          "x1": 13,
          "y0": 0.9500000000000001,
          "y1": 0.9500000000000001
         },
         {
          "line": {
           "color": "rgba(0,0,0, 0.25)",
           "width": 0.5
          },
          "type": "line",
          "x0": -1,
          "x1": 13,
          "y0": 0.96,
          "y1": 0.96
         },
         {
          "line": {
           "color": "rgba(0,0,0, 0.25)",
           "width": 0.5
          },
          "type": "line",
          "x0": -1,
          "x1": 13,
          "y0": 0.97,
          "y1": 0.97
         },
         {
          "line": {
           "color": "rgba(0,0,0, 0.25)",
           "width": 0.5
          },
          "type": "line",
          "x0": -1,
          "x1": 13,
          "y0": 0.98,
          "y1": 0.98
         },
         {
          "line": {
           "color": "rgba(0,0,0, 0.25)",
           "width": 0.5
          },
          "type": "line",
          "x0": -1,
          "x1": 13,
          "y0": 0.99,
          "y1": 0.99
         },
         {
          "line": {
           "color": "rgba(0,0,0, 0.5)",
           "width": 1
          },
          "type": "line",
          "x0": -1,
          "x1": 13,
          "y0": 1,
          "y1": 1
         }
        ],
        "template": {
         "data": {
          "bar": [
           {
            "error_x": {
             "color": "#2a3f5f"
            },
            "error_y": {
             "color": "#2a3f5f"
            },
            "marker": {
             "line": {
              "color": "#E5ECF6",
              "width": 0.5
             },
             "pattern": {
              "fillmode": "overlay",
              "size": 10,
              "solidity": 0.2
             }
            },
            "type": "bar"
           }
          ],
          "barpolar": [
           {
            "marker": {
             "line": {
              "color": "#E5ECF6",
              "width": 0.5
             },
             "pattern": {
              "fillmode": "overlay",
              "size": 10,
              "solidity": 0.2
             }
            },
            "type": "barpolar"
           }
          ],
          "carpet": [
           {
            "aaxis": {
             "endlinecolor": "#2a3f5f",
             "gridcolor": "white",
             "linecolor": "white",
             "minorgridcolor": "white",
             "startlinecolor": "#2a3f5f"
            },
            "baxis": {
             "endlinecolor": "#2a3f5f",
             "gridcolor": "white",
             "linecolor": "white",
             "minorgridcolor": "white",
             "startlinecolor": "#2a3f5f"
            },
            "type": "carpet"
           }
          ],
          "choropleth": [
           {
            "colorbar": {
             "outlinewidth": 0,
             "ticks": ""
            },
            "type": "choropleth"
           }
          ],
          "contour": [
           {
            "colorbar": {
             "outlinewidth": 0,
             "ticks": ""
            },
            "colorscale": [
             [
              0,
              "#0d0887"
             ],
             [
              0.1111111111111111,
              "#46039f"
             ],
             [
              0.2222222222222222,
              "#7201a8"
             ],
             [
              0.3333333333333333,
              "#9c179e"
             ],
             [
              0.4444444444444444,
              "#bd3786"
             ],
             [
              0.5555555555555556,
              "#d8576b"
             ],
             [
              0.6666666666666666,
              "#ed7953"
             ],
             [
              0.7777777777777778,
              "#fb9f3a"
             ],
             [
              0.8888888888888888,
              "#fdca26"
             ],
             [
              1,
              "#f0f921"
             ]
            ],
            "type": "contour"
           }
          ],
          "contourcarpet": [
           {
            "colorbar": {
             "outlinewidth": 0,
             "ticks": ""
            },
            "type": "contourcarpet"
           }
          ],
          "heatmap": [
           {
            "colorbar": {
             "outlinewidth": 0,
             "ticks": ""
            },
            "colorscale": [
             [
              0,
              "#0d0887"
             ],
             [
              0.1111111111111111,
              "#46039f"
             ],
             [
              0.2222222222222222,
              "#7201a8"
             ],
             [
              0.3333333333333333,
              "#9c179e"
             ],
             [
              0.4444444444444444,
              "#bd3786"
             ],
             [
              0.5555555555555556,
              "#d8576b"
             ],
             [
              0.6666666666666666,
              "#ed7953"
             ],
             [
              0.7777777777777778,
              "#fb9f3a"
             ],
             [
              0.8888888888888888,
              "#fdca26"
             ],
             [
              1,
              "#f0f921"
             ]
            ],
            "type": "heatmap"
           }
          ],
          "heatmapgl": [
           {
            "colorbar": {
             "outlinewidth": 0,
             "ticks": ""
            },
            "colorscale": [
             [
              0,
              "#0d0887"
             ],
             [
              0.1111111111111111,
              "#46039f"
             ],
             [
              0.2222222222222222,
              "#7201a8"
             ],
             [
              0.3333333333333333,
              "#9c179e"
             ],
             [
              0.4444444444444444,
              "#bd3786"
             ],
             [
              0.5555555555555556,
              "#d8576b"
             ],
             [
              0.6666666666666666,
              "#ed7953"
             ],
             [
              0.7777777777777778,
              "#fb9f3a"
             ],
             [
              0.8888888888888888,
              "#fdca26"
             ],
             [
              1,
              "#f0f921"
             ]
            ],
            "type": "heatmapgl"
           }
          ],
          "histogram": [
           {
            "marker": {
             "pattern": {
              "fillmode": "overlay",
              "size": 10,
              "solidity": 0.2
             }
            },
            "type": "histogram"
           }
          ],
          "histogram2d": [
           {
            "colorbar": {
             "outlinewidth": 0,
             "ticks": ""
            },
            "colorscale": [
             [
              0,
              "#0d0887"
             ],
             [
              0.1111111111111111,
              "#46039f"
             ],
             [
              0.2222222222222222,
              "#7201a8"
             ],
             [
              0.3333333333333333,
              "#9c179e"
             ],
             [
              0.4444444444444444,
              "#bd3786"
             ],
             [
              0.5555555555555556,
              "#d8576b"
             ],
             [
              0.6666666666666666,
              "#ed7953"
             ],
             [
              0.7777777777777778,
              "#fb9f3a"
             ],
             [
              0.8888888888888888,
              "#fdca26"
             ],
             [
              1,
              "#f0f921"
             ]
            ],
            "type": "histogram2d"
           }
          ],
          "histogram2dcontour": [
           {
            "colorbar": {
             "outlinewidth": 0,
             "ticks": ""
            },
            "colorscale": [
             [
              0,
              "#0d0887"
             ],
             [
              0.1111111111111111,
              "#46039f"
             ],
             [
              0.2222222222222222,
              "#7201a8"
             ],
             [
              0.3333333333333333,
              "#9c179e"
             ],
             [
              0.4444444444444444,
              "#bd3786"
             ],
             [
              0.5555555555555556,
              "#d8576b"
             ],
             [
              0.6666666666666666,
              "#ed7953"
             ],
             [
              0.7777777777777778,
              "#fb9f3a"
             ],
             [
              0.8888888888888888,
              "#fdca26"
             ],
             [
              1,
              "#f0f921"
             ]
            ],
            "type": "histogram2dcontour"
           }
          ],
          "mesh3d": [
           {
            "colorbar": {
             "outlinewidth": 0,
             "ticks": ""
            },
            "type": "mesh3d"
           }
          ],
          "parcoords": [
           {
            "line": {
             "colorbar": {
              "outlinewidth": 0,
              "ticks": ""
             }
            },
            "type": "parcoords"
           }
          ],
          "pie": [
           {
            "automargin": true,
            "type": "pie"
           }
          ],
          "scatter": [
           {
            "fillpattern": {
             "fillmode": "overlay",
             "size": 10,
             "solidity": 0.2
            },
            "type": "scatter"
           }
          ],
          "scatter3d": [
           {
            "line": {
             "colorbar": {
              "outlinewidth": 0,
              "ticks": ""
             }
            },
            "marker": {
             "colorbar": {
              "outlinewidth": 0,
              "ticks": ""
             }
            },
            "type": "scatter3d"
           }
          ],
          "scattercarpet": [
           {
            "marker": {
             "colorbar": {
              "outlinewidth": 0,
              "ticks": ""
             }
            },
            "type": "scattercarpet"
           }
          ],
          "scattergeo": [
           {
            "marker": {
             "colorbar": {
              "outlinewidth": 0,
              "ticks": ""
             }
            },
            "type": "scattergeo"
           }
          ],
          "scattergl": [
           {
            "marker": {
             "colorbar": {
              "outlinewidth": 0,
              "ticks": ""
             }
            },
            "type": "scattergl"
           }
          ],
          "scattermapbox": [
           {
            "marker": {
             "colorbar": {
              "outlinewidth": 0,
              "ticks": ""
             }
            },
            "type": "scattermapbox"
           }
          ],
          "scatterpolar": [
           {
            "marker": {
             "colorbar": {
              "outlinewidth": 0,
              "ticks": ""
             }
            },
            "type": "scatterpolar"
           }
          ],
          "scatterpolargl": [
           {
            "marker": {
             "colorbar": {
              "outlinewidth": 0,
              "ticks": ""
             }
            },
            "type": "scatterpolargl"
           }
          ],
          "scatterternary": [
           {
            "marker": {
             "colorbar": {
              "outlinewidth": 0,
              "ticks": ""
             }
            },
            "type": "scatterternary"
           }
          ],
          "surface": [
           {
            "colorbar": {
             "outlinewidth": 0,
             "ticks": ""
            },
            "colorscale": [
             [
              0,
              "#0d0887"
             ],
             [
              0.1111111111111111,
              "#46039f"
             ],
             [
              0.2222222222222222,
              "#7201a8"
             ],
             [
              0.3333333333333333,
              "#9c179e"
             ],
             [
              0.4444444444444444,
              "#bd3786"
             ],
             [
              0.5555555555555556,
              "#d8576b"
             ],
             [
              0.6666666666666666,
              "#ed7953"
             ],
             [
              0.7777777777777778,
              "#fb9f3a"
             ],
             [
              0.8888888888888888,
              "#fdca26"
             ],
             [
              1,
              "#f0f921"
             ]
            ],
            "type": "surface"
           }
          ],
          "table": [
           {
            "cells": {
             "fill": {
              "color": "#EBF0F8"
             },
             "line": {
              "color": "white"
             }
            },
            "header": {
             "fill": {
              "color": "#C8D4E3"
             },
             "line": {
              "color": "white"
             }
            },
            "type": "table"
           }
          ]
         },
         "layout": {
          "annotationdefaults": {
           "arrowcolor": "#2a3f5f",
           "arrowhead": 0,
           "arrowwidth": 1
          },
          "autotypenumbers": "strict",
          "coloraxis": {
           "colorbar": {
            "outlinewidth": 0,
            "ticks": ""
           }
          },
          "colorscale": {
           "diverging": [
            [
             0,
             "#8e0152"
            ],
            [
             0.1,
             "#c51b7d"
            ],
            [
             0.2,
             "#de77ae"
            ],
            [
             0.3,
             "#f1b6da"
            ],
            [
             0.4,
             "#fde0ef"
            ],
            [
             0.5,
             "#f7f7f7"
            ],
            [
             0.6,
             "#e6f5d0"
            ],
            [
             0.7,
             "#b8e186"
            ],
            [
             0.8,
             "#7fbc41"
            ],
            [
             0.9,
             "#4d9221"
            ],
            [
             1,
             "#276419"
            ]
           ],
           "sequential": [
            [
             0,
             "#0d0887"
            ],
            [
             0.1111111111111111,
             "#46039f"
            ],
            [
             0.2222222222222222,
             "#7201a8"
            ],
            [
             0.3333333333333333,
             "#9c179e"
            ],
            [
             0.4444444444444444,
             "#bd3786"
            ],
            [
             0.5555555555555556,
             "#d8576b"
            ],
            [
             0.6666666666666666,
             "#ed7953"
            ],
            [
             0.7777777777777778,
             "#fb9f3a"
            ],
            [
             0.8888888888888888,
             "#fdca26"
            ],
            [
             1,
             "#f0f921"
            ]
           ],
           "sequentialminus": [
            [
             0,
             "#0d0887"
            ],
            [
             0.1111111111111111,
             "#46039f"
            ],
            [
             0.2222222222222222,
             "#7201a8"
            ],
            [
             0.3333333333333333,
             "#9c179e"
            ],
            [
             0.4444444444444444,
             "#bd3786"
            ],
            [
             0.5555555555555556,
             "#d8576b"
            ],
            [
             0.6666666666666666,
             "#ed7953"
            ],
            [
             0.7777777777777778,
             "#fb9f3a"
            ],
            [
             0.8888888888888888,
             "#fdca26"
            ],
            [
             1,
             "#f0f921"
            ]
           ]
          },
          "colorway": [
           "#636efa",
           "#EF553B",
           "#00cc96",
           "#ab63fa",
           "#FFA15A",
           "#19d3f3",
           "#FF6692",
           "#B6E880",
           "#FF97FF",
           "#FECB52"
          ],
          "font": {
           "color": "#2a3f5f"
          },
          "geo": {
           "bgcolor": "white",
           "lakecolor": "white",
           "landcolor": "#E5ECF6",
           "showlakes": true,
           "showland": true,
           "subunitcolor": "white"
          },
          "hoverlabel": {
           "align": "left"
          },
          "hovermode": "closest",
          "mapbox": {
           "style": "light"
          },
          "paper_bgcolor": "white",
          "plot_bgcolor": "#E5ECF6",
          "polar": {
           "angularaxis": {
            "gridcolor": "white",
            "linecolor": "white",
            "ticks": ""
           },
           "bgcolor": "#E5ECF6",
           "radialaxis": {
            "gridcolor": "white",
            "linecolor": "white",
            "ticks": ""
           }
          },
          "scene": {
           "xaxis": {
            "backgroundcolor": "#E5ECF6",
            "gridcolor": "white",
            "gridwidth": 2,
            "linecolor": "white",
            "showbackground": true,
            "ticks": "",
            "zerolinecolor": "white"
           },
           "yaxis": {
            "backgroundcolor": "#E5ECF6",
            "gridcolor": "white",
            "gridwidth": 2,
            "linecolor": "white",
            "showbackground": true,
            "ticks": "",
            "zerolinecolor": "white"
           },
           "zaxis": {
            "backgroundcolor": "#E5ECF6",
            "gridcolor": "white",
            "gridwidth": 2,
            "linecolor": "white",
            "showbackground": true,
            "ticks": "",
            "zerolinecolor": "white"
           }
          },
          "shapedefaults": {
           "line": {
            "color": "#2a3f5f"
           }
          },
          "ternary": {
           "aaxis": {
            "gridcolor": "white",
            "linecolor": "white",
            "ticks": ""
           },
           "baxis": {
            "gridcolor": "white",
            "linecolor": "white",
            "ticks": ""
           },
           "bgcolor": "#E5ECF6",
           "caxis": {
            "gridcolor": "white",
            "linecolor": "white",
            "ticks": ""
           }
          },
          "title": {
           "x": 0.05
          },
          "xaxis": {
           "automargin": true,
           "gridcolor": "white",
           "linecolor": "white",
           "ticks": "",
           "title": {
            "standoff": 15
           },
           "zerolinecolor": "white",
           "zerolinewidth": 2
          },
          "yaxis": {
           "automargin": true,
           "gridcolor": "white",
           "linecolor": "white",
           "ticks": "",
           "title": {
            "standoff": 15
           },
           "zerolinecolor": "white",
           "zerolinewidth": 2
          }
         }
        },
        "title": {
         "text": "Moyenne des scores F1 par catégorie"
        },
        "width": 1000,
        "xaxis": {
         "tickfont": {
          "size": 14
         }
        },
        "yaxis": {
         "dtick": 0.1,
         "range": [
          0.6,
          1.05
         ],
         "tick0": 0,
         "tickcolor": "rgb(0,0,0)",
         "tickfont": {
          "size": 14
         },
         "ticklen": 10,
         "tickwidth": 1.5,
         "title": {
          "font": {
           "size": 16
          },
          "text": "score F1"
         }
        }
       }
      }
     },
     "metadata": {},
     "output_type": "display_data"
    },
    {
     "data": {
      "application/vnd.plotly.v1+json": {
       "config": {
        "plotlyServerURL": "https://plot.ly"
       },
       "data": [
        {
         "marker": {
          "color": "rgba(255, 255, 0, 0.5)"
         },
         "name": "DATE",
         "type": "bar",
         "width": 0.05,
         "x": [
          "ADMIN",
          "EX_EPOUX",
          "MARI",
          "MARIEE",
          "MERE_MARI",
          "MERE_MARIEE",
          "PERE_MARI",
          "PERE_MARIEE",
          "TEMOIN"
         ],
         "y": [
          1,
          0,
          1,
          1,
          0,
          0,
          0,
          0,
          0
         ]
        },
        {
         "marker": {
          "color": "rgba(255, 0, 0, 0.5)"
         },
         "name": "JOB",
         "type": "bar",
         "width": 0.05,
         "x": [
          "ADMIN",
          "EX_EPOUX",
          "MARI",
          "MARIEE",
          "MERE_MARI",
          "MERE_MARIEE",
          "PERE_MARI",
          "PERE_MARIEE",
          "TEMOIN"
         ],
         "y": [
          0,
          0,
          1,
          1,
          1,
          1,
          1,
          1,
          0.9915966386554621
         ]
        },
        {
         "marker": {
          "color": "rgba(0, 255, 0, 0.5)"
         },
         "name": "LOC",
         "type": "bar",
         "width": 0.05,
         "x": [
          "ADMIN",
          "EX_EPOUX",
          "MARI",
          "MARIEE",
          "MERE_MARI",
          "MERE_MARIEE",
          "PERE_MARI",
          "PERE_MARIEE",
          "TEMOIN"
         ],
         "y": [
          1,
          0,
          0.9885057471264368,
          0.9872340425531915,
          0.7000000000000001,
          0.925,
          0.6111111111111112,
          0.835820895522388,
          0.9688581314878892
         ]
        },
        {
         "marker": {
          "color": "rgba(0, 0, 255, 0.5)"
         },
         "name": "PER",
         "type": "bar",
         "width": 0.05,
         "x": [
          "ADMIN",
          "EX_EPOUX",
          "MARI",
          "MARIEE",
          "MERE_MARI",
          "MERE_MARIEE",
          "PERE_MARI",
          "PERE_MARIEE",
          "TEMOIN"
         ],
         "y": [
          1,
          1,
          1,
          0.9867841409691629,
          0.9767441860465117,
          0.9925925925925926,
          1,
          0.9767441860465116,
          0.9693593314763231
         ]
        }
       ],
       "layout": {
        "autosize": false,
        "bargap": 0.3,
        "bargroupgap": 0.3,
        "barmode": "group",
        "height": 500,
        "legend": {
         "bgcolor": "rgba(255, 255, 255, 0)",
         "bordercolor": "rgba(255, 255, 255, 0)",
         "x": 1,
         "y": 1
        },
        "shapes": [
         {
          "line": {
           "color": "rgba(0,0,0, 0.5)",
           "width": 1
          },
          "type": "line",
          "x0": -1,
          "x1": 9,
          "y0": 0.5,
          "y1": 0.5
         },
         {
          "line": {
           "color": "rgba(0,0,0, 0.25)",
           "width": 0.5
          },
          "type": "line",
          "x0": -1,
          "x1": 9,
          "y0": 0.51,
          "y1": 0.51
         },
         {
          "line": {
           "color": "rgba(0,0,0, 0.25)",
           "width": 0.5
          },
          "type": "line",
          "x0": -1,
          "x1": 9,
          "y0": 0.52,
          "y1": 0.52
         },
         {
          "line": {
           "color": "rgba(0,0,0, 0.25)",
           "width": 0.5
          },
          "type": "line",
          "x0": -1,
          "x1": 9,
          "y0": 0.53,
          "y1": 0.53
         },
         {
          "line": {
           "color": "rgba(0,0,0, 0.25)",
           "width": 0.5
          },
          "type": "line",
          "x0": -1,
          "x1": 9,
          "y0": 0.54,
          "y1": 0.54
         },
         {
          "line": {
           "color": "rgba(0,0,0, 0.25)",
           "width": 0.5
          },
          "type": "line",
          "x0": -1,
          "x1": 9,
          "y0": 0.55,
          "y1": 0.55
         },
         {
          "line": {
           "color": "rgba(0,0,0, 0.25)",
           "width": 0.5
          },
          "type": "line",
          "x0": -1,
          "x1": 9,
          "y0": 0.56,
          "y1": 0.56
         },
         {
          "line": {
           "color": "rgba(0,0,0, 0.25)",
           "width": 0.5
          },
          "type": "line",
          "x0": -1,
          "x1": 9,
          "y0": 0.5700000000000001,
          "y1": 0.5700000000000001
         },
         {
          "line": {
           "color": "rgba(0,0,0, 0.25)",
           "width": 0.5
          },
          "type": "line",
          "x0": -1,
          "x1": 9,
          "y0": 0.58,
          "y1": 0.58
         },
         {
          "line": {
           "color": "rgba(0,0,0, 0.25)",
           "width": 0.5
          },
          "type": "line",
          "x0": -1,
          "x1": 9,
          "y0": 0.59,
          "y1": 0.59
         },
         {
          "line": {
           "color": "rgba(0,0,0, 0.5)",
           "width": 1
          },
          "type": "line",
          "x0": -1,
          "x1": 9,
          "y0": 0.6,
          "y1": 0.6
         },
         {
          "line": {
           "color": "rgba(0,0,0, 0.25)",
           "width": 0.5
          },
          "type": "line",
          "x0": -1,
          "x1": 9,
          "y0": 0.61,
          "y1": 0.61
         },
         {
          "line": {
           "color": "rgba(0,0,0, 0.25)",
           "width": 0.5
          },
          "type": "line",
          "x0": -1,
          "x1": 9,
          "y0": 0.62,
          "y1": 0.62
         },
         {
          "line": {
           "color": "rgba(0,0,0, 0.25)",
           "width": 0.5
          },
          "type": "line",
          "x0": -1,
          "x1": 9,
          "y0": 0.63,
          "y1": 0.63
         },
         {
          "line": {
           "color": "rgba(0,0,0, 0.25)",
           "width": 0.5
          },
          "type": "line",
          "x0": -1,
          "x1": 9,
          "y0": 0.64,
          "y1": 0.64
         },
         {
          "line": {
           "color": "rgba(0,0,0, 0.25)",
           "width": 0.5
          },
          "type": "line",
          "x0": -1,
          "x1": 9,
          "y0": 0.65,
          "y1": 0.65
         },
         {
          "line": {
           "color": "rgba(0,0,0, 0.25)",
           "width": 0.5
          },
          "type": "line",
          "x0": -1,
          "x1": 9,
          "y0": 0.66,
          "y1": 0.66
         },
         {
          "line": {
           "color": "rgba(0,0,0, 0.25)",
           "width": 0.5
          },
          "type": "line",
          "x0": -1,
          "x1": 9,
          "y0": 0.67,
          "y1": 0.67
         },
         {
          "line": {
           "color": "rgba(0,0,0, 0.25)",
           "width": 0.5
          },
          "type": "line",
          "x0": -1,
          "x1": 9,
          "y0": 0.68,
          "y1": 0.68
         },
         {
          "line": {
           "color": "rgba(0,0,0, 0.25)",
           "width": 0.5
          },
          "type": "line",
          "x0": -1,
          "x1": 9,
          "y0": 0.6900000000000001,
          "y1": 0.6900000000000001
         },
         {
          "line": {
           "color": "rgba(0,0,0, 0.5)",
           "width": 1
          },
          "type": "line",
          "x0": -1,
          "x1": 9,
          "y0": 0.7000000000000001,
          "y1": 0.7000000000000001
         },
         {
          "line": {
           "color": "rgba(0,0,0, 0.25)",
           "width": 0.5
          },
          "type": "line",
          "x0": -1,
          "x1": 9,
          "y0": 0.71,
          "y1": 0.71
         },
         {
          "line": {
           "color": "rgba(0,0,0, 0.25)",
           "width": 0.5
          },
          "type": "line",
          "x0": -1,
          "x1": 9,
          "y0": 0.72,
          "y1": 0.72
         },
         {
          "line": {
           "color": "rgba(0,0,0, 0.25)",
           "width": 0.5
          },
          "type": "line",
          "x0": -1,
          "x1": 9,
          "y0": 0.73,
          "y1": 0.73
         },
         {
          "line": {
           "color": "rgba(0,0,0, 0.25)",
           "width": 0.5
          },
          "type": "line",
          "x0": -1,
          "x1": 9,
          "y0": 0.74,
          "y1": 0.74
         },
         {
          "line": {
           "color": "rgba(0,0,0, 0.25)",
           "width": 0.5
          },
          "type": "line",
          "x0": -1,
          "x1": 9,
          "y0": 0.75,
          "y1": 0.75
         },
         {
          "line": {
           "color": "rgba(0,0,0, 0.25)",
           "width": 0.5
          },
          "type": "line",
          "x0": -1,
          "x1": 9,
          "y0": 0.76,
          "y1": 0.76
         },
         {
          "line": {
           "color": "rgba(0,0,0, 0.25)",
           "width": 0.5
          },
          "type": "line",
          "x0": -1,
          "x1": 9,
          "y0": 0.77,
          "y1": 0.77
         },
         {
          "line": {
           "color": "rgba(0,0,0, 0.25)",
           "width": 0.5
          },
          "type": "line",
          "x0": -1,
          "x1": 9,
          "y0": 0.78,
          "y1": 0.78
         },
         {
          "line": {
           "color": "rgba(0,0,0, 0.25)",
           "width": 0.5
          },
          "type": "line",
          "x0": -1,
          "x1": 9,
          "y0": 0.79,
          "y1": 0.79
         },
         {
          "line": {
           "color": "rgba(0,0,0, 0.5)",
           "width": 1
          },
          "type": "line",
          "x0": -1,
          "x1": 9,
          "y0": 0.8,
          "y1": 0.8
         },
         {
          "line": {
           "color": "rgba(0,0,0, 0.25)",
           "width": 0.5
          },
          "type": "line",
          "x0": -1,
          "x1": 9,
          "y0": 0.81,
          "y1": 0.81
         },
         {
          "line": {
           "color": "rgba(0,0,0, 0.25)",
           "width": 0.5
          },
          "type": "line",
          "x0": -1,
          "x1": 9,
          "y0": 0.8200000000000001,
          "y1": 0.8200000000000001
         },
         {
          "line": {
           "color": "rgba(0,0,0, 0.25)",
           "width": 0.5
          },
          "type": "line",
          "x0": -1,
          "x1": 9,
          "y0": 0.8300000000000001,
          "y1": 0.8300000000000001
         },
         {
          "line": {
           "color": "rgba(0,0,0, 0.25)",
           "width": 0.5
          },
          "type": "line",
          "x0": -1,
          "x1": 9,
          "y0": 0.84,
          "y1": 0.84
         },
         {
          "line": {
           "color": "rgba(0,0,0, 0.25)",
           "width": 0.5
          },
          "type": "line",
          "x0": -1,
          "x1": 9,
          "y0": 0.85,
          "y1": 0.85
         },
         {
          "line": {
           "color": "rgba(0,0,0, 0.25)",
           "width": 0.5
          },
          "type": "line",
          "x0": -1,
          "x1": 9,
          "y0": 0.86,
          "y1": 0.86
         },
         {
          "line": {
           "color": "rgba(0,0,0, 0.25)",
           "width": 0.5
          },
          "type": "line",
          "x0": -1,
          "x1": 9,
          "y0": 0.87,
          "y1": 0.87
         },
         {
          "line": {
           "color": "rgba(0,0,0, 0.25)",
           "width": 0.5
          },
          "type": "line",
          "x0": -1,
          "x1": 9,
          "y0": 0.88,
          "y1": 0.88
         },
         {
          "line": {
           "color": "rgba(0,0,0, 0.25)",
           "width": 0.5
          },
          "type": "line",
          "x0": -1,
          "x1": 9,
          "y0": 0.89,
          "y1": 0.89
         },
         {
          "line": {
           "color": "rgba(0,0,0, 0.5)",
           "width": 1
          },
          "type": "line",
          "x0": -1,
          "x1": 9,
          "y0": 0.9,
          "y1": 0.9
         },
         {
          "line": {
           "color": "rgba(0,0,0, 0.25)",
           "width": 0.5
          },
          "type": "line",
          "x0": -1,
          "x1": 9,
          "y0": 0.91,
          "y1": 0.91
         },
         {
          "line": {
           "color": "rgba(0,0,0, 0.25)",
           "width": 0.5
          },
          "type": "line",
          "x0": -1,
          "x1": 9,
          "y0": 0.92,
          "y1": 0.92
         },
         {
          "line": {
           "color": "rgba(0,0,0, 0.25)",
           "width": 0.5
          },
          "type": "line",
          "x0": -1,
          "x1": 9,
          "y0": 0.93,
          "y1": 0.93
         },
         {
          "line": {
           "color": "rgba(0,0,0, 0.25)",
           "width": 0.5
          },
          "type": "line",
          "x0": -1,
          "x1": 9,
          "y0": 0.9400000000000001,
          "y1": 0.9400000000000001
         },
         {
          "line": {
           "color": "rgba(0,0,0, 0.25)",
           "width": 0.5
          },
          "type": "line",
          "x0": -1,
          "x1": 9,
          "y0": 0.9500000000000001,
          "y1": 0.9500000000000001
         },
         {
          "line": {
           "color": "rgba(0,0,0, 0.25)",
           "width": 0.5
          },
          "type": "line",
          "x0": -1,
          "x1": 9,
          "y0": 0.96,
          "y1": 0.96
         },
         {
          "line": {
           "color": "rgba(0,0,0, 0.25)",
           "width": 0.5
          },
          "type": "line",
          "x0": -1,
          "x1": 9,
          "y0": 0.97,
          "y1": 0.97
         },
         {
          "line": {
           "color": "rgba(0,0,0, 0.25)",
           "width": 0.5
          },
          "type": "line",
          "x0": -1,
          "x1": 9,
          "y0": 0.98,
          "y1": 0.98
         },
         {
          "line": {
           "color": "rgba(0,0,0, 0.25)",
           "width": 0.5
          },
          "type": "line",
          "x0": -1,
          "x1": 9,
          "y0": 0.99,
          "y1": 0.99
         },
         {
          "line": {
           "color": "rgba(0,0,0, 0.5)",
           "width": 1
          },
          "type": "line",
          "x0": -1,
          "x1": 9,
          "y0": 1,
          "y1": 1
         }
        ],
        "template": {
         "data": {
          "bar": [
           {
            "error_x": {
             "color": "#2a3f5f"
            },
            "error_y": {
             "color": "#2a3f5f"
            },
            "marker": {
             "line": {
              "color": "#E5ECF6",
              "width": 0.5
             },
             "pattern": {
              "fillmode": "overlay",
              "size": 10,
              "solidity": 0.2
             }
            },
            "type": "bar"
           }
          ],
          "barpolar": [
           {
            "marker": {
             "line": {
              "color": "#E5ECF6",
              "width": 0.5
             },
             "pattern": {
              "fillmode": "overlay",
              "size": 10,
              "solidity": 0.2
             }
            },
            "type": "barpolar"
           }
          ],
          "carpet": [
           {
            "aaxis": {
             "endlinecolor": "#2a3f5f",
             "gridcolor": "white",
             "linecolor": "white",
             "minorgridcolor": "white",
             "startlinecolor": "#2a3f5f"
            },
            "baxis": {
             "endlinecolor": "#2a3f5f",
             "gridcolor": "white",
             "linecolor": "white",
             "minorgridcolor": "white",
             "startlinecolor": "#2a3f5f"
            },
            "type": "carpet"
           }
          ],
          "choropleth": [
           {
            "colorbar": {
             "outlinewidth": 0,
             "ticks": ""
            },
            "type": "choropleth"
           }
          ],
          "contour": [
           {
            "colorbar": {
             "outlinewidth": 0,
             "ticks": ""
            },
            "colorscale": [
             [
              0,
              "#0d0887"
             ],
             [
              0.1111111111111111,
              "#46039f"
             ],
             [
              0.2222222222222222,
              "#7201a8"
             ],
             [
              0.3333333333333333,
              "#9c179e"
             ],
             [
              0.4444444444444444,
              "#bd3786"
             ],
             [
              0.5555555555555556,
              "#d8576b"
             ],
             [
              0.6666666666666666,
              "#ed7953"
             ],
             [
              0.7777777777777778,
              "#fb9f3a"
             ],
             [
              0.8888888888888888,
              "#fdca26"
             ],
             [
              1,
              "#f0f921"
             ]
            ],
            "type": "contour"
           }
          ],
          "contourcarpet": [
           {
            "colorbar": {
             "outlinewidth": 0,
             "ticks": ""
            },
            "type": "contourcarpet"
           }
          ],
          "heatmap": [
           {
            "colorbar": {
             "outlinewidth": 0,
             "ticks": ""
            },
            "colorscale": [
             [
              0,
              "#0d0887"
             ],
             [
              0.1111111111111111,
              "#46039f"
             ],
             [
              0.2222222222222222,
              "#7201a8"
             ],
             [
              0.3333333333333333,
              "#9c179e"
             ],
             [
              0.4444444444444444,
              "#bd3786"
             ],
             [
              0.5555555555555556,
              "#d8576b"
             ],
             [
              0.6666666666666666,
              "#ed7953"
             ],
             [
              0.7777777777777778,
              "#fb9f3a"
             ],
             [
              0.8888888888888888,
              "#fdca26"
             ],
             [
              1,
              "#f0f921"
             ]
            ],
            "type": "heatmap"
           }
          ],
          "heatmapgl": [
           {
            "colorbar": {
             "outlinewidth": 0,
             "ticks": ""
            },
            "colorscale": [
             [
              0,
              "#0d0887"
             ],
             [
              0.1111111111111111,
              "#46039f"
             ],
             [
              0.2222222222222222,
              "#7201a8"
             ],
             [
              0.3333333333333333,
              "#9c179e"
             ],
             [
              0.4444444444444444,
              "#bd3786"
             ],
             [
              0.5555555555555556,
              "#d8576b"
             ],
             [
              0.6666666666666666,
              "#ed7953"
             ],
             [
              0.7777777777777778,
              "#fb9f3a"
             ],
             [
              0.8888888888888888,
              "#fdca26"
             ],
             [
              1,
              "#f0f921"
             ]
            ],
            "type": "heatmapgl"
           }
          ],
          "histogram": [
           {
            "marker": {
             "pattern": {
              "fillmode": "overlay",
              "size": 10,
              "solidity": 0.2
             }
            },
            "type": "histogram"
           }
          ],
          "histogram2d": [
           {
            "colorbar": {
             "outlinewidth": 0,
             "ticks": ""
            },
            "colorscale": [
             [
              0,
              "#0d0887"
             ],
             [
              0.1111111111111111,
              "#46039f"
             ],
             [
              0.2222222222222222,
              "#7201a8"
             ],
             [
              0.3333333333333333,
              "#9c179e"
             ],
             [
              0.4444444444444444,
              "#bd3786"
             ],
             [
              0.5555555555555556,
              "#d8576b"
             ],
             [
              0.6666666666666666,
              "#ed7953"
             ],
             [
              0.7777777777777778,
              "#fb9f3a"
             ],
             [
              0.8888888888888888,
              "#fdca26"
             ],
             [
              1,
              "#f0f921"
             ]
            ],
            "type": "histogram2d"
           }
          ],
          "histogram2dcontour": [
           {
            "colorbar": {
             "outlinewidth": 0,
             "ticks": ""
            },
            "colorscale": [
             [
              0,
              "#0d0887"
             ],
             [
              0.1111111111111111,
              "#46039f"
             ],
             [
              0.2222222222222222,
              "#7201a8"
             ],
             [
              0.3333333333333333,
              "#9c179e"
             ],
             [
              0.4444444444444444,
              "#bd3786"
             ],
             [
              0.5555555555555556,
              "#d8576b"
             ],
             [
              0.6666666666666666,
              "#ed7953"
             ],
             [
              0.7777777777777778,
              "#fb9f3a"
             ],
             [
              0.8888888888888888,
              "#fdca26"
             ],
             [
              1,
              "#f0f921"
             ]
            ],
            "type": "histogram2dcontour"
           }
          ],
          "mesh3d": [
           {
            "colorbar": {
             "outlinewidth": 0,
             "ticks": ""
            },
            "type": "mesh3d"
           }
          ],
          "parcoords": [
           {
            "line": {
             "colorbar": {
              "outlinewidth": 0,
              "ticks": ""
             }
            },
            "type": "parcoords"
           }
          ],
          "pie": [
           {
            "automargin": true,
            "type": "pie"
           }
          ],
          "scatter": [
           {
            "fillpattern": {
             "fillmode": "overlay",
             "size": 10,
             "solidity": 0.2
            },
            "type": "scatter"
           }
          ],
          "scatter3d": [
           {
            "line": {
             "colorbar": {
              "outlinewidth": 0,
              "ticks": ""
             }
            },
            "marker": {
             "colorbar": {
              "outlinewidth": 0,
              "ticks": ""
             }
            },
            "type": "scatter3d"
           }
          ],
          "scattercarpet": [
           {
            "marker": {
             "colorbar": {
              "outlinewidth": 0,
              "ticks": ""
             }
            },
            "type": "scattercarpet"
           }
          ],
          "scattergeo": [
           {
            "marker": {
             "colorbar": {
              "outlinewidth": 0,
              "ticks": ""
             }
            },
            "type": "scattergeo"
           }
          ],
          "scattergl": [
           {
            "marker": {
             "colorbar": {
              "outlinewidth": 0,
              "ticks": ""
             }
            },
            "type": "scattergl"
           }
          ],
          "scattermapbox": [
           {
            "marker": {
             "colorbar": {
              "outlinewidth": 0,
              "ticks": ""
             }
            },
            "type": "scattermapbox"
           }
          ],
          "scatterpolar": [
           {
            "marker": {
             "colorbar": {
              "outlinewidth": 0,
              "ticks": ""
             }
            },
            "type": "scatterpolar"
           }
          ],
          "scatterpolargl": [
           {
            "marker": {
             "colorbar": {
              "outlinewidth": 0,
              "ticks": ""
             }
            },
            "type": "scatterpolargl"
           }
          ],
          "scatterternary": [
           {
            "marker": {
             "colorbar": {
              "outlinewidth": 0,
              "ticks": ""
             }
            },
            "type": "scatterternary"
           }
          ],
          "surface": [
           {
            "colorbar": {
             "outlinewidth": 0,
             "ticks": ""
            },
            "colorscale": [
             [
              0,
              "#0d0887"
             ],
             [
              0.1111111111111111,
              "#46039f"
             ],
             [
              0.2222222222222222,
              "#7201a8"
             ],
             [
              0.3333333333333333,
              "#9c179e"
             ],
             [
              0.4444444444444444,
              "#bd3786"
             ],
             [
              0.5555555555555556,
              "#d8576b"
             ],
             [
              0.6666666666666666,
              "#ed7953"
             ],
             [
              0.7777777777777778,
              "#fb9f3a"
             ],
             [
              0.8888888888888888,
              "#fdca26"
             ],
             [
              1,
              "#f0f921"
             ]
            ],
            "type": "surface"
           }
          ],
          "table": [
           {
            "cells": {
             "fill": {
              "color": "#EBF0F8"
             },
             "line": {
              "color": "white"
             }
            },
            "header": {
             "fill": {
              "color": "#C8D4E3"
             },
             "line": {
              "color": "white"
             }
            },
            "type": "table"
           }
          ]
         },
         "layout": {
          "annotationdefaults": {
           "arrowcolor": "#2a3f5f",
           "arrowhead": 0,
           "arrowwidth": 1
          },
          "autotypenumbers": "strict",
          "coloraxis": {
           "colorbar": {
            "outlinewidth": 0,
            "ticks": ""
           }
          },
          "colorscale": {
           "diverging": [
            [
             0,
             "#8e0152"
            ],
            [
             0.1,
             "#c51b7d"
            ],
            [
             0.2,
             "#de77ae"
            ],
            [
             0.3,
             "#f1b6da"
            ],
            [
             0.4,
             "#fde0ef"
            ],
            [
             0.5,
             "#f7f7f7"
            ],
            [
             0.6,
             "#e6f5d0"
            ],
            [
             0.7,
             "#b8e186"
            ],
            [
             0.8,
             "#7fbc41"
            ],
            [
             0.9,
             "#4d9221"
            ],
            [
             1,
             "#276419"
            ]
           ],
           "sequential": [
            [
             0,
             "#0d0887"
            ],
            [
             0.1111111111111111,
             "#46039f"
            ],
            [
             0.2222222222222222,
             "#7201a8"
            ],
            [
             0.3333333333333333,
             "#9c179e"
            ],
            [
             0.4444444444444444,
             "#bd3786"
            ],
            [
             0.5555555555555556,
             "#d8576b"
            ],
            [
             0.6666666666666666,
             "#ed7953"
            ],
            [
             0.7777777777777778,
             "#fb9f3a"
            ],
            [
             0.8888888888888888,
             "#fdca26"
            ],
            [
             1,
             "#f0f921"
            ]
           ],
           "sequentialminus": [
            [
             0,
             "#0d0887"
            ],
            [
             0.1111111111111111,
             "#46039f"
            ],
            [
             0.2222222222222222,
             "#7201a8"
            ],
            [
             0.3333333333333333,
             "#9c179e"
            ],
            [
             0.4444444444444444,
             "#bd3786"
            ],
            [
             0.5555555555555556,
             "#d8576b"
            ],
            [
             0.6666666666666666,
             "#ed7953"
            ],
            [
             0.7777777777777778,
             "#fb9f3a"
            ],
            [
             0.8888888888888888,
             "#fdca26"
            ],
            [
             1,
             "#f0f921"
            ]
           ]
          },
          "colorway": [
           "#636efa",
           "#EF553B",
           "#00cc96",
           "#ab63fa",
           "#FFA15A",
           "#19d3f3",
           "#FF6692",
           "#B6E880",
           "#FF97FF",
           "#FECB52"
          ],
          "font": {
           "color": "#2a3f5f"
          },
          "geo": {
           "bgcolor": "white",
           "lakecolor": "white",
           "landcolor": "#E5ECF6",
           "showlakes": true,
           "showland": true,
           "subunitcolor": "white"
          },
          "hoverlabel": {
           "align": "left"
          },
          "hovermode": "closest",
          "mapbox": {
           "style": "light"
          },
          "paper_bgcolor": "white",
          "plot_bgcolor": "#E5ECF6",
          "polar": {
           "angularaxis": {
            "gridcolor": "white",
            "linecolor": "white",
            "ticks": ""
           },
           "bgcolor": "#E5ECF6",
           "radialaxis": {
            "gridcolor": "white",
            "linecolor": "white",
            "ticks": ""
           }
          },
          "scene": {
           "xaxis": {
            "backgroundcolor": "#E5ECF6",
            "gridcolor": "white",
            "gridwidth": 2,
            "linecolor": "white",
            "showbackground": true,
            "ticks": "",
            "zerolinecolor": "white"
           },
           "yaxis": {
            "backgroundcolor": "#E5ECF6",
            "gridcolor": "white",
            "gridwidth": 2,
            "linecolor": "white",
            "showbackground": true,
            "ticks": "",
            "zerolinecolor": "white"
           },
           "zaxis": {
            "backgroundcolor": "#E5ECF6",
            "gridcolor": "white",
            "gridwidth": 2,
            "linecolor": "white",
            "showbackground": true,
            "ticks": "",
            "zerolinecolor": "white"
           }
          },
          "shapedefaults": {
           "line": {
            "color": "#2a3f5f"
           }
          },
          "ternary": {
           "aaxis": {
            "gridcolor": "white",
            "linecolor": "white",
            "ticks": ""
           },
           "baxis": {
            "gridcolor": "white",
            "linecolor": "white",
            "ticks": ""
           },
           "bgcolor": "#E5ECF6",
           "caxis": {
            "gridcolor": "white",
            "linecolor": "white",
            "ticks": ""
           }
          },
          "title": {
           "x": 0.05
          },
          "xaxis": {
           "automargin": true,
           "gridcolor": "white",
           "linecolor": "white",
           "ticks": "",
           "title": {
            "standoff": 15
           },
           "zerolinecolor": "white",
           "zerolinewidth": 2
          },
          "yaxis": {
           "automargin": true,
           "gridcolor": "white",
           "linecolor": "white",
           "ticks": "",
           "title": {
            "standoff": 15
           },
           "zerolinecolor": "white",
           "zerolinewidth": 2
          }
         }
        },
        "title": {
         "text": "Moyenne des F1 pour chaque personne, par catégorie d'information"
        },
        "width": 1000,
        "xaxis": {
         "tickfont": {
          "size": 14
         }
        },
        "yaxis": {
         "dtick": 0.1,
         "range": [
          0.5,
          1.05
         ],
         "tick0": 0,
         "tickcolor": "rgb(0,0,0)",
         "tickfont": {
          "size": 14
         },
         "ticklen": 10,
         "tickwidth": 1.5,
         "title": {
          "font": {
           "size": 16
          },
          "text": "F1 score"
         }
        }
       }
      }
     },
     "metadata": {},
     "output_type": "display_data"
    },
    {
     "data": {
      "text/html": [
       "<div>\n",
       "<style scoped>\n",
       "    .dataframe tbody tr th:only-of-type {\n",
       "        vertical-align: middle;\n",
       "    }\n",
       "\n",
       "    .dataframe tbody tr th {\n",
       "        vertical-align: top;\n",
       "    }\n",
       "\n",
       "    .dataframe thead th {\n",
       "        text-align: right;\n",
       "    }\n",
       "</style>\n",
       "<table border=\"1\" class=\"dataframe\">\n",
       "  <thead>\n",
       "    <tr style=\"text-align: right;\">\n",
       "      <th>tag</th>\n",
       "      <th>DATE</th>\n",
       "      <th>JOB</th>\n",
       "      <th>LOC</th>\n",
       "      <th>PER</th>\n",
       "    </tr>\n",
       "    <tr>\n",
       "      <th>people</th>\n",
       "      <th></th>\n",
       "      <th></th>\n",
       "      <th></th>\n",
       "      <th></th>\n",
       "    </tr>\n",
       "  </thead>\n",
       "  <tbody>\n",
       "    <tr>\n",
       "      <th>ADMIN</th>\n",
       "      <td>1.0</td>\n",
       "      <td>0</td>\n",
       "      <td>1.0</td>\n",
       "      <td>1.0</td>\n",
       "    </tr>\n",
       "    <tr>\n",
       "      <th>EX_EPOUX</th>\n",
       "      <td>0</td>\n",
       "      <td>0</td>\n",
       "      <td>0</td>\n",
       "      <td>1.0</td>\n",
       "    </tr>\n",
       "    <tr>\n",
       "      <th>MARI</th>\n",
       "      <td>1.0</td>\n",
       "      <td>1.0</td>\n",
       "      <td>0.988506</td>\n",
       "      <td>1.0</td>\n",
       "    </tr>\n",
       "    <tr>\n",
       "      <th>MARIEE</th>\n",
       "      <td>1.0</td>\n",
       "      <td>1.0</td>\n",
       "      <td>0.987234</td>\n",
       "      <td>0.986784</td>\n",
       "    </tr>\n",
       "    <tr>\n",
       "      <th>MERE_MARI</th>\n",
       "      <td>0</td>\n",
       "      <td>1.0</td>\n",
       "      <td>0.7</td>\n",
       "      <td>0.976744</td>\n",
       "    </tr>\n",
       "    <tr>\n",
       "      <th>MERE_MARIEE</th>\n",
       "      <td>0</td>\n",
       "      <td>1.0</td>\n",
       "      <td>0.925</td>\n",
       "      <td>0.992593</td>\n",
       "    </tr>\n",
       "    <tr>\n",
       "      <th>PERE_MARI</th>\n",
       "      <td>0</td>\n",
       "      <td>1.0</td>\n",
       "      <td>0.611111</td>\n",
       "      <td>1.0</td>\n",
       "    </tr>\n",
       "    <tr>\n",
       "      <th>PERE_MARIEE</th>\n",
       "      <td>0</td>\n",
       "      <td>1.0</td>\n",
       "      <td>0.835821</td>\n",
       "      <td>0.976744</td>\n",
       "    </tr>\n",
       "    <tr>\n",
       "      <th>TEMOIN</th>\n",
       "      <td>0</td>\n",
       "      <td>0.991597</td>\n",
       "      <td>0.968858</td>\n",
       "      <td>0.969359</td>\n",
       "    </tr>\n",
       "  </tbody>\n",
       "</table>\n",
       "</div>"
      ],
      "text/plain": [
       "tag         DATE       JOB       LOC       PER\n",
       "people                                        \n",
       "ADMIN        1.0         0       1.0       1.0\n",
       "EX_EPOUX       0         0         0       1.0\n",
       "MARI         1.0       1.0  0.988506       1.0\n",
       "MARIEE       1.0       1.0  0.987234  0.986784\n",
       "MERE_MARI      0       1.0       0.7  0.976744\n",
       "MERE_MARIEE    0       1.0     0.925  0.992593\n",
       "PERE_MARI      0       1.0  0.611111       1.0\n",
       "PERE_MARIEE    0       1.0  0.835821  0.976744\n",
       "TEMOIN         0  0.991597  0.968858  0.969359"
      ]
     },
     "execution_count": 3,
     "metadata": {},
     "output_type": "execute_result"
    }
   ],
   "source": [
    "def test2():\n",
    "    golden_set = {}\n",
    "    labels_set = {}\n",
    "\n",
    "    with open('donnees-test.json', 'r') as file:\n",
    "        golden_set = json.load(file)\n",
    "\n",
    "    for key in golden_set.keys():\n",
    "\n",
    "        ####Patch for Boolean, temporary\n",
    "        if isinstance(golden_set[key], bool):\n",
    "            continue\n",
    "        ################################\n",
    "\n",
    "        #golden_set[key] = golden_set[key].replace('-\\n', '').replace('\\n', ' ')\n",
    "\n",
    "    with open('donnees-test-labels-gpt35-paragraph-16k.json', 'r') as file:\n",
    "        labels_set = json.load(file)\n",
    "\n",
    "    results = {}\n",
    "    for archive in golden_set.keys():\n",
    "        if archive not in labels_set.keys():\n",
    "            #print('Archive ' + archive + ' not found in labels_set')\n",
    "            continue\n",
    "\n",
    "        f1_scores = f1_score(labels_set[archive], golden_set[archive]['questions'], 0.5)\n",
    "        results[archive] = f1_scores\n",
    "    \n",
    "    with open('results_extended.json', 'w') as file:\n",
    "        json.dump(results, file, indent=4)\n",
    "\n",
    "    scores = precision_recall(results, 0.5, False)\n",
    "    #save scores in a json file\n",
    "    with open('scores_extended.json', 'w') as file:\n",
    "        json.dump(scores, file, indent=4)\n",
    "    df = make_df(scores)\n",
    "    #plot(df)\n",
    "    return df\n",
    "\n",
    "df = test2()\n",
    "plot_average(df)\n",
    "plot_by_category(df)\n",
    "make_average_for_each_people()\n"
   ]
  },
  {
   "cell_type": "code",
   "execution_count": 4,
   "metadata": {},
   "outputs": [
    {
     "name": "stdout",
     "output_type": "stream",
     "text": [
      "done\n"
     ]
    }
   ],
   "source": [
    "errors = {}\n",
    "gpt = {}\n",
    "reference = {}\n",
    "with open('donnees-test.json', 'r') as file:\n",
    "    reference = json.load(file)\n",
    "\n",
    "with open('donnees-test-labels-gpt35-paragraph-16k.json', 'r') as file:\n",
    "    gpt = json.load(file)\n",
    "\n",
    "for acte in reference.keys():\n",
    "    if acte not in gpt.keys():\n",
    "        continue\n",
    "\n",
    "    errors[acte] = {}\n",
    "    for question in reference[acte]['questions'].keys():\n",
    "        #if type bool continue\n",
    "        if isinstance(reference[acte]['questions'][question], bool):\n",
    "            continue\n",
    "\n",
    "        if question not in gpt[acte].keys():\n",
    "            gpt[acte][question] = ''\n",
    "\n",
    "        if (Levenshtein.distance(reference[acte]['questions'][question], gpt[acte][question]) > 5) or ((reference[acte]['questions'][question] == '') and (gpt[acte][question] != '')) or ((reference[acte]['questions'][question] != '') and (gpt[acte][question] == '')):\n",
    "            errors[acte][question] = {}\n",
    "            errors[acte][question]['reference'] = reference[acte]['questions'][question]\n",
    "            errors[acte][question]['gpt'] = gpt[acte][question]\n",
    "\n",
    "with open('errors.json', 'w') as file:\n",
    "    json.dump(errors, file, indent=4)\n",
    "\n",
    "print('done')\n",
    "\n",
    "\n",
    "        \n"
   ]
  },
  {
   "cell_type": "code",
   "execution_count": 5,
   "metadata": {},
   "outputs": [],
   "source": [
    "def make_average_for_each_people():\n",
    "    donnees = {}\n",
    "    new_results = {}\n",
    "    with open(\"results_extended.json\", \"r\") as f:\n",
    "        donnees = json.load(f)\n",
    "\n",
    "    for archive in donnees:\n",
    "        arch_dict = {}\n",
    "        for people in donnees[archive]:\n",
    "            if people in ['MERE_MARIEE', 'PERE_MARIEE', 'EX_EPOUX', 'PERE_MARI', 'MERE_MARI', 'ADMIN', 'MARIEE', 'MARI', 'TEMOIN']:\n",
    "                details = donnees[archive][people]['details']\n",
    "                arch_dict[people] = details\n",
    "        \n",
    "        if new_results == {}:\n",
    "            new_results = arch_dict\n",
    "        else:\n",
    "\n",
    "            def merge_dicts(a, b, op=sum):\n",
    "                \"\"\"Merge dictionaries and apply an operator to duplicate keys' values.\"\"\"\n",
    "                result = {}\n",
    "                for key in a.keys() | b.keys():\n",
    "                    if key in a and key in b:\n",
    "                        if isinstance(a[key], dict) and isinstance(b[key], dict):\n",
    "                            result[key] = merge_dicts(a[key], b[key], op)\n",
    "                        else:\n",
    "                            result[key] = op([a[key], b[key]])\n",
    "                    elif key in a:\n",
    "                        result[key] = a[key]\n",
    "                    elif key in b:\n",
    "                        result[key] = b[key]\n",
    "                return result\n",
    "            \n",
    "            new_results = merge_dicts(new_results, arch_dict, op=sum)\n",
    "\n",
    "    #save the new results\n",
    "    with open(\"results_extended_details.json\", \"w\") as f:\n",
    "        json.dump(new_results, f, indent=4)\n",
    "\n",
    "    detailes_f1 = {}\n",
    "    for people in new_results:\n",
    "        detailes_f1[people] = {}\n",
    "        for tag in new_results[people]:\n",
    "            detailes_f1[people][tag] = {}\n",
    "\n",
    "            detailes_f1[people][tag]['count'] = new_results[people][tag]['TOTAL'] - new_results[people][tag]['TN']\n",
    "\n",
    "    #save the new results\n",
    "    with open(\"scores_extended_details.json\", \"w\") as f:\n",
    "        json.dump(detailes_f1, f, indent=4)\n",
    "\n",
    "    #create a dataframe with the new results.\n",
    "    #index :[per,loc,date,job]\n",
    "    #columns : [PERE_MARI, MERE_MARI, MARI, MARIEE, EX_EPOUX, TEMOIN, ADMIN]\n",
    "    df = pd.DataFrame(columns=['PERE_MARI', 'MERE_MARI', 'MARI', 'MARIEE', 'EX_EPOUX', 'TEMOIN', 'ADMIN'])\n",
    "    for tag in detailes_f1['PERE_MARI']:\n",
    "        df.loc[tag] = [detailes_f1['PERE_MARI'][tag]['count'], detailes_f1['MERE_MARI'][tag]['count'], detailes_f1['MARI'][tag]['count'], detailes_f1['MARIEE'][tag]['count'], detailes_f1['EX_EPOUX'][tag]['count'], detailes_f1['TEMOIN'][tag]['count'], detailes_f1['ADMIN'][tag]['count']]\n",
    "\n",
    "    \n",
    "\n",
    "\n",
    "    return df"
   ]
  },
  {
   "cell_type": "code",
   "execution_count": 6,
   "metadata": {},
   "outputs": [
    {
     "name": "stdout",
     "output_type": "stream",
     "text": [
      "1564\n"
     ]
    }
   ],
   "source": [
    "df = make_average_for_each_people()\n",
    "total = df.sum(axis=0).sum()\n",
    "print(total)\n",
    "df = df.div(total)\n",
    "#fill nan values with 0\n",
    "df = df.fillna(0)\n"
   ]
  },
  {
   "cell_type": "code",
   "execution_count": 7,
   "metadata": {},
   "outputs": [
    {
     "data": {
      "application/vnd.plotly.v1+json": {
       "config": {
        "plotlyServerURL": "https://plot.ly"
       },
       "data": [
        {
         "coloraxis": "coloraxis",
         "hovertemplate": "People: %{x}<br>Tag: %{y}<br>Pourcentage: %{z}<extra></extra>",
         "name": "0",
         "type": "heatmap",
         "x": [
          "PERE_MARI",
          "MERE_MARI",
          "MARI",
          "MARIEE",
          "EX_EPOUX",
          "TEMOIN",
          "ADMIN"
         ],
         "xaxis": "x",
         "y": [
          "LOC",
          "JOB",
          "DATE",
          "PER"
         ],
         "yaxis": "y",
         "z": [
          [
           0.015345268542199489,
           0.024296675191815855,
           0.08439897698209718,
           0.07608695652173914,
           0,
           0.09526854219948849,
           0.01918158567774936
          ],
          [
           0.008312020460358057,
           0.010230179028132993,
           0.01854219948849105,
           0.01854219948849105,
           0,
           0.03836317135549872,
           0
          ],
          [
           0,
           0,
           0.055626598465473145,
           0.055626598465473145,
           0,
           0,
           0.09143222506393862
          ],
          [
           0.0370843989769821,
           0.04219948849104859,
           0.07289002557544758,
           0.07289002557544758,
           0.008951406649616368,
           0.11636828644501279,
           0.03836317135549872
          ]
         ]
        }
       ],
       "layout": {
        "coloraxis": {
         "colorbar": {
          "title": {
           "text": "Pourcentage"
          }
         },
         "colorscale": [
          [
           0,
           "rgb(247,251,255)"
          ],
          [
           0.125,
           "rgb(222,235,247)"
          ],
          [
           0.25,
           "rgb(198,219,239)"
          ],
          [
           0.375,
           "rgb(158,202,225)"
          ],
          [
           0.5,
           "rgb(107,174,214)"
          ],
          [
           0.625,
           "rgb(66,146,198)"
          ],
          [
           0.75,
           "rgb(33,113,181)"
          ],
          [
           0.875,
           "rgb(8,81,156)"
          ],
          [
           1,
           "rgb(8,48,107)"
          ]
         ]
        },
        "margin": {
         "t": 60
        },
        "template": {
         "data": {
          "bar": [
           {
            "error_x": {
             "color": "#2a3f5f"
            },
            "error_y": {
             "color": "#2a3f5f"
            },
            "marker": {
             "line": {
              "color": "#E5ECF6",
              "width": 0.5
             },
             "pattern": {
              "fillmode": "overlay",
              "size": 10,
              "solidity": 0.2
             }
            },
            "type": "bar"
           }
          ],
          "barpolar": [
           {
            "marker": {
             "line": {
              "color": "#E5ECF6",
              "width": 0.5
             },
             "pattern": {
              "fillmode": "overlay",
              "size": 10,
              "solidity": 0.2
             }
            },
            "type": "barpolar"
           }
          ],
          "carpet": [
           {
            "aaxis": {
             "endlinecolor": "#2a3f5f",
             "gridcolor": "white",
             "linecolor": "white",
             "minorgridcolor": "white",
             "startlinecolor": "#2a3f5f"
            },
            "baxis": {
             "endlinecolor": "#2a3f5f",
             "gridcolor": "white",
             "linecolor": "white",
             "minorgridcolor": "white",
             "startlinecolor": "#2a3f5f"
            },
            "type": "carpet"
           }
          ],
          "choropleth": [
           {
            "colorbar": {
             "outlinewidth": 0,
             "ticks": ""
            },
            "type": "choropleth"
           }
          ],
          "contour": [
           {
            "colorbar": {
             "outlinewidth": 0,
             "ticks": ""
            },
            "colorscale": [
             [
              0,
              "#0d0887"
             ],
             [
              0.1111111111111111,
              "#46039f"
             ],
             [
              0.2222222222222222,
              "#7201a8"
             ],
             [
              0.3333333333333333,
              "#9c179e"
             ],
             [
              0.4444444444444444,
              "#bd3786"
             ],
             [
              0.5555555555555556,
              "#d8576b"
             ],
             [
              0.6666666666666666,
              "#ed7953"
             ],
             [
              0.7777777777777778,
              "#fb9f3a"
             ],
             [
              0.8888888888888888,
              "#fdca26"
             ],
             [
              1,
              "#f0f921"
             ]
            ],
            "type": "contour"
           }
          ],
          "contourcarpet": [
           {
            "colorbar": {
             "outlinewidth": 0,
             "ticks": ""
            },
            "type": "contourcarpet"
           }
          ],
          "heatmap": [
           {
            "colorbar": {
             "outlinewidth": 0,
             "ticks": ""
            },
            "colorscale": [
             [
              0,
              "#0d0887"
             ],
             [
              0.1111111111111111,
              "#46039f"
             ],
             [
              0.2222222222222222,
              "#7201a8"
             ],
             [
              0.3333333333333333,
              "#9c179e"
             ],
             [
              0.4444444444444444,
              "#bd3786"
             ],
             [
              0.5555555555555556,
              "#d8576b"
             ],
             [
              0.6666666666666666,
              "#ed7953"
             ],
             [
              0.7777777777777778,
              "#fb9f3a"
             ],
             [
              0.8888888888888888,
              "#fdca26"
             ],
             [
              1,
              "#f0f921"
             ]
            ],
            "type": "heatmap"
           }
          ],
          "heatmapgl": [
           {
            "colorbar": {
             "outlinewidth": 0,
             "ticks": ""
            },
            "colorscale": [
             [
              0,
              "#0d0887"
             ],
             [
              0.1111111111111111,
              "#46039f"
             ],
             [
              0.2222222222222222,
              "#7201a8"
             ],
             [
              0.3333333333333333,
              "#9c179e"
             ],
             [
              0.4444444444444444,
              "#bd3786"
             ],
             [
              0.5555555555555556,
              "#d8576b"
             ],
             [
              0.6666666666666666,
              "#ed7953"
             ],
             [
              0.7777777777777778,
              "#fb9f3a"
             ],
             [
              0.8888888888888888,
              "#fdca26"
             ],
             [
              1,
              "#f0f921"
             ]
            ],
            "type": "heatmapgl"
           }
          ],
          "histogram": [
           {
            "marker": {
             "pattern": {
              "fillmode": "overlay",
              "size": 10,
              "solidity": 0.2
             }
            },
            "type": "histogram"
           }
          ],
          "histogram2d": [
           {
            "colorbar": {
             "outlinewidth": 0,
             "ticks": ""
            },
            "colorscale": [
             [
              0,
              "#0d0887"
             ],
             [
              0.1111111111111111,
              "#46039f"
             ],
             [
              0.2222222222222222,
              "#7201a8"
             ],
             [
              0.3333333333333333,
              "#9c179e"
             ],
             [
              0.4444444444444444,
              "#bd3786"
             ],
             [
              0.5555555555555556,
              "#d8576b"
             ],
             [
              0.6666666666666666,
              "#ed7953"
             ],
             [
              0.7777777777777778,
              "#fb9f3a"
             ],
             [
              0.8888888888888888,
              "#fdca26"
             ],
             [
              1,
              "#f0f921"
             ]
            ],
            "type": "histogram2d"
           }
          ],
          "histogram2dcontour": [
           {
            "colorbar": {
             "outlinewidth": 0,
             "ticks": ""
            },
            "colorscale": [
             [
              0,
              "#0d0887"
             ],
             [
              0.1111111111111111,
              "#46039f"
             ],
             [
              0.2222222222222222,
              "#7201a8"
             ],
             [
              0.3333333333333333,
              "#9c179e"
             ],
             [
              0.4444444444444444,
              "#bd3786"
             ],
             [
              0.5555555555555556,
              "#d8576b"
             ],
             [
              0.6666666666666666,
              "#ed7953"
             ],
             [
              0.7777777777777778,
              "#fb9f3a"
             ],
             [
              0.8888888888888888,
              "#fdca26"
             ],
             [
              1,
              "#f0f921"
             ]
            ],
            "type": "histogram2dcontour"
           }
          ],
          "mesh3d": [
           {
            "colorbar": {
             "outlinewidth": 0,
             "ticks": ""
            },
            "type": "mesh3d"
           }
          ],
          "parcoords": [
           {
            "line": {
             "colorbar": {
              "outlinewidth": 0,
              "ticks": ""
             }
            },
            "type": "parcoords"
           }
          ],
          "pie": [
           {
            "automargin": true,
            "type": "pie"
           }
          ],
          "scatter": [
           {
            "fillpattern": {
             "fillmode": "overlay",
             "size": 10,
             "solidity": 0.2
            },
            "type": "scatter"
           }
          ],
          "scatter3d": [
           {
            "line": {
             "colorbar": {
              "outlinewidth": 0,
              "ticks": ""
             }
            },
            "marker": {
             "colorbar": {
              "outlinewidth": 0,
              "ticks": ""
             }
            },
            "type": "scatter3d"
           }
          ],
          "scattercarpet": [
           {
            "marker": {
             "colorbar": {
              "outlinewidth": 0,
              "ticks": ""
             }
            },
            "type": "scattercarpet"
           }
          ],
          "scattergeo": [
           {
            "marker": {
             "colorbar": {
              "outlinewidth": 0,
              "ticks": ""
             }
            },
            "type": "scattergeo"
           }
          ],
          "scattergl": [
           {
            "marker": {
             "colorbar": {
              "outlinewidth": 0,
              "ticks": ""
             }
            },
            "type": "scattergl"
           }
          ],
          "scattermapbox": [
           {
            "marker": {
             "colorbar": {
              "outlinewidth": 0,
              "ticks": ""
             }
            },
            "type": "scattermapbox"
           }
          ],
          "scatterpolar": [
           {
            "marker": {
             "colorbar": {
              "outlinewidth": 0,
              "ticks": ""
             }
            },
            "type": "scatterpolar"
           }
          ],
          "scatterpolargl": [
           {
            "marker": {
             "colorbar": {
              "outlinewidth": 0,
              "ticks": ""
             }
            },
            "type": "scatterpolargl"
           }
          ],
          "scatterternary": [
           {
            "marker": {
             "colorbar": {
              "outlinewidth": 0,
              "ticks": ""
             }
            },
            "type": "scatterternary"
           }
          ],
          "surface": [
           {
            "colorbar": {
             "outlinewidth": 0,
             "ticks": ""
            },
            "colorscale": [
             [
              0,
              "#0d0887"
             ],
             [
              0.1111111111111111,
              "#46039f"
             ],
             [
              0.2222222222222222,
              "#7201a8"
             ],
             [
              0.3333333333333333,
              "#9c179e"
             ],
             [
              0.4444444444444444,
              "#bd3786"
             ],
             [
              0.5555555555555556,
              "#d8576b"
             ],
             [
              0.6666666666666666,
              "#ed7953"
             ],
             [
              0.7777777777777778,
              "#fb9f3a"
             ],
             [
              0.8888888888888888,
              "#fdca26"
             ],
             [
              1,
              "#f0f921"
             ]
            ],
            "type": "surface"
           }
          ],
          "table": [
           {
            "cells": {
             "fill": {
              "color": "#EBF0F8"
             },
             "line": {
              "color": "white"
             }
            },
            "header": {
             "fill": {
              "color": "#C8D4E3"
             },
             "line": {
              "color": "white"
             }
            },
            "type": "table"
           }
          ]
         },
         "layout": {
          "annotationdefaults": {
           "arrowcolor": "#2a3f5f",
           "arrowhead": 0,
           "arrowwidth": 1
          },
          "autotypenumbers": "strict",
          "coloraxis": {
           "colorbar": {
            "outlinewidth": 0,
            "ticks": ""
           }
          },
          "colorscale": {
           "diverging": [
            [
             0,
             "#8e0152"
            ],
            [
             0.1,
             "#c51b7d"
            ],
            [
             0.2,
             "#de77ae"
            ],
            [
             0.3,
             "#f1b6da"
            ],
            [
             0.4,
             "#fde0ef"
            ],
            [
             0.5,
             "#f7f7f7"
            ],
            [
             0.6,
             "#e6f5d0"
            ],
            [
             0.7,
             "#b8e186"
            ],
            [
             0.8,
             "#7fbc41"
            ],
            [
             0.9,
             "#4d9221"
            ],
            [
             1,
             "#276419"
            ]
           ],
           "sequential": [
            [
             0,
             "#0d0887"
            ],
            [
             0.1111111111111111,
             "#46039f"
            ],
            [
             0.2222222222222222,
             "#7201a8"
            ],
            [
             0.3333333333333333,
             "#9c179e"
            ],
            [
             0.4444444444444444,
             "#bd3786"
            ],
            [
             0.5555555555555556,
             "#d8576b"
            ],
            [
             0.6666666666666666,
             "#ed7953"
            ],
            [
             0.7777777777777778,
             "#fb9f3a"
            ],
            [
             0.8888888888888888,
             "#fdca26"
            ],
            [
             1,
             "#f0f921"
            ]
           ],
           "sequentialminus": [
            [
             0,
             "#0d0887"
            ],
            [
             0.1111111111111111,
             "#46039f"
            ],
            [
             0.2222222222222222,
             "#7201a8"
            ],
            [
             0.3333333333333333,
             "#9c179e"
            ],
            [
             0.4444444444444444,
             "#bd3786"
            ],
            [
             0.5555555555555556,
             "#d8576b"
            ],
            [
             0.6666666666666666,
             "#ed7953"
            ],
            [
             0.7777777777777778,
             "#fb9f3a"
            ],
            [
             0.8888888888888888,
             "#fdca26"
            ],
            [
             1,
             "#f0f921"
            ]
           ]
          },
          "colorway": [
           "#636efa",
           "#EF553B",
           "#00cc96",
           "#ab63fa",
           "#FFA15A",
           "#19d3f3",
           "#FF6692",
           "#B6E880",
           "#FF97FF",
           "#FECB52"
          ],
          "font": {
           "color": "#2a3f5f"
          },
          "geo": {
           "bgcolor": "white",
           "lakecolor": "white",
           "landcolor": "#E5ECF6",
           "showlakes": true,
           "showland": true,
           "subunitcolor": "white"
          },
          "hoverlabel": {
           "align": "left"
          },
          "hovermode": "closest",
          "mapbox": {
           "style": "light"
          },
          "paper_bgcolor": "white",
          "plot_bgcolor": "#E5ECF6",
          "polar": {
           "angularaxis": {
            "gridcolor": "white",
            "linecolor": "white",
            "ticks": ""
           },
           "bgcolor": "#E5ECF6",
           "radialaxis": {
            "gridcolor": "white",
            "linecolor": "white",
            "ticks": ""
           }
          },
          "scene": {
           "xaxis": {
            "backgroundcolor": "#E5ECF6",
            "gridcolor": "white",
            "gridwidth": 2,
            "linecolor": "white",
            "showbackground": true,
            "ticks": "",
            "zerolinecolor": "white"
           },
           "yaxis": {
            "backgroundcolor": "#E5ECF6",
            "gridcolor": "white",
            "gridwidth": 2,
            "linecolor": "white",
            "showbackground": true,
            "ticks": "",
            "zerolinecolor": "white"
           },
           "zaxis": {
            "backgroundcolor": "#E5ECF6",
            "gridcolor": "white",
            "gridwidth": 2,
            "linecolor": "white",
            "showbackground": true,
            "ticks": "",
            "zerolinecolor": "white"
           }
          },
          "shapedefaults": {
           "line": {
            "color": "#2a3f5f"
           }
          },
          "ternary": {
           "aaxis": {
            "gridcolor": "white",
            "linecolor": "white",
            "ticks": ""
           },
           "baxis": {
            "gridcolor": "white",
            "linecolor": "white",
            "ticks": ""
           },
           "bgcolor": "#E5ECF6",
           "caxis": {
            "gridcolor": "white",
            "linecolor": "white",
            "ticks": ""
           }
          },
          "title": {
           "x": 0.05
          },
          "xaxis": {
           "automargin": true,
           "gridcolor": "white",
           "linecolor": "white",
           "ticks": "",
           "title": {
            "standoff": 15
           },
           "zerolinecolor": "white",
           "zerolinewidth": 2
          },
          "yaxis": {
           "automargin": true,
           "gridcolor": "white",
           "linecolor": "white",
           "ticks": "",
           "title": {
            "standoff": 15
           },
           "zerolinecolor": "white",
           "zerolinewidth": 2
          }
         }
        },
        "title": {
         "text": "Répartition des informations par personnes et par catégorie d'information"
        },
        "xaxis": {
         "anchor": "y",
         "constrain": "domain",
         "domain": [
          0,
          1
         ],
         "scaleanchor": "y",
         "title": {
          "text": "Personnes"
         }
        },
        "yaxis": {
         "anchor": "x",
         "autorange": "reversed",
         "constrain": "domain",
         "domain": [
          0,
          1
         ],
         "title": {
          "text": "Catégorie d'information"
         }
        }
       }
      }
     },
     "metadata": {},
     "output_type": "display_data"
    }
   ],
   "source": [
    "#with plotly express show the dataframe as a heatmap\n",
    "fig = px.imshow(df, labels=dict(x=\"People\", y=\"Tag\", color=\"Pourcentage\"), x=['PERE_MARI', 'MERE_MARI', 'MARI', 'MARIEE', 'EX_EPOUX', 'TEMOIN', 'ADMIN'], y=df.index, color_continuous_scale='Blues')\n",
    "#shows 0 in black\n",
    "fig.update_layout(title=\"Répartition des informations par personnes et par catégorie d'information\")\n",
    "#rename tag as information\n",
    "fig.update_xaxes(title_text=\"Personnes\")\n",
    "fig.update_yaxes(title_text=\"Catégorie d'information\")\n",
    "\n",
    "\n",
    "fig.show()"
   ]
  },
  {
   "cell_type": "code",
   "execution_count": null,
   "metadata": {},
   "outputs": [],
   "source": []
  }
 ],
 "metadata": {
  "kernelspec": {
   "display_name": "Python 3",
   "language": "python",
   "name": "python3"
  },
  "language_info": {
   "codemirror_mode": {
    "name": "ipython",
    "version": 3
   },
   "file_extension": ".py",
   "mimetype": "text/x-python",
   "name": "python",
   "nbconvert_exporter": "python",
   "pygments_lexer": "ipython3",
   "version": "3.11.3"
  },
  "orig_nbformat": 4
 },
 "nbformat": 4,
 "nbformat_minor": 2
}
