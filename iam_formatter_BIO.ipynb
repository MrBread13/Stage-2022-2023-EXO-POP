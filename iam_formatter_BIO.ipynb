{
 "cells": [
  {
   "cell_type": "code",
   "execution_count": 49,
   "metadata": {},
   "outputs": [],
   "source": [
    "LABEL_EQUIVALENCES = {\n",
    "    'C' : 'CARDINAL',\n",
    "    'L' : 'LOCATION',\n",
    "    'G' : 'ORGANIZATION',\n",
    "    'P' : 'PERSON',\n",
    "    'O' : 'O',\n",
    "    'N' : 'NORP',\n",
    "    'T' : 'TIME'\n",
    "}\n"
   ]
  },
  {
   "cell_type": "code",
   "execution_count": 50,
   "metadata": {},
   "outputs": [],
   "source": [
    "import os\n",
    "import json\n",
    "import pandas as pd\n",
    "import numpy as np\n",
    "import re\n",
    "\n",
    "def split_line(line):\n",
    "    line = line[0].split(' ')\n",
    "    return line[:1] + [' '.join(line[8:])]\n",
    "\n",
    "def df_to_BIO(df, path):\n",
    "    \"\"\"Custom to_string function. Adds \\n after each sentence\n",
    "\n",
    "    Args:\n",
    "        df (_type_): _description_\n",
    "        path (_type_): _description_\n",
    "    \"\"\"\n",
    "    with open(path, 'w') as f:\n",
    "        for index, row in df.iterrows():\n",
    "            f.write(f\"{row['word']} {row['label']}\\n\")\n",
    "            if row['word'] in ['.', '?', '!']:\n",
    "                f.write('\\n')\n",
    "                    \n",
    "    return\n",
    "\n",
    "def format_to_BIO(words_path : str, label_path : str, output_path : str , subsets : list, label_count : int):\n",
    "    \"\"\"\n",
    "    Converts the IAM dataset to BIO format\n",
    "    \"\"\"\n",
    "    labels = pd.DataFrame()\n",
    "    for sub in subsets:\n",
    "        tmp = pd.read_csv(f'{label_path}/iam_{sub}_rwth_{label_count}_all.txt', sep=' ', header=None, names=['index', 'label'])\n",
    "        tmp['set'] = sub\n",
    "        labels = pd.concat([labels,tmp])\n",
    "        \n",
    "    labels = labels.reset_index(drop=True)\n",
    "\n",
    "    #create a mask for labels O\n",
    "    mask = labels['label'] == 'O'\n",
    "    #for each label replace it with 'B-' + label or 'I-' + label if it is the same as the previous label. use np.where and shift\n",
    "    labels = labels.replace({'label': LABEL_EQUIVALENCES})\n",
    "    labels['label'] = np.where(labels['label'] == labels['label'].shift(1), 'I-' + labels['label'], 'B-' + labels['label'])\n",
    "    #replace all labels O with 'O'\n",
    "    labels['label'] = np.where(mask, 'O', labels['label'])\n",
    "\n",
    "    #read the words file\n",
    "    words_tmp = pd.read_csv(words_path, comment='#', sep='_', header=None)\n",
    "    words_tmp = words_tmp.apply(lambda x : split_line(x), axis=1)\n",
    "    words = pd.DataFrame(words_tmp.values.tolist(), columns=['index', 'word'])\n",
    "\n",
    "    #merge the labels and words on index\n",
    "    words = pd.merge(words, labels, on='index').drop(columns=['index'])\n",
    "\n",
    "    #if word is in ['.', '?', '!'], add \\n after the label\n",
    "    #words['label'] = np.where(words['word'].isin(['.', '?', '!']), words['label'] + '\\n\\n', words['label'])\n",
    "\n",
    "\n",
    "    #for each subset create a new file called iam_{subset}_rwth_{label_count}_all_MIO.txt in the output_path folder\n",
    "    for sub in subsets:\n",
    "        #words[words.set == sub].drop(columns='set').to_string(output_path + f'/iam_{sub}_rwth_{label_count}_all_BIO.txt', index=False, header=False)\n",
    "        df_to_BIO(words[words.set == sub].drop(columns='set'), output_path + f'/iam_{sub}_rwth_{label_count}_all_BIO.txt')\n",
    "        \n",
    "    return\n",
    "\n",
    "\n"
   ]
  },
  {
   "cell_type": "code",
   "execution_count": 51,
   "metadata": {},
   "outputs": [],
   "source": [
    "words_path = 'words.txt'\n",
    "label_path = 'entités nommées/rwth'\n",
    "output_path = 'BIO_FLAIR_FORMAT'\n",
    "subsets = ['train', 'test', 'valid']\n",
    "label_count = 6\n",
    "format_to_BIO(words_path, label_path, output_path, subsets, label_count)"
   ]
  },
  {
   "cell_type": "code",
   "execution_count": null,
   "metadata": {},
   "outputs": [],
   "source": []
  }
 ],
 "metadata": {
  "kernelspec": {
   "display_name": "Python 3",
   "language": "python",
   "name": "python3"
  },
  "language_info": {
   "codemirror_mode": {
    "name": "ipython",
    "version": 3
   },
   "file_extension": ".py",
   "mimetype": "text/x-python",
   "name": "python",
   "nbconvert_exporter": "python",
   "pygments_lexer": "ipython3",
   "version": "3.10.6"
  },
  "orig_nbformat": 4,
  "vscode": {
   "interpreter": {
    "hash": "8a94588eda9d64d9e9a351ab8144e55b1fabf5113b54e67dd26a8c27df0381b3"
   }
  }
 },
 "nbformat": 4,
 "nbformat_minor": 2
}
